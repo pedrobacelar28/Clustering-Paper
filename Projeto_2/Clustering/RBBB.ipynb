{
 "cells": [
  {
   "cell_type": "code",
   "execution_count": 1,
   "metadata": {},
   "outputs": [
    {
     "name": "stderr",
     "output_type": "stream",
     "text": [
      "c:\\Users\\luisa\\AppData\\Local\\Programs\\Python\\Python312\\Lib\\site-packages\\tqdm\\auto.py:21: TqdmWarning: IProgress not found. Please update jupyter and ipywidgets. See https://ipywidgets.readthedocs.io/en/stable/user_install.html\n",
      "  from .autonotebook import tqdm as notebook_tqdm\n"
     ]
    }
   ],
   "source": [
    "#IMPORTS\n",
    "import warnings\n",
    "import pandas as pd\n",
    "import h5py\n",
    "from sklearn.cluster import DBSCAN\n",
    "from sklearn.preprocessing import StandardScaler\n",
    "import numpy as np\n",
    "import sys\n",
    "import os\n",
    "import scipy.signal as sgn\n",
    "import matplotlib.pyplot as plt\n",
    "import random\n",
    "from sklearn.manifold import TSNE\n",
    "import umap\n",
    "from sklearn.metrics import silhouette_score\n",
    "import hdbscan\n",
    "import sklearn.cluster as cluster\n",
    "from sklearn.metrics import adjusted_rand_score, adjusted_mutual_info_score\n",
    "from sklearn.cluster import HDBSCAN\n",
    "from tensorflow.keras.models import load_model\n",
    "import tensorflow as tf\n",
    "from tensorflow.keras.layers import Conv1D, Conv1DTranspose, BatchNormalization, ELU, Input\n",
    "from tensorflow.keras.models import Model\n",
    "from sklearn.cluster import KMeans\n",
    "import matplotlib.pyplot as plt\n",
    "from matplotlib.colors import ListedColormap, BoundaryNorm\n",
    "sys.path.append('../Pre-processing')  \n",
    "from filters import ecg_filtrado"
   ]
  },
  {
   "cell_type": "code",
   "execution_count": 2,
   "metadata": {},
   "outputs": [],
   "source": [
    "autoencoder = tf.keras.models.load_model('../Guilherme/modelos/RBBB/autoencoder_model_V1V6RBBB.keras')"
   ]
  },
  {
   "cell_type": "code",
   "execution_count": 3,
   "metadata": {},
   "outputs": [
    {
     "name": "stdout",
     "output_type": "stream",
     "text": [
      "Número de linhas ecg_normal_linhas: 134657\n",
      "Número de linhas ecg_doente_linhas: 7685\n",
      "Tirando Interferência:\n",
      "Número de linhas ecg_normal_linhas: 130871\n",
      "Número de linhas ecg_doente_linhas: 7566\n",
      "Número de ecgs pra clusterizar: 27566\n"
     ]
    }
   ],
   "source": [
    "#CARREGAR OS DADOS\n",
    "caminho_arquivo = \"../Database/exams.csv\"\n",
    "dados = pd.read_csv(caminho_arquivo)\n",
    "arquivos_usados = [\"exams_part0.hdf5\", \"exams_part1.hdf5\",\n",
    "                   \"exams_part2.hdf5\", \"exams_part3.hdf5\", \"exams_part4.hdf5\", \"exams_part5.hdf5\",\n",
    "                   \"exams_part6.hdf5\", \"exams_part7.hdf5\", \"exams_part8.hdf5\", \"exams_part9.hdf5\",\n",
    "                   \"exams_part10.hdf5\", \"exams_part11.hdf5\", \"exams_part12.hdf5\", \"exams_part13.hdf5\", \n",
    "                   \"exams_part14.hdf5\", \"exams_part15.hdf5\", \"exams_part16.hdf5\", \"exams_part17.hdf5\"]\n",
    "\n",
    "ecg_normal_linhas = dados.index[(dados.iloc[:, 14].isin(arquivos_usados))  & \n",
    "                                (dados.iloc[:, 13] == True) ]\n",
    "\n",
    "ecg_doente_linhas = dados.index[(dados.iloc[:, 14].isin(arquivos_usados)) & \n",
    "                                (dados.iloc[:, 4] == False) & \n",
    "                                (dados.iloc[:, 5] == 1) & \n",
    "                                (dados.iloc[:, 6] == 0) & \n",
    "                                (dados.iloc[:, 7] == False) & \n",
    "                                (dados.iloc[:, 8] == 0) & \n",
    "                                (dados.iloc[:, 9] == 0)]\n",
    "\n",
    "print(\"Número de linhas ecg_normal_linhas:\", len(ecg_normal_linhas))\n",
    "print(\"Número de linhas ecg_doente_linhas:\", len(ecg_doente_linhas))\n",
    "\n",
    "caminho_interferencias = \"../Database/resultados_interferencia.csv\"\n",
    "interferencias = pd.read_csv(caminho_interferencias)\n",
    "interferencias_ids = interferencias['exam_id'].tolist()\n",
    "\n",
    "ids_proibidos = [ 227806,\n",
    "187353,\n",
    "203399,\n",
    "343089,\n",
    "317296,\n",
    "260982 ]\n",
    "\n",
    "ecg_normal_linhas = dados.index[~dados['exam_id'].isin(interferencias_ids) &\n",
    "                                (dados.iloc[:, 14].isin(arquivos_usados))  & \n",
    "                                (dados.iloc[:, 13] == True) & ~dados['exam_id'].isin(ids_proibidos)]\n",
    "\n",
    "ecg_doente_linhas = dados.index[~dados['exam_id'].isin(interferencias_ids) &\n",
    "                                (dados.iloc[:, 14].isin(arquivos_usados)) & \n",
    "                                (dados.iloc[:, 4] == False) & \n",
    "                                (dados.iloc[:, 5] == 1) & \n",
    "                                (dados.iloc[:, 6] == 0) & \n",
    "                                (dados.iloc[:, 7] == False) & \n",
    "                                (dados.iloc[:, 8] == 0) & \n",
    "                                (dados.iloc[:, 9] == 0)]\n",
    "\n",
    "print(\"Tirando Interferência:\")\n",
    "print(\"Número de linhas ecg_normal_linhas:\", len(ecg_normal_linhas))\n",
    "print(\"Número de linhas ecg_doente_linhas:\", len(ecg_doente_linhas))\n",
    "\n",
    "ecg_doente_id = dados.iloc[ecg_doente_linhas, 0].tolist()\n",
    "ecg_normal_id = dados.iloc[ecg_normal_linhas, 0].tolist()\n",
    "\n",
    "#ecg_doente = ecg_doente_id[]\n",
    "ecg_normal = ecg_normal_id[:20000]\n",
    "\n",
    "ids_ecgs= ecg_doente_id + ecg_normal\n",
    "print(\"Número de ecgs pra clusterizar:\", len(ids_ecgs))"
   ]
  },
  {
   "cell_type": "code",
   "execution_count": 4,
   "metadata": {},
   "outputs": [
    {
     "name": "stdout",
     "output_type": "stream",
     "text": [
      "Shape de X para o autoencoder: (27566, 8192)\n"
     ]
    }
   ],
   "source": [
    "#X\n",
    "arquivos_hdf5 = [\"../Database/filtered_exams_0_1.hdf5\",\n",
    "                 \"../Database/filtered_exams_2_3.hdf5\",  \"../Database/filtered_exams_4_5.hdf5\",\n",
    "                 \"../Database/filtered_exams_6_7.hdf5\",  \"../Database/filtered_exams_8_9.hdf5\",\n",
    "                 \"../Database/filtered_exams_10_11.hdf5\",  \"../Database/filtered_exams_12_13.hdf5\",\n",
    "                 \"../Database/filtered_exams_14_15.hdf5\", \"../Database/filtered_exams_16_17.hdf5\"]\n",
    "\n",
    "# Função para obter dados de ECG de um arquivo HDF5\n",
    "def get_ecg_data(file_paths, exam_id):\n",
    "    for file_path in file_paths:\n",
    "        with h5py.File(file_path, 'r') as f:\n",
    "            exam_ids = np.array(f['exam_id'])\n",
    "            exam_index = np.where(exam_ids == exam_id)[0]\n",
    "            if len(exam_index) != 0:\n",
    "                exam_index = exam_index[0]\n",
    "                exam_tracings = f['tracings'][exam_index]\n",
    "                return exam_tracings\n",
    "    raise ValueError(\"Exam ID não encontrado em nenhum dos arquivos fornecidos.\")\n",
    "\n",
    "# Obter os tracings de ECG para cada exam_id e armazenar na lista\n",
    "all_tracings = []\n",
    "for exam_id in ids_ecgs:\n",
    "    tracings = get_ecg_data(arquivos_hdf5, exam_id)\n",
    "    # Selecionar as leads V1 (índice 6) e V6 (índice 11)tracings = get_ecg_data(arquivos_hdf5, exam_id)\n",
    "    # DI, DII, DIII, AVL, AVF, AVR, V1, V2, V3, V4, V5, V6\n",
    "    #lead_d1 = tracings[:, 0]\n",
    "    #lead_d2 = tracings[:, 1]\n",
    "    #lead_d3 = tracings[:, 2]\n",
    "    #lead_avl = tracings[:, 3]\n",
    "    #lead_avf = tracings[:, 4]\n",
    "    #lead_avr = tracings[:, 5]\n",
    "    lead_v1 = tracings[:, 6]\n",
    "    #lead_v2 = tracings[:, 7]\n",
    "    #lead_v3 = tracings[:, 8]\n",
    "    #lead_v4 = tracings[:, 9]\n",
    "    #lead_v5 = tracings[:,10]\n",
    "    lead_v6 = tracings[:,11]\n",
    "    #Combinar as leads V1 e V6 em uma única dimensão \n",
    "    combined_leads = np.concatenate((lead_v1, lead_v6))\n",
    "    all_tracings.append(combined_leads)\n",
    "\n",
    "# Converter lista para array numpy\n",
    "X = np.array(all_tracings)\n",
    "\n",
    "print(\"Shape de X para o autoencoder:\", X.shape)"
   ]
  },
  {
   "cell_type": "code",
   "execution_count": 12,
   "metadata": {},
   "outputs": [
    {
     "name": "stdout",
     "output_type": "stream",
     "text": [
      "Shape de X para o autoencoder: (27566, 8192)\n"
     ]
    }
   ],
   "source": [
    "#X SE VC ESTIVER NA GÓRGONA\n",
    "arquivos_hdf5 = ['../../../../guilherme.evangelista/Clustering-Paper/Projeto/Database/filtered_exams_14_15.hdf5', '../../../../guilherme.evangelista/Clustering-Paper/Projeto/Database/filtered_exams_16_17.hdf5',\n",
    "              '../../../../guilherme.evangelista/Clustering-Paper/Projeto/Database/filtered_exams_12_13.hdf5', '../../../../guilherme.evangelista/Clustering-Paper/Projeto/Database/filtered_exams_10_11.hdf5',\n",
    "              '../../../../guilherme.evangelista/Clustering-Paper/Projeto/Database/filtered_exams_8_9.hdf5', '../../../../pedro.bacelar/Clustering-Paper/Projeto/Database/filtered_exams_4_5.hdf5', \n",
    "              '../../../../pedro.bacelar/Clustering-Paper/Projeto/Database/filtered_exams_2_3.hdf5', '../../../../pedro.bacelar/Clustering-Paper/Projeto/Database/filtered_exams_6_7.hdf5',\n",
    "              '../../../../pedro.bacelar/Clustering-Paper/Projeto/Database/filtered_exams_4_5.hdf5', '../../../../ecg_clustering/Database_Filtrados/filtered_exams_0_1.hdf5'] # Caminhos para os arquivos HDF5\n",
    "\n",
    "# Função para obter dados de ECG de um arquivo HDF5\n",
    "def get_ecg_data(file_paths, exam_id):\n",
    "    for file_path in file_paths:\n",
    "        with h5py.File(file_path, 'r') as f:\n",
    "            exam_ids = np.array(f['exam_id'])\n",
    "            exam_index = np.where(exam_ids == exam_id)[0]\n",
    "            if len(exam_index) != 0:\n",
    "                exam_index = exam_index[0]\n",
    "                exam_tracings = f['tracings'][exam_index]\n",
    "                return exam_tracings\n",
    "    raise ValueError(\"Exam ID não encontrado em nenhum dos arquivos fornecidos.\")\n",
    "\n",
    "# Obter os tracings de ECG para cada exam_id e armazenar na lista\n",
    "all_tracings = []\n",
    "for exam_id in ids_ecgs:\n",
    "    tracings = get_ecg_data(arquivos_hdf5, exam_id)\n",
    "    # Selecionar as leads V1 (índice 6) e V6 (índice 11)tracings = get_ecg_data(arquivos_hdf5, exam_id)\n",
    "    # DI, DII, DIII, AVL, AVF, AVR, V1, V2, V3, V4, V5, V6\n",
    "    #lead_d1 = tracings[:, 0]\n",
    "    #lead_d2 = tracings[:, 1]\n",
    "    #lead_d3 = tracings[:, 2]\n",
    "    #lead_avl = tracings[:, 3]\n",
    "    #lead_avf = tracings[:, 4]\n",
    "    #lead_avr = tracings[:, 5]\n",
    "    lead_v1 = tracings[:, 6]\n",
    "    #lead_v2 = tracings[:, 7]\n",
    "    #lead_v3 = tracings[:, 8]\n",
    "    #lead_v4 = tracings[:, 9]\n",
    "    #lead_v5 = tracings[:,10]\n",
    "    lead_v6 = tracings[:,11]\n",
    "    #Combinar as leads V1 e V6 em uma única dimensão \n",
    "    combined_leads = np.concatenate((lead_v1, lead_v6))\n",
    "    all_tracings.append(combined_leads)\n",
    "\n",
    "# Converter lista para array numpy\n",
    "X = np.array(all_tracings)\n",
    "\n",
    "print(\"Shape de X para o autoencoder:\", X.shape)"
   ]
  },
  {
   "cell_type": "code",
   "execution_count": 5,
   "metadata": {},
   "outputs": [
    {
     "name": "stderr",
     "output_type": "stream",
     "text": [
      "C:\\Users\\luisa\\AppData\\Local\\Temp\\ipykernel_23016\\144704460.py:9: RuntimeWarning: invalid value encountered in divide\n",
      "  X = X / np.max(np.abs(X), axis=1, keepdims=True)\n"
     ]
    },
    {
     "name": "stdout",
     "output_type": "stream",
     "text": [
      "\u001b[1m862/862\u001b[0m \u001b[32m━━━━━━━━━━━━━━━━━━━━\u001b[0m\u001b[37m\u001b[0m \u001b[1m126s\u001b[0m 146ms/step\n",
      "(27566, 128, 1)\n",
      "(27566, 128)\n"
     ]
    }
   ],
   "source": [
    "#DIMINUIR DIMENSAO DE X PELO AUTOENCODER(128)\n",
    "\n",
    "epsilon = 1e-10\n",
    "\n",
    "# Extrair o modelo encoder a partir do autoencoder treinado\n",
    "encoder = autoencoder.get_layer(\"encoder\")\n",
    "\n",
    "# Normalizar os dados entre 0 e 1 para um melhor desempenho do autoencoder\n",
    "X = X / np.max(np.abs(X), axis=1, keepdims=True)\n",
    "\n",
    "# Redimensionar os dados para o formato esperado pelo modelo (10500, 4096, 1)\n",
    "X = X.reshape((X.shape[0], X.shape[1], 1))\n",
    "\n",
    "# Obter os vetores codificados para todo o conjunto X\n",
    "X_encoded = encoder.predict(X)\n",
    "\n",
    "# X_encoded agora contém os vetores de 128 números para cada entrada em X\n",
    "print(X_encoded.shape)  # Deve ser (10500, 128, 1)\n",
    "\n",
    "# Remover a última dimensão para obter um vetor 2D\n",
    "X_encoded_2d = np.squeeze(X_encoded)\n",
    "print(X_encoded_2d.shape)  # Deve ser (10500, 128)\n",
    "\n",
    "# Substituir os valores NaN por epsilon\n",
    "X_encoded_2d = np.nan_to_num(X_encoded_2d, nan=epsilon)\n",
    "\n",
    "epsilon = 1e-10\n",
    "X_encoded_2d = np.nan_to_num(X_encoded_2d, nan=epsilon)"
   ]
  },
  {
   "cell_type": "code",
   "execution_count": 6,
   "metadata": {},
   "outputs": [],
   "source": [
    "#DIMINUIR DIMENSAO DE X PELO UMAP(16)\n",
    "warnings.filterwarnings('ignore', message=\"n_jobs value.*overridden to 1 by setting random_state.*\")\n",
    "# Normalizar os dados\n",
    "scaler = StandardScaler()\n",
    "X_normalized = scaler.fit_transform(X_encoded_2d)\n",
    "# Aplicação do UMAP\n",
    "umap_reducer = umap.UMAP(n_neighbors=7, min_dist=0.0, n_components=16, random_state=42)\n",
    "X_reduced = umap_reducer.fit_transform(X_normalized)"
   ]
  },
  {
   "cell_type": "code",
   "execution_count": 7,
   "metadata": {},
   "outputs": [
    {
     "data": {
      "image/png": "[encoded data removed]",
      "text/plain": [
       "<Figure size 640x480 with 1 Axes>"
      ]
     },
     "metadata": {},
     "output_type": "display_data"
    },
    {
     "name": "stdout",
     "output_type": "stream",
     "text": [
      "Silhouette Score: 0.1885671317577362\n"
     ]
    },
    {
     "name": "stderr",
     "output_type": "stream",
     "text": [
      "C:\\Users\\luisa\\AppData\\Local\\Temp\\ipykernel_23016\\2108103736.py:48: DeprecationWarning: DataFrameGroupBy.apply operated on the grouping columns. This behavior is deprecated, and in a future version of pandas the grouping columns will be excluded from the operation. Either pass `include_groups=False` to exclude the groupings or explicitly select the grouping columns after groupby to silence this warning.\n",
      "  majority_labels = merged_data.groupby('cluster', group_keys=False).apply(determine_majority_label).reset_index()\n"
     ]
    },
    {
     "name": "stdout",
     "output_type": "stream",
     "text": [
      "F1 Score: 0.8045416697889248\n",
      "   cluster  1dAVb  RBBB  LBBB  SB  ST  AF  normal_ecg\n",
      "0        0      0  7171     0   0   0   0         898\n",
      "1        1      0   395     0   0   0   0       19102\n"
     ]
    }
   ],
   "source": [
    "#CLUSTERIZACAO HDBSCAN DA GORGONA\n",
    "\n",
    "from sklearn.metrics import silhouette_score, f1_score\n",
    "from hdbscan import HDBSCAN\n",
    "\n",
    "exam_ids_to_cluster = ids_ecgs  \n",
    "\n",
    "scaler = StandardScaler()\n",
    "X_reduced_scaled = scaler.fit_transform(X_reduced)\n",
    "\n",
    "dbscan = HDBSCAN(min_cluster_size=2000, min_samples=1 )\n",
    "labels = dbscan.fit_predict(X_reduced_scaled)\n",
    "\n",
    "# Visualização dos Resultados\n",
    "plt.scatter(X_reduced_scaled[:, 0], X_reduced_scaled[:, 1], c=labels, cmap='viridis', s=5)\n",
    "plt.xlabel('UMAP Dimension 1')\n",
    "plt.ylabel('UMAP Dimension 2')\n",
    "import matplotlib.patches as mpatches\n",
    "cluster_0_patch = mpatches.Patch(color=plt.cm.viridis(0.0), label='Cluster 0')\n",
    "cluster_1_patch = mpatches.Patch(color=plt.cm.viridis(1.0), label='Cluster 1')\n",
    "plt.legend(handles=[cluster_0_patch, cluster_1_patch], loc='best')\n",
    "plt.savefig('RBBB.jpg')\n",
    "plt.show()\n",
    "\n",
    "# Calcular e imprimir os scores\n",
    "silhouette_avg = silhouette_score(X_reduced_scaled, labels)\n",
    "print(f'Silhouette Score: {silhouette_avg}')\n",
    "\n",
    "# Carregar os dados do CSV\n",
    "metadata = pd.read_csv(\"../Database/exams.csv\")\n",
    "\n",
    "# Criar um DataFrame para os resultados do clustering\n",
    "cluster_results = pd.DataFrame({\n",
    "    'exam_id': exam_ids_to_cluster,\n",
    "    'cluster': labels\n",
    "})\n",
    "\n",
    "# Mesclar os resultados do clustering com os metadados dos exames\n",
    "merged_data = cluster_results.merge(metadata, on='exam_id')\n",
    "\n",
    "# Determinar o rótulo verdadeiro para cada cluster com base na maioria\n",
    "def determine_majority_label(cluster_data):\n",
    "    normal_count = cluster_data['normal_ecg'].sum()\n",
    "    disease_count = cluster_data[['1dAVb', 'RBBB', 'LBBB', 'SB', 'ST', 'AF']].sum().sum()\n",
    "    return 'normal' if normal_count > disease_count else 'disease'\n",
    "\n",
    "# Aplicar a função para determinar o rótulo majoritário de cada cluster\n",
    "majority_labels = merged_data.groupby('cluster', group_keys=False).apply(determine_majority_label).reset_index()\n",
    "majority_labels.columns = ['cluster', 'majority_label']\n",
    "\n",
    "# Mesclar os rótulos majoritários com os dados agrupados\n",
    "merged_data = merged_data.merge(majority_labels, on='cluster')\n",
    "\n",
    "# Criar rótulos verdadeiros\n",
    "def assign_true_label(row):\n",
    "    if row['majority_label'] == 'normal':\n",
    "        return row['normal_ecg'] == 1\n",
    "    else:\n",
    "        return row[['1dAVb', 'RBBB', 'LBBB', 'SB', 'ST', 'AF']].sum() > 0\n",
    "\n",
    "merged_data['true_label'] = merged_data.apply(assign_true_label, axis=1)\n",
    "\n",
    "# Calcular o F1 score\n",
    "true_labels = merged_data['true_label']\n",
    "f1_avg = f1_score(true_labels, labels, average='weighted')\n",
    "print(f'F1 Score: {f1_avg}')\n",
    "\n",
    "# Contar a quantidade de doenças e ECGs normais em cada cluster\n",
    "cluster_summary = merged_data.groupby('cluster').agg({\n",
    "    '1dAVb': 'sum',\n",
    "    'RBBB': 'sum',\n",
    "    'LBBB': 'sum',\n",
    "    'SB': 'sum',\n",
    "    'ST': 'sum',\n",
    "    'AF': 'sum',\n",
    "    'normal_ecg': 'sum'\n",
    "}).reset_index()\n",
    "\n",
    "# Mostrar o resumo por cluster\n",
    "print(cluster_summary)"
   ]
  },
  {
   "cell_type": "code",
   "execution_count": 28,
   "metadata": {},
   "outputs": [
    {
     "name": "stderr",
     "output_type": "stream",
     "text": [
      "C:\\Users\\luisa\\AppData\\Local\\Temp\\ipykernel_23016\\390473447.py:19: UserWarning: No data for colormapping provided via 'c'. Parameters 'cmap' will be ignored\n",
      "  plt.scatter(X_reduced_scaled[:, 0], X_reduced_scaled[:, 1],  c=[color_map[label] for label in labels], cmap='viridis', s=1)\n"
     ]
    },
    {
     "name": "stdout",
     "output_type": "stream",
     "text": [
      "Silhouette Score: 0.1885671317577362\n"
     ]
    },
    {
     "name": "stderr",
     "output_type": "stream",
     "text": [
      "C:\\Users\\luisa\\AppData\\Local\\Temp\\ipykernel_23016\\390473447.py:54: DeprecationWarning: DataFrameGroupBy.apply operated on the grouping columns. This behavior is deprecated, and in a future version of pandas the grouping columns will be excluded from the operation. Either pass `include_groups=False` to exclude the groupings or explicitly select the grouping columns after groupby to silence this warning.\n",
      "  majority_labels = merged_data.groupby('cluster', group_keys=False).apply(determine_majority_label).reset_index()\n"
     ]
    },
    {
     "name": "stdout",
     "output_type": "stream",
     "text": [
      "F1 Score: 0.8045416697889248\n",
      "   cluster  1dAVb  RBBB  LBBB  SB  ST  AF  normal_ecg\n",
      "0        0      0  7171     0   0   0   0         898\n",
      "1        1      0   395     0   0   0   0       19102\n"
     ]
    },
    {
     "data": {
      "image/png": "[encoded data removed]",
      "text/plain": [
       "<Figure size 500x400 with 1 Axes>"
      ]
     },
     "metadata": {},
     "output_type": "display_data"
    }
   ],
   "source": [
    "#CLUSTERIZACAO HDBSCAN LUISA (DO PAPER)\n",
    "\n",
    "from sklearn.metrics import silhouette_score, f1_score\n",
    "from hdbscan import HDBSCAN\n",
    "\n",
    "exam_ids_to_cluster = ids_ecgs  \n",
    "\n",
    "scaler = StandardScaler()\n",
    "X_reduced_scaled = scaler.fit_transform(X_reduced)\n",
    "\n",
    "dbscan = HDBSCAN(min_cluster_size=2000, min_samples=1 )\n",
    "labels = dbscan.fit_predict(X_reduced_scaled)\n",
    "\n",
    "doenca ='RBBB'\n",
    "\n",
    "# Visualização dos Resultados com Outliers Reagrupados\n",
    "color_map = {0: 'green', 1: 'navy'}\n",
    "plt.figure(figsize=(5, 4))\n",
    "plt.scatter(X_reduced_scaled[:, 0], X_reduced_scaled[:, 1],  c=[color_map[label] for label in labels], cmap='viridis', s=1)\n",
    "plt.xlabel('UMAP Dimension 1', fontsize=12)\n",
    "plt.ylabel('UMAP Dimension 2', fontsize=12)\n",
    "plt.tick_params(axis='both', which='major', labelsize=12)  # Aumenta o tamanho dos números dos eixos\n",
    "\n",
    "import matplotlib.patches as mpatches\n",
    "cluster_0_patch = mpatches.Patch(color='red', label='Cluster 0')\n",
    "cluster_1_patch = mpatches.Patch(color='navy', label='Cluster 1')\n",
    "#plt.legend(handles=[cluster_0_patch, cluster_1_patch], loc='best')\n",
    "plt.savefig(f'../Imagens/{doenca}.png', dpi=1000, bbox_inches='tight', pad_inches=0.1)\n",
    "\n",
    "\n",
    "# Calcular e imprimir os scores\n",
    "silhouette_avg = silhouette_score(X_reduced_scaled, labels)\n",
    "print(f'Silhouette Score: {silhouette_avg}')\n",
    "\n",
    "# Carregar os dados do CSV\n",
    "metadata = pd.read_csv(\"../Database/exams.csv\")\n",
    "\n",
    "# Criar um DataFrame para os resultados do clustering\n",
    "cluster_results = pd.DataFrame({\n",
    "    'exam_id': exam_ids_to_cluster,\n",
    "    'cluster': labels\n",
    "})\n",
    "\n",
    "# Mesclar os resultados do clustering com os metadados dos exames\n",
    "merged_data = cluster_results.merge(metadata, on='exam_id')\n",
    "\n",
    "# Determinar o rótulo verdadeiro para cada cluster com base na maioria\n",
    "def determine_majority_label(cluster_data):\n",
    "    normal_count = cluster_data['normal_ecg'].sum()\n",
    "    disease_count = cluster_data[['1dAVb', 'RBBB', 'LBBB', 'SB', 'ST', 'AF']].sum().sum()\n",
    "    return 'normal' if normal_count > disease_count else 'disease'\n",
    "\n",
    "# Aplicar a função para determinar o rótulo majoritário de cada cluster\n",
    "majority_labels = merged_data.groupby('cluster', group_keys=False).apply(determine_majority_label).reset_index()\n",
    "majority_labels.columns = ['cluster', 'majority_label']\n",
    "\n",
    "# Mesclar os rótulos majoritários com os dados agrupados\n",
    "merged_data = merged_data.merge(majority_labels, on='cluster')\n",
    "\n",
    "# Criar rótulos verdadeiros\n",
    "def assign_true_label(row):\n",
    "    if row['majority_label'] == 'normal':\n",
    "        return row['normal_ecg'] == 1\n",
    "    else:\n",
    "        return row[['1dAVb', 'RBBB', 'LBBB', 'SB', 'ST', 'AF']].sum() > 0\n",
    "\n",
    "merged_data['true_label'] = merged_data.apply(assign_true_label, axis=1)\n",
    "\n",
    "# Calcular o F1 score\n",
    "true_labels = merged_data['true_label']\n",
    "f1_avg = f1_score(true_labels, labels, average='weighted')\n",
    "print(f'F1 Score: {f1_avg}')\n",
    "\n",
    "# Contar a quantidade de doenças e ECGs normais em cada cluster\n",
    "cluster_summary = merged_data.groupby('cluster').agg({\n",
    "    '1dAVb': 'sum',\n",
    "    'RBBB': 'sum',\n",
    "    'LBBB': 'sum',\n",
    "    'SB': 'sum',\n",
    "    'ST': 'sum',\n",
    "    'AF': 'sum',\n",
    "    'normal_ecg': 'sum'\n",
    "}).reset_index()\n",
    "\n",
    "# Mostrar o resumo por cluster\n",
    "print(cluster_summary)"
   ]
  },
  {
   "cell_type": "code",
   "execution_count": 11,
   "metadata": {},
   "outputs": [
    {
     "name": "stdout",
     "output_type": "stream",
     "text": [
      "Silhouette Score médio (2D): 0.5035590529441833\n",
      "\n",
      "Silhouette Score médio por cluster (2D):\n",
      "cluster\n",
      "0    0.843585\n",
      "1    0.362837\n",
      "Name: silhouette_score, dtype: float32\n"
     ]
    }
   ],
   "source": [
    "# CALCULAR SILIHUETTE SCORE POR CLUSTER\n",
    "\n",
    "import matplotlib.cm as cm\n",
    "import matplotlib.pyplot as plt\n",
    "import pandas as pd\n",
    "import numpy as np\n",
    "import seaborn as sns\n",
    "import hdbscan\n",
    "from sklearn.metrics import silhouette_samples, silhouette_score, davies_bouldin_score, calinski_harabasz_score, f1_score, pairwise_distances\n",
    "\n",
    "new_labels = labels\n",
    "\n",
    "# Usar apenas as duas primeiras dimensões\n",
    "X_reduced_2d = X_reduced_scaled[:, :2]\n",
    "\n",
    "# Calcular o Silhouette Score médio\n",
    "silhouette_avg = silhouette_score(X_reduced_2d, new_labels)\n",
    "print(f'Silhouette Score médio (2D): {silhouette_avg}')\n",
    "\n",
    "# Calcular o Silhouette Score para cada ponto\n",
    "silhouette_values = silhouette_samples(X_reduced_2d, new_labels)\n",
    "\n",
    "# Número de clusters encontrados\n",
    "n_clusters = len(set(new_labels)) - (1 if -1 in new_labels else 0)\n",
    "\n",
    "# Criar um DataFrame para os silhouette scores\n",
    "silhouette_df = pd.DataFrame({\n",
    "    'exam_id': exam_ids_to_cluster,\n",
    "    'cluster': new_labels,\n",
    "    'silhouette_score': silhouette_values\n",
    "})\n",
    "\n",
    "# Calcular o Silhouette Score médio para cada cluster separado\n",
    "cluster_silhouette_avg = silhouette_df.groupby('cluster')['silhouette_score'].mean()\n",
    "print(\"\\nSilhouette Score médio por cluster (2D):\")\n",
    "print(cluster_silhouette_avg)"
   ]
  },
  {
   "cell_type": "code",
   "execution_count": 12,
   "metadata": {},
   "outputs": [],
   "source": [
    "# CALCULAR SILHUETT DE CADA PONTO\n",
    "\n",
    "from sklearn.metrics import silhouette_samples\n",
    "\n",
    "silhouette_values = 0\n",
    "silhouette_values = silhouette_samples(X_reduced_scaled, labels)\n",
    "\n",
    "silhouette_df = pd.DataFrame({\n",
    "    'exam_id': exam_ids_to_cluster,\n",
    "    'label': labels,\n",
    "    'silhouette_score': silhouette_values\n",
    "})\n",
    "\n",
    "merged_data = silhouette_df.merge(metadata, on='exam_id')"
   ]
  },
  {
   "cell_type": "code",
   "execution_count": 13,
   "metadata": {},
   "outputs": [],
   "source": [
    "# GERAR CSV RESULTADOS\n",
    "\n",
    "# GUARDAR EM CSVS\n",
    "\n",
    "doenca = 'RBBB'\n",
    "\n",
    "colunas_desejadas = ['exam_id', 'label', '1dAVb', 'RBBB', 'LBBB' , 'SB' ,'ST' , 'AF', 'normal_ecg', 'silhouette_score']\n",
    "dados = merged_data[colunas_desejadas]\n",
    "dados = dados.sort_values(by=['label', 'silhouette_score'], ascending=[True, False])\n",
    "\n",
    "conditions = [\n",
    "    (dados['label'] == 0) & (dados[doenca] == True), (dados['label'] == 0) & (dados[doenca] == False),\n",
    "    (dados['label'] == 1) & (dados[doenca] == True), (dados['label'] == 1) & (dados[doenca] == False),\n",
    "    (dados['label'] == 2) & (dados[doenca] == True), (dados['label'] == 2) & (dados[doenca] == False),\n",
    "    (dados['label'] == -1) & (dados[doenca] == True), (dados['label'] == -1) & (dados[doenca] == False)\n",
    "]\n",
    "choices = [\n",
    "    'D_clusterD', 'N_clusterD',\n",
    "    'D_clusterN','N_clusterN',\n",
    "    'D_clusterM','N_clusterM',\n",
    "    'D_clusterO','N_clusterO',\n",
    "]\n",
    "\n",
    "dados['tipo'] = np.select(conditions, choices, default='Unknown')\n",
    "\n",
    "dados.to_csv(f'resultados/{doenca}.csv', index=False)"
   ]
  },
  {
   "cell_type": "code",
   "execution_count": null,
   "metadata": {},
   "outputs": [
    {
     "name": "stderr",
     "output_type": "stream",
     "text": [
      "C:\\Users\\luisa\\AppData\\Local\\Temp\\ipykernel_24592\\2407590582.py:19: DeprecationWarning: DataFrameGroupBy.apply operated on the grouping columns. This behavior is deprecated, and in a future version of pandas the grouping columns will be excluded from the operation. Either pass `include_groups=False` to exclude the groupings or explicitly select the grouping columns after groupby to silence this warning.\n",
      "  dados_selecionados = dados.groupby('tipo', group_keys=False).apply(select_evenly_spaced)\n"
     ]
    }
   ],
   "source": [
    "# SELECIONANDO MAIS DOENTES NO CLUSTER NORMAL\n",
    "\n",
    "tipos_desejados = ['D_clusterN']\n",
    "quantidade = 20\n",
    "\n",
    "def select_evenly_spaced(df, quantidade=quantidade):\n",
    "    total_rows = len(df)\n",
    "    if total_rows <= quantidade:\n",
    "        return df\n",
    "    else:\n",
    "        indices = np.linspace(0, total_rows-1, quantidade, dtype=int)\n",
    "        return df.iloc[indices]\n",
    "\n",
    "ja_vistos = pd.read_csv(f'resultados/{doenca}.csv')\n",
    "ids_proibidos = ja_vistos[ja_vistos['tipo'] == 'D_clusterN']['exam_id'].tolist()\n",
    "\n",
    "dados = dados[dados['tipo'].isin(tipos_desejados)]\n",
    "\n",
    "dados_selecionados = dados.groupby('tipo', group_keys=False).apply(select_evenly_spaced)\n",
    "\n",
    "dados_selecionados = dados_selecionados[~dados_selecionados['exam_id'].isin(ids_proibidos)]\n",
    "\n",
    "while len(dados_selecionados) < quantidade:\n",
    "    dados_necessarios = quantidade - len(dados_selecionados)\n",
    "    outros_dados = dados[~dados['exam_id'].isin(ids_proibidos)]\n",
    "    adicionais = outros_dados.groupby('tipo', group_keys=False).apply(select_evenly_spaced, quantidade=dados_necessarios)\n",
    "    dados_selecionados = pd.concat([dados_selecionados, adicionais]).drop_duplicates(subset='exam_id')\n",
    "    ids_proibidos = dados_selecionados['exam_id'].tolist()\n",
    "\n",
    "dados_selecionados = dados_selecionados[dados_selecionados['tipo'].isin(tipos_desejados)]\n",
    "\n",
    "if len(dados_selecionados) < quantidade:\n",
    "    raise ValueError(f\"Não foi possível obter {quantidade} amostras do tipo 'D_clusterN'.\")\n",
    "\n",
    "dados_selecionados.to_csv(f'maisAmostras_d_n/{doenca}_amostras.csv', index=False)\n"
   ]
  },
  {
   "cell_type": "code",
   "execution_count": null,
   "metadata": {},
   "outputs": [
    {
     "name": "stderr",
     "output_type": "stream",
     "text": [
      "C:\\Users\\luisa\\AppData\\Local\\Temp\\ipykernel_24592\\1548981925.py:11: DeprecationWarning: DataFrameGroupBy.apply operated on the grouping columns. This behavior is deprecated, and in a future version of pandas the grouping columns will be excluded from the operation. Either pass `include_groups=False` to exclude the groupings or explicitly select the grouping columns after groupby to silence this warning.\n",
      "  dados_selecionados = dados.groupby('tipo', group_keys=False).apply(select_25_evenly_spaced)\n"
     ]
    },
    {
     "data": {
      "image/png": "[encoded data removed]",
      "text/plain": [
       "<Figure size 500x400 with 1 Axes>"
      ]
     },
     "metadata": {},
     "output_type": "display_data"
    }
   ],
   "source": [
    "# GERAR AMOSTRAS\n",
    "\n",
    "def select_25_evenly_spaced(df):\n",
    "    total_rows = len(df)\n",
    "    if total_rows <= 25:\n",
    "        return df\n",
    "    else:\n",
    "        indices = np.linspace(0, total_rows-1, 45, dtype=int)\n",
    "        return df.iloc[indices]\n",
    "    \n",
    "dados_selecionados = dados.groupby('tipo', group_keys=False).apply(select_25_evenly_spaced)\n",
    "\n",
    "tipos_desejados = ['D_clusterD']\n",
    "dados_selecionados = dados_selecionados[dados_selecionados['tipo'].isin(tipos_desejados)]\n",
    "\n",
    "dados_selecionados.to_csv(f'amostras/{doenca}_amostras.csv', index=False)\n",
    "\n",
    "#PLOTAR AMOSTRAS\n",
    "\n",
    "def plot_samples(X, exam_ids, labels, title):\n",
    "    colors = ['gray',    # 0: Other samples\n",
    "              'yellow',  # 1: D_clusterN\n",
    "              'orange',  # 2: N_clusterD\n",
    "              'blue',    # 3: D_clusterM\n",
    "              'red',     # 4: N_clusterM\n",
    "              'purple',  # 5: D_clusterO\n",
    "              'green']   # 6: N_clusterO\n",
    "    exam_id_to_index = {exam_id: idx for idx, exam_id in enumerate(exam_ids_to_cluster)}\n",
    "    sample_indices = [exam_id_to_index[exam_id] for exam_id in exam_ids]\n",
    "\n",
    "    all_labels = np.zeros(X.shape[0])\n",
    "    all_labels[sample_indices] = labels\n",
    "\n",
    "    plt.figure(figsize=(5, 4))\n",
    "    plt.scatter(X[:, 0], X[:, 1], c='lightgray', s=1, label='Other samples')\n",
    "    plt.scatter(X[sample_indices, 0], X[sample_indices, 1], c=[colors[label] for label in labels], s=30, edgecolor='k', label='Selected')\n",
    "    plt.xlabel('UMAP Dimension 1')\n",
    "    plt.ylabel('UMAP Dimension 2')\n",
    "    plt.title(title)\n",
    "    plt.legend()\n",
    "    plt.show()\n",
    "\n",
    "selected_exam_ids = dados_selecionados['exam_id'].values\n",
    "\n",
    "exam_id_to_index = {exam_id: idx for idx, exam_id in enumerate(exam_ids_to_cluster)}\n",
    "selected_indices = [exam_id_to_index[exam_id] for exam_id in selected_exam_ids]\n",
    "\n",
    "labels = [\n",
    "    1 if tipo == 'D_clusterN' else 2 if tipo == 'N_clusterD' else\n",
    "    3 if tipo == 'D_clusterM' else 4 if tipo == 'N_clusterM' else\n",
    "    5 if tipo == 'D_clusterO' else 6 if tipo == 'N_clusterO' else 0\n",
    "    for tipo in dados_selecionados['tipo'].values\n",
    "]\n",
    "\n",
    "plot_samples(X_reduced_scaled, selected_exam_ids, labels, f'Amostras {doenca}')"
   ]
  },
  {
   "cell_type": "code",
   "execution_count": 8,
   "metadata": {},
   "outputs": [
    {
     "name": "stdout",
     "output_type": "stream",
     "text": [
      "0.9699320586963142\n"
     ]
    }
   ],
   "source": [
    "#METRICA DBCV\n",
    "from sklearn.metrics import silhouette_score, f1_score, pairwise_distances_argmin_min\n",
    "import numpy as np\n",
    "import matplotlib.pyplot as plt\n",
    "import pandas as pd\n",
    "from sklearn.preprocessing import StandardScaler\n",
    "from hdbscan import HDBSCAN\n",
    "from scipy.spatial.distance import euclidean\n",
    "import dbcv\n",
    "\n",
    "score = dbcv.dbcv(X_reduced_scaled, labels)\n",
    "print(score)"
   ]
  }
 ],
 "metadata": {
  "kernelspec": {
   "display_name": "Python 3",
   "language": "python",
   "name": "python3"
  },
  "language_info": {
   "codemirror_mode": {
    "name": "ipython",
    "version": 3
   },
   "file_extension": ".py",
   "mimetype": "text/x-python",
   "name": "python",
   "nbconvert_exporter": "python",
   "pygments_lexer": "ipython3",
   "version": "3.12.2"
  }
 },
 "nbformat": 4,
 "nbformat_minor": 2
}
