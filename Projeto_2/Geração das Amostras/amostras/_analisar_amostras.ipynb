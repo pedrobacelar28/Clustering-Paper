{
 "cells": [
  {
   "cell_type": "code",
   "execution_count": 6,
   "metadata": {},
   "outputs": [],
   "source": [
    "import pandas as pd\n",
    "import numpy as np\n",
    "from openpyxl import load_workbook\n",
    "import os\n",
    "import h5py\n",
    "import ecg_plot\n",
    "import matplotlib.pyplot as plt\n",
    "from openpyxl.worksheet.datavalidation import DataValidation\n"
   ]
  },
  {
   "cell_type": "code",
   "execution_count": 10,
   "metadata": {},
   "outputs": [
    {
     "name": "stdout",
     "output_type": "stream",
     "text": [
      "Normais :  80\n",
      "    D_clusterD :  0\n",
      "    N_clusterD :  0\n",
      "    D_clusterN :  0\n",
      "    N_clusterN :  80\n",
      "SB :  45\n",
      "    D_clusterD :  45\n",
      "    N_clusterD :  0\n",
      "    D_clusterN :  0\n",
      "    N_clusterN :  0\n",
      "ST :  45\n",
      "    D_clusterD :  45\n",
      "    N_clusterD :  0\n",
      "    D_clusterN :  0\n",
      "    N_clusterN :  0\n",
      "AF :  45\n",
      "    D_clusterD :  45\n",
      "    N_clusterD :  0\n",
      "    D_clusterN :  0\n",
      "    N_clusterN :  0\n",
      "RBBB :  45\n",
      "    D_clusterD :  45\n",
      "    N_clusterD :  0\n",
      "    D_clusterN :  0\n",
      "    N_clusterN :  0\n",
      "LBBB :  45\n",
      "    D_clusterD :  45\n",
      "    N_clusterD :  0\n",
      "    D_clusterN :  0\n",
      "    N_clusterN :  0\n"
     ]
    }
   ],
   "source": [
    "# CARREGAR IDS\n",
    "SB = pd.read_csv('SB_amostras.csv')\n",
    "ST = pd.read_csv('ST_amostras.csv')\n",
    "AF = pd.read_csv('AF_amostras.csv')\n",
    "RBBB = pd.read_csv('RBBB_amostras.csv')\n",
    "LBBB = pd.read_csv('LBBB_amostras.csv')\n",
    "normais = pd.read_csv('normais_amostras.csv')\n",
    "\n",
    "amostras = {\n",
    "    'Normais': normais,\n",
    "    'SB': SB,\n",
    "    'ST': ST,\n",
    "    'AF': AF,\n",
    "    'RBBB': RBBB,\n",
    "    'LBBB': LBBB,\n",
    "}\n",
    "tipos = [\n",
    "    'D_clusterD', 'N_clusterD',\n",
    "    'D_clusterN','N_clusterN',\n",
    "]\n",
    "\n",
    "for doenca, amostras in amostras.items():\n",
    "    print (doenca, ': ', amostras.shape[0]) \n",
    "    for tipo in tipos:\n",
    "        doenca_tipo = amostras.loc[amostras['tipo']==tipo]\n",
    "        print ('   ', tipo, ': ', doenca_tipo.shape[0])"
   ]
  },
  {
   "cell_type": "code",
   "execution_count": 12,
   "metadata": {},
   "outputs": [
    {
     "name": "stdout",
     "output_type": "stream",
     "text": [
      "0\n"
     ]
    }
   ],
   "source": [
    "dados_selecionados = pd.concat([ST, SB, AF, LBBB, RBBB], ignore_index=False)\n",
    "\n",
    "dados_normais = dados_selecionados.loc[dados_selecionados['normal_ecg']]\n",
    "print(dados_normais.shape[0])"
   ]
  }
 ],
 "metadata": {
  "kernelspec": {
   "display_name": "Python 3",
   "language": "python",
   "name": "python3"
  },
  "language_info": {
   "codemirror_mode": {
    "name": "ipython",
    "version": 3
   },
   "file_extension": ".py",
   "mimetype": "text/x-python",
   "name": "python",
   "nbconvert_exporter": "python",
   "pygments_lexer": "ipython3",
   "version": "3.12.2"
  }
 },
 "nbformat": 4,
 "nbformat_minor": 2
}
