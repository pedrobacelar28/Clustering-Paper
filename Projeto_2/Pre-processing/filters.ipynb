{
 "cells": [
  {
   "cell_type": "code",
   "execution_count": 1,
   "metadata": {},
   "outputs": [],
   "source": [
    "import h5py\n",
    "import numpy as np\n",
    "import matplotlib.pyplot as plt\n",
    "import pandas as pd\n"
   ]
  },
  {
   "cell_type": "code",
   "execution_count": 2,
   "metadata": {},
   "outputs": [],
   "source": [
    "# FILTRO DERICK:\n",
    "\n",
    "import scipy.signal as sgn\n",
    "\n",
    "def remove_baseline_filter(sample_rate):\n",
    "    fc = 0.8  # [Hz], cutoff frequency\n",
    "    fst = 0.2  # [Hz], rejection band\n",
    "    rp = 0.5  # [dB], ripple in passband\n",
    "    rs = 40  # [dB], attenuation in rejection band\n",
    "    wn = fc / (sample_rate / 2)\n",
    "    wst = fst / (sample_rate / 2)\n",
    "\n",
    "    filterorder, aux = sgn.ellipord(wn, wst, rp, rs)\n",
    "    sos = sgn.iirfilter(filterorder, wn, rp, rs, btype='high', ftype='ellip', output='sos')\n",
    "    return sos"
   ]
  },
  {
   "cell_type": "code",
   "execution_count": 3,
   "metadata": {},
   "outputs": [],
   "source": [
    "# FILTRO AKIRA:\n",
    "\n",
    "import BaselineWanderRemoval as bwr\n",
    "\n",
    "def baseline_wander_removal_filter(ecg):\n",
    "    ecg_filtrado = np.array(bwr.fix_baseline_wander(ecg, sr=400))\n",
    "    return ecg_filtrado"
   ]
  },
  {
   "cell_type": "code",
   "execution_count": 1,
   "metadata": {},
   "outputs": [],
   "source": [
    "# FUNÇÃO DE FILTRAR UMA LEAD:\n",
    "\n",
    "def ecg_filtrado(ecg):\n",
    "    sos = remove_baseline_filter(400)\n",
    "    ecg_nobaseline = sgn.sosfiltfilt(sos, ecg, padtype='constant', axis=-1)\n",
    "    ecg_final = baseline_wander_removal_filter(ecg_nobaseline)\n",
    "    return ecg_final"
   ]
  },
  {
   "cell_type": "code",
   "execution_count": null,
   "metadata": {},
   "outputs": [],
   "source": [
    "# FUNÇÃO QUE FILTRA TODAS AS LEADS DE UM ECG:\n",
    "\n",
    "def ecg_inteiro_filtrado(ecg):\n",
    "    ecg_filtrado_completo = np.zeros_like(ecg)\n",
    "    for i in range(ecg.shape[1]):\n",
    "        ecg_filtrado_completo[:, i] = ecg_filtrado(ecg[:, i])\n",
    "    return ecg_filtrado_completo"
   ]
  },
  {
   "cell_type": "code",
   "execution_count": null,
   "metadata": {},
   "outputs": [],
   "source": [
    "# FUNÇÃO QUE FILTRA VARIOS ECGS:\n",
    "\n",
    "def filtrar_sinais_ecg(sinais):\n",
    "    sinais_filtrados = []\n",
    "    for sinal in sinais:\n",
    "        sinal_filtrado = ecg_inteiro_filtrado(sinal)\n",
    "        sinais_filtrados.append(sinal_filtrado)\n",
    "    return np.array(sinais_filtrados)"
   ]
  }
 ],
 "metadata": {
  "kernelspec": {
   "display_name": "Python 3",
   "language": "python",
   "name": "python3"
  },
  "language_info": {
   "codemirror_mode": {
    "name": "ipython",
    "version": 3
   },
   "file_extension": ".py",
   "mimetype": "text/x-python",
   "name": "python",
   "nbconvert_exporter": "python",
   "pygments_lexer": "ipython3",
   "version": "3.12.3"
  }
 },
 "nbformat": 4,
 "nbformat_minor": 2
}
