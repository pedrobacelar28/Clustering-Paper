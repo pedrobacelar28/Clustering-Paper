{
 "cells": [
  {
   "cell_type": "code",
   "execution_count": 1,
   "metadata": {},
   "outputs": [],
   "source": [
    "import torch\n",
    "from torch_geometric.data import Data, DataLoader\n",
    "from torch_geometric.nn import GATConv\n",
    "import torch.nn.functional as F\n",
    "import os\n",
    "from tqdm import tqdm"
   ]
  },
  {
   "cell_type": "code",
   "execution_count": 8,
   "metadata": {},
   "outputs": [
    {
     "name": "stdout",
     "output_type": "stream",
     "text": [
      "Carregando grafos de visibilidade...\n"
     ]
    },
    {
     "name": "stderr",
     "output_type": "stream",
     "text": [
      "/tmp/ipykernel_1082138/3773145041.py:10: FutureWarning: You are using `torch.load` with `weights_only=False` (the current default value), which uses the default pickle module implicitly. It is possible to construct malicious pickle data which will execute arbitrary code during unpickling (See https://github.com/pytorch/pytorch/blob/main/SECURITY.md#untrusted-models for more details). In a future release, the default value for `weights_only` will be flipped to `True`. This limits the functions that could be executed during unpickling. Arbitrary objects will no longer be allowed to be loaded via this mode unless they are explicitly allowlisted by the user via `torch.serialization.add_safe_globals`. We recommend you start setting `weights_only=True` for any use case where you don't have full control of the loaded file. Please open an issue on GitHub for any issues related to this experimental feature.\n",
      "  data = torch.load(file_path)\n"
     ]
    },
    {
     "name": "stdout",
     "output_type": "stream",
     "text": [
      "Total de grafos carregados: 9886\n",
      "Treinando o modelo GAT-AE...\n"
     ]
    },
    {
     "name": "stderr",
     "output_type": "stream",
     "text": [
      "Epoch 1/10: 100%|██████████| 248/248 [00:02<00:00, 84.23it/s]\n"
     ]
    },
    {
     "name": "stdout",
     "output_type": "stream",
     "text": [
      "Epoch 1/10 - Train Loss: 17.7718, Precision: 0.9444, Variance: 0.0031\n",
      "Epoch 1/10 - Val Loss: 0.0800, Precision: 1.0000, Variance: 0.0052\n"
     ]
    },
    {
     "name": "stderr",
     "output_type": "stream",
     "text": [
      "Epoch 2/10: 100%|██████████| 248/248 [00:02<00:00, 85.26it/s]\n"
     ]
    },
    {
     "name": "stdout",
     "output_type": "stream",
     "text": [
      "Epoch 2/10 - Train Loss: 0.1717, Precision: 1.0000, Variance: 0.0059\n",
      "Epoch 2/10 - Val Loss: 0.0234, Precision: 1.0000, Variance: 0.0066\n"
     ]
    },
    {
     "name": "stderr",
     "output_type": "stream",
     "text": [
      "Epoch 3/10: 100%|██████████| 248/248 [00:02<00:00, 84.95it/s]\n"
     ]
    },
    {
     "name": "stdout",
     "output_type": "stream",
     "text": [
      "Epoch 3/10 - Train Loss: 0.0649, Precision: 1.0000, Variance: 0.0069\n",
      "Epoch 3/10 - Val Loss: 0.0113, Precision: 1.0000, Variance: 0.0074\n"
     ]
    },
    {
     "name": "stderr",
     "output_type": "stream",
     "text": [
      "Epoch 4/10: 100%|██████████| 248/248 [00:02<00:00, 86.02it/s]\n"
     ]
    },
    {
     "name": "stdout",
     "output_type": "stream",
     "text": [
      "Epoch 4/10 - Train Loss: 0.0347, Precision: 1.0000, Variance: 0.0076\n",
      "Epoch 4/10 - Val Loss: 0.0067, Precision: 1.0000, Variance: 0.0080\n"
     ]
    },
    {
     "name": "stderr",
     "output_type": "stream",
     "text": [
      "Epoch 5/10: 100%|██████████| 248/248 [00:02<00:00, 86.98it/s]\n"
     ]
    },
    {
     "name": "stdout",
     "output_type": "stream",
     "text": [
      "Epoch 5/10 - Train Loss: 0.0216, Precision: 1.0000, Variance: 0.0081\n",
      "Epoch 5/10 - Val Loss: 0.0044, Precision: 1.0000, Variance: 0.0085\n"
     ]
    },
    {
     "name": "stderr",
     "output_type": "stream",
     "text": [
      "Epoch 6/10: 100%|██████████| 248/248 [00:02<00:00, 86.85it/s]\n"
     ]
    },
    {
     "name": "stdout",
     "output_type": "stream",
     "text": [
      "Epoch 6/10 - Train Loss: 0.0147, Precision: 1.0000, Variance: 0.0086\n",
      "Epoch 6/10 - Val Loss: 0.0031, Precision: 1.0000, Variance: 0.0089\n"
     ]
    },
    {
     "name": "stderr",
     "output_type": "stream",
     "text": [
      "Epoch 7/10: 100%|██████████| 248/248 [00:02<00:00, 86.88it/s]\n"
     ]
    },
    {
     "name": "stdout",
     "output_type": "stream",
     "text": [
      "Epoch 7/10 - Train Loss: 0.0106, Precision: 1.0000, Variance: 0.0090\n",
      "Epoch 7/10 - Val Loss: 0.0023, Precision: 1.0000, Variance: 0.0093\n"
     ]
    },
    {
     "name": "stderr",
     "output_type": "stream",
     "text": [
      "Epoch 8/10: 100%|██████████| 248/248 [00:02<00:00, 87.18it/s]\n"
     ]
    },
    {
     "name": "stdout",
     "output_type": "stream",
     "text": [
      "Epoch 8/10 - Train Loss: 0.0080, Precision: 1.0000, Variance: 0.0093\n",
      "Epoch 8/10 - Val Loss: 0.0017, Precision: 1.0000, Variance: 0.0096\n"
     ]
    },
    {
     "name": "stderr",
     "output_type": "stream",
     "text": [
      "Epoch 9/10: 100%|██████████| 248/248 [00:02<00:00, 83.65it/s]\n"
     ]
    },
    {
     "name": "stdout",
     "output_type": "stream",
     "text": [
      "Epoch 9/10 - Train Loss: 0.0061, Precision: 1.0000, Variance: 0.0096\n",
      "Epoch 9/10 - Val Loss: 0.0014, Precision: 1.0000, Variance: 0.0099\n"
     ]
    },
    {
     "name": "stderr",
     "output_type": "stream",
     "text": [
      "Epoch 10/10: 100%|██████████| 248/248 [00:02<00:00, 86.09it/s]\n"
     ]
    },
    {
     "name": "stdout",
     "output_type": "stream",
     "text": [
      "Epoch 10/10 - Train Loss: 0.0048, Precision: 1.0000, Variance: 0.0099\n",
      "Epoch 10/10 - Val Loss: 0.0011, Precision: 1.0000, Variance: 0.0101\n",
      "Modelo salvo em: model/gat_ae_model.pth\n",
      "Modelo carregado com sucesso.\n"
     ]
    },
    {
     "name": "stderr",
     "output_type": "stream",
     "text": [
      "/tmp/ipykernel_1082138/3773145041.py:116: FutureWarning: You are using `torch.load` with `weights_only=False` (the current default value), which uses the default pickle module implicitly. It is possible to construct malicious pickle data which will execute arbitrary code during unpickling (See https://github.com/pytorch/pytorch/blob/main/SECURITY.md#untrusted-models for more details). In a future release, the default value for `weights_only` will be flipped to `True`. This limits the functions that could be executed during unpickling. Arbitrary objects will no longer be allowed to be loaded via this mode unless they are explicitly allowlisted by the user via `torch.serialization.add_safe_globals`. We recommend you start setting `weights_only=True` for any use case where you don't have full control of the loaded file. Please open an issue on GitHub for any issues related to this experimental feature.\n",
      "  model.load_state_dict(torch.load(path))\n"
     ]
    }
   ],
   "source": [
    "import torch\n",
    "from torch_geometric.data import Data, DataLoader\n",
    "from torch_geometric.nn import GATConv\n",
    "import torch.nn.functional as F\n",
    "import os\n",
    "from tqdm import tqdm\n",
    "\n",
    "# Função para carregar os grafos salvos\n",
    "def carregar_grafos_visibilidade(file_path):\n",
    "    data = torch.load(file_path)\n",
    "    grafos = data['grafos']\n",
    "    dataset = []\n",
    "    for grafo in grafos:\n",
    "        src = grafo['src']\n",
    "        dst = grafo['dst']\n",
    "        edge_index = torch.stack([src, dst], dim=0)  # Constrói o edge_index\n",
    "        num_nodes = max(torch.max(src), torch.max(dst)) + 1  # Calcula o número de nós\n",
    "        x = torch.rand((num_nodes, 1))  # Inicializa features dos nós aleatoriamente\n",
    "        dataset.append(Data(x=x, edge_index=edge_index))\n",
    "    return dataset\n",
    "\n",
    "# Modelo GAT-AE\n",
    "class GATAutoencoder(torch.nn.Module):\n",
    "    def __init__(self, in_channels, out_channels, heads=2):\n",
    "        super(GATAutoencoder, self).__init__()\n",
    "        self.heads = heads\n",
    "        self.out_channels = out_channels\n",
    "        self.encoder = GATConv(in_channels, out_channels, heads=heads, concat=True)\n",
    "        self.decoder = torch.nn.Linear(out_channels * heads * 2, 1)  # Ajuste para concatenação de embeddings\n",
    "\n",
    "    def forward(self, x, edge_index):\n",
    "        z = self.encoder(x, edge_index)\n",
    "        z = F.relu(z)\n",
    "        row, col = edge_index\n",
    "        edge_features = torch.cat([z[row], z[col]], dim=1)  # Concatena embeddings das arestas\n",
    "        adj_reconstructed = self.decoder(edge_features).squeeze()\n",
    "        return z, adj_reconstructed\n",
    "\n",
    "# Função de perda\n",
    "def loss_function(reconstructed, edge_index, num_nodes):\n",
    "    true_adj = torch.zeros((num_nodes, num_nodes), device=reconstructed.device)\n",
    "    true_adj[edge_index[0], edge_index[1]] = 1\n",
    "    pred_adj = torch.sigmoid(reconstructed)\n",
    "    return F.binary_cross_entropy(pred_adj, true_adj[edge_index[0], edge_index[1]])\n",
    "\n",
    "# Métricas de avaliação\n",
    "def calcular_metricas(reconstructed, edge_index, embeddings):\n",
    "    # Arestas verdadeiras reconstruídas corretamente\n",
    "    true_positive = (reconstructed > 0.5).sum().item()  # Soma os valores reconstruídos como positivos\n",
    "    total_edges = edge_index.size(1)  # Total de arestas\n",
    "    precision = true_positive / total_edges  # Precisão\n",
    "    # Dispersão das features aprendidas (variância média)\n",
    "    feature_variance = embeddings.var(dim=0).mean().item()\n",
    "    return precision, feature_variance, total_edges, (reconstructed > 0.5).sum().item()\n",
    "\n",
    "\n",
    "# Função para treinar o modelo com métricas\n",
    "def treinar_gat_ae(train_loader, val_loader, in_channels=1, out_channels=4, epochs=10, batch_size=32, lr=0.01, save_path=\"model/gat_ae_model.pth\"):\n",
    "    device = torch.device('cuda' if torch.cuda.is_available() else 'cpu')\n",
    "    model = GATAutoencoder(in_channels=in_channels, out_channels=out_channels).to(device)\n",
    "    optimizer = torch.optim.Adam(model.parameters(), lr=lr)\n",
    "\n",
    "    model.train()\n",
    "    for epoch in range(epochs):\n",
    "        total_loss = 0\n",
    "        precisions = []\n",
    "        variances = []\n",
    "        for data in tqdm(train_loader, desc=f\"Epoch {epoch+1}/{epochs}\"):\n",
    "            data = data.to(device)\n",
    "            optimizer.zero_grad()\n",
    "            z, reconstructed_adj = model(data.x, data.edge_index)\n",
    "            loss = loss_function(reconstructed_adj, data.edge_index, data.num_nodes)\n",
    "            loss.backward()\n",
    "            optimizer.step()\n",
    "            total_loss += loss.item()\n",
    "            \n",
    "            # Calcular métricas no conjunto de treino\n",
    "            precision, feature_variance, _, _ = calcular_metricas(reconstructed_adj, data.edge_index, z)\n",
    "            precisions.append(precision)\n",
    "            variances.append(feature_variance)\n",
    "\n",
    "        # Agregar métricas por época\n",
    "        avg_precision = sum(precisions) / len(precisions)\n",
    "        avg_variance = sum(variances) / len(variances)\n",
    "        print(f\"Epoch {epoch + 1}/{epochs} - Train Loss: {total_loss:.4f}, Precision: {avg_precision:.4f}, Variance: {avg_variance:.4f}\")\n",
    "\n",
    "        # Avaliação no conjunto de validação\n",
    "        model.eval()\n",
    "        with torch.no_grad():\n",
    "            val_loss = 0\n",
    "            val_precisions = []\n",
    "            val_variances = []\n",
    "            for data in val_loader:\n",
    "                data = data.to(device)\n",
    "                z, reconstructed_adj = model(data.x, data.edge_index)\n",
    "                loss = loss_function(reconstructed_adj, data.edge_index, data.num_nodes)\n",
    "                val_loss += loss.item()\n",
    "                precision, feature_variance, _, _ = calcular_metricas(reconstructed_adj, data.edge_index, z)\n",
    "                val_precisions.append(precision)\n",
    "                val_variances.append(feature_variance)\n",
    "\n",
    "            avg_val_precision = sum(val_precisions) / len(val_precisions)\n",
    "            avg_val_variance = sum(val_variances) / len(val_variances)\n",
    "            print(f\"Epoch {epoch + 1}/{epochs} - Val Loss: {val_loss:.4f}, Precision: {avg_val_precision:.4f}, Variance: {avg_val_variance:.4f}\")\n",
    "        model.train()\n",
    "\n",
    "    # Salvar o modelo treinado\n",
    "    os.makedirs(os.path.dirname(save_path), exist_ok=True)\n",
    "    torch.save(model.state_dict(), save_path)\n",
    "    print(f\"Modelo salvo em: {save_path}\")\n",
    "    return model\n",
    "\n",
    "# Função para carregar o modelo salvo\n",
    "def carregar_modelo(path, in_channels, out_channels):\n",
    "    model = GATAutoencoder(in_channels, out_channels)\n",
    "    model.load_state_dict(torch.load(path))\n",
    "    model.eval()\n",
    "    return model\n",
    "\n",
    "# Exemplo de uso\n",
    "if __name__ == \"__main__\":\n",
    "    # Caminho do arquivo de grafos gerados\n",
    "    file_path = '/scratch/arturxavier/Clustering-Paper/Grafo/af.pt'\n",
    "\n",
    "    # Carregar os grafos de visibilidade\n",
    "    print(\"Carregando grafos de visibilidade...\")\n",
    "    dataset = carregar_grafos_visibilidade(file_path)\n",
    "    print(f\"Total de grafos carregados: {len(dataset)}\")\n",
    "\n",
    "    # Divisão dos dados em treino e validação\n",
    "    train_dataset = dataset[:int(len(dataset) * 0.8)]\n",
    "    val_dataset = dataset[int(len(dataset) * 0.8):]\n",
    "\n",
    "    train_loader = DataLoader(train_dataset, batch_size=32, shuffle=True)\n",
    "    val_loader = DataLoader(val_dataset, batch_size=32, shuffle=False)\n",
    "\n",
    "    # Treinar o modelo\n",
    "    print(\"Treinando o modelo GAT-AE...\")\n",
    "    modelo_treinado = treinar_gat_ae(train_loader, val_loader, in_channels=1, out_channels=4, epochs=10, batch_size=32, lr=0.01)\n",
    "\n",
    "    # Carregar o modelo salvo\n",
    "    modelo_salvo = carregar_modelo(\"model/gat_ae_model.pth\", in_channels=1, out_channels=4)\n",
    "    print(\"Modelo carregado com sucesso.\")\n"
   ]
  }
 ],
 "metadata": {
  "kernelspec": {
   "display_name": "ECG",
   "language": "python",
   "name": "python3"
  },
  "language_info": {
   "codemirror_mode": {
    "name": "ipython",
    "version": 3
   },
   "file_extension": ".py",
   "mimetype": "text/x-python",
   "name": "python",
   "nbconvert_exporter": "python",
   "pygments_lexer": "ipython3",
   "version": "3.11.11"
  }
 },
 "nbformat": 4,
 "nbformat_minor": 2
}
