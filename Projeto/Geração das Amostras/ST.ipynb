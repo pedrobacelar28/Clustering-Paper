{
 "cells": [
  {
   "cell_type": "code",
   "execution_count": 1,
   "metadata": {},
   "outputs": [
    {
     "name": "stderr",
     "output_type": "stream",
     "text": [
      "c:\\Users\\luisa\\AppData\\Local\\Programs\\Python\\Python312\\Lib\\site-packages\\tqdm\\auto.py:21: TqdmWarning: IProgress not found. Please update jupyter and ipywidgets. See https://ipywidgets.readthedocs.io/en/stable/user_install.html\n",
      "  from .autonotebook import tqdm as notebook_tqdm\n"
     ]
    }
   ],
   "source": [
    "#IMPORTS\n",
    "import warnings\n",
    "import pandas as pd\n",
    "import h5py\n",
    "from sklearn.cluster import DBSCAN\n",
    "from sklearn.preprocessing import StandardScaler\n",
    "import numpy as np\n",
    "import sys\n",
    "import os\n",
    "import scipy.signal as sgn\n",
    "import matplotlib.pyplot as plt\n",
    "import random\n",
    "from sklearn.manifold import TSNE\n",
    "import umap\n",
    "from sklearn.metrics import silhouette_score\n",
    "import hdbscan\n",
    "import sklearn.cluster as cluster\n",
    "from sklearn.metrics import adjusted_rand_score, adjusted_mutual_info_score\n",
    "from sklearn.cluster import HDBSCAN\n",
    "from tensorflow.keras.models import load_model\n",
    "import tensorflow as tf\n",
    "from tensorflow.keras.layers import Conv1D, Conv1DTranspose, BatchNormalization, ELU, Input\n",
    "from tensorflow.keras.models import Model\n",
    "from sklearn.cluster import KMeans\n",
    "import matplotlib.pyplot as plt\n",
    "from matplotlib.colors import ListedColormap, BoundaryNorm\n",
    "sys.path.append('../Pre-processing')  \n",
    "from filters import ecg_filtrado"
   ]
  },
  {
   "cell_type": "code",
   "execution_count": 2,
   "metadata": {},
   "outputs": [
    {
     "name": "stderr",
     "output_type": "stream",
     "text": [
      "c:\\Users\\luisa\\AppData\\Local\\Programs\\Python\\Python312\\Lib\\site-packages\\keras\\src\\saving\\saving_lib.py:576: UserWarning: Skipping variable loading for optimizer 'rmsprop', because it has 46 variables whereas the saved optimizer has 90 variables. \n",
      "  saveable.load_own_variables(weights_store.get(inner_path))\n"
     ]
    }
   ],
   "source": [
    "autoencoder = tf.keras.models.load_model('../modelos/autoencoder_model.keras')"
   ]
  },
  {
   "cell_type": "code",
   "execution_count": 3,
   "metadata": {},
   "outputs": [
    {
     "name": "stdout",
     "output_type": "stream",
     "text": [
      "Número de linhas ecg_normal_linhas: 134657\n",
      "Número de linhas ecg_doente_linhas: 6976\n",
      "Tirando Interferência:\n",
      "Número de linhas ecg_normal_linhas: 130877\n",
      "Número de linhas ecg_doente_linhas: 6849\n",
      "Número de ecgs pra clusterizar: 26849\n"
     ]
    }
   ],
   "source": [
    "#CARREGAR OS DADOS\n",
    "caminho_arquivo = \"../Database/exams.csv\"\n",
    "dados = pd.read_csv(caminho_arquivo)\n",
    "arquivos_usados = [\"exams_part0.hdf5\", \"exams_part1.hdf5\",\n",
    "                   \"exams_part2.hdf5\", \"exams_part3.hdf5\", \"exams_part4.hdf5\", \"exams_part5.hdf5\",\n",
    "                   \"exams_part6.hdf5\", \"exams_part7.hdf5\", \"exams_part8.hdf5\", \"exams_part9.hdf5\",\n",
    "                   \"exams_part10.hdf5\", \"exams_part11.hdf5\", \"exams_part12.hdf5\", \"exams_part13.hdf5\", \n",
    "                   \"exams_part14.hdf5\", \"exams_part15.hdf5\", \"exams_part16.hdf5\", \"exams_part17.hdf5\"]\n",
    "\n",
    "ecg_normal_linhas = dados.index[(dados.iloc[:, 14].isin(arquivos_usados))  & \n",
    "                                (dados.iloc[:, 13] == True) ]\n",
    "\n",
    "ecg_doente_linhas = dados.index[(dados.iloc[:, 14].isin(arquivos_usados)) & \n",
    "                                (dados.iloc[:, 4] == False) & \n",
    "                                (dados.iloc[:, 5] == False) & \n",
    "                                (dados.iloc[:, 6] == False) & \n",
    "                                (dados.iloc[:, 7] == False) & \n",
    "                                (dados.iloc[:, 8] == 1) & \n",
    "                                (dados.iloc[:, 9] == 0)]\n",
    "\n",
    "print(\"Número de linhas ecg_normal_linhas:\", len(ecg_normal_linhas))\n",
    "print(\"Número de linhas ecg_doente_linhas:\", len(ecg_doente_linhas))\n",
    "\n",
    "caminho_interferencias = \"../Database/resultados_interferencia.csv\"\n",
    "interferencias = pd.read_csv(caminho_interferencias)\n",
    "interferencias_ids = interferencias['exam_id'].tolist()\n",
    "\n",
    "ecg_normal_linhas = dados.index[~dados['exam_id'].isin(interferencias_ids) &\n",
    "                                (dados.iloc[:, 14].isin(arquivos_usados))  & \n",
    "                                (dados.iloc[:, 13] == True) ]\n",
    "\n",
    "ecg_doente_linhas = dados.index[~dados['exam_id'].isin(interferencias_ids) &\n",
    "                                (dados.iloc[:, 14].isin(arquivos_usados)) & \n",
    "                                (dados.iloc[:, 4] == False) & \n",
    "                                (dados.iloc[:, 5] == False) & \n",
    "                                (dados.iloc[:, 6] == False) & \n",
    "                                (dados.iloc[:, 7] == False) & \n",
    "                                (dados.iloc[:, 8] == 1) & \n",
    "                                (dados.iloc[:, 9] == 0)]\n",
    "\n",
    "print(\"Tirando Interferência:\")\n",
    "print(\"Número de linhas ecg_normal_linhas:\", len(ecg_normal_linhas))\n",
    "print(\"Número de linhas ecg_doente_linhas:\", len(ecg_doente_linhas))\n",
    "\n",
    "ecg_doente_id = dados.iloc[ecg_doente_linhas, 0].tolist()\n",
    "ecg_normal_id = dados.iloc[ecg_normal_linhas, 0].tolist()\n",
    "\n",
    "#ecg_doente = ecg_doente_id[]\n",
    "ecg_normal = ecg_normal_id[:20000]\n",
    "\n",
    "ids_ecgs= ecg_doente_id + ecg_normal\n",
    "print(\"Número de ecgs pra clusterizar:\", len(ids_ecgs))"
   ]
  },
  {
   "cell_type": "code",
   "execution_count": 4,
   "metadata": {},
   "outputs": [
    {
     "name": "stdout",
     "output_type": "stream",
     "text": [
      "Número de ecgs que eram pra ser processados: 26849\n",
      "Número total de traçados processados: 26849\n"
     ]
    }
   ],
   "source": [
    "#X\n",
    "arquivos_hdf5 = [\"../Database/filtered_exams_0_1.hdf5\",\n",
    "                 \"../Database/filtered_exams_2_3.hdf5\",  \"../Database/filtered_exams_4_5.hdf5\",\n",
    "                 \"../Database/filtered_exams_6_7.hdf5\",  \"../Database/filtered_exams_8_9.hdf5\",\n",
    "                 \"../Database/filtered_exams_10_11.hdf5\",  \"../Database/filtered_exams_12_13.hdf5\",\n",
    "                 \"../Database/filtered_exams_14_15.hdf5\", \"../Database/filtered_exams_16_17.hdf5\"]\n",
    "\n",
    "def get_ecg_data(file_path, exam_id):\n",
    "    with h5py.File(file_path, 'r') as f:\n",
    "        # Obter os IDs dos exames\n",
    "        exam_ids = np.array(f['exam_id'])\n",
    "\n",
    "        # Encontrar o índice correspondente ao exam_id de interesse\n",
    "        exam_index = np.where(exam_ids == exam_id)[0]\n",
    "\n",
    "        if len(exam_index) == 0:\n",
    "            raise ValueError(\"Exam ID não encontrado.\")\n",
    "        else:\n",
    "            exam_index = exam_index[0]\n",
    "            # Acessar os tracings de ECG correspondentes ao exam_index\n",
    "            exam_tracings = f['tracings'][exam_index]\n",
    "            return exam_tracings\n",
    "\n",
    "exam_ids_to_cluster = ids_ecgs  # Substitua pelos IDs reais dos exames\n",
    "\n",
    "# Lista para armazenar todos os tracings de ECG\n",
    "all_tracings = []\n",
    "\n",
    "# Obter os tracings de ECG para cada exam_id e armazenar na lista\n",
    "for exam_id in exam_ids_to_cluster:\n",
    "    found = False  # Sinalizador para verificar se o exame foi encontrado em algum arquivo\n",
    "    for arquivo in arquivos_hdf5:\n",
    "        try:\n",
    "            tracings = get_ecg_data(arquivo, exam_id)\n",
    "            if tracings is not None:\n",
    "                tracing_transposto = np.array(tracings).T\n",
    "                all_tracings.append(tracing_transposto)\n",
    "                found = True  # Sinalizador para indicar que o exame foi encontrado\n",
    "                break  # Se encontrou, não precisa continuar buscando nos outros arquivos\n",
    "        except ValueError as e:\n",
    "            i = 0\n",
    "        except Exception as e:\n",
    "            i = 0\n",
    "    \n",
    "    if not found:\n",
    "        print(f\"Erro: exame ID {exam_id} não encontrado em nenhum dos arquivos.\")\n",
    "\n",
    "# Verifique o tamanho da lista all_tracings para garantir que os dados foram coletados corretamente\n",
    "print(\"Número de ecgs que eram pra ser processados:\", len(ids_ecgs))\n",
    "print(f\"Número total de traçados processados: {len(all_tracings)}\")\n",
    "\n",
    "# X será um array com um único array dentro, contendo todos os números do tracings.T\n",
    "X = np.array(all_tracings)\n",
    " \n",
    "# Usando squeeze\n",
    "X = np.squeeze(X[:, 1, :])"
   ]
  },
  {
   "cell_type": "code",
   "execution_count": 5,
   "metadata": {},
   "outputs": [
    {
     "name": "stdout",
     "output_type": "stream",
     "text": [
      "\u001b[1m840/840\u001b[0m \u001b[32m━━━━━━━━━━━━━━━━━━━━\u001b[0m\u001b[37m\u001b[0m \u001b[1m18s\u001b[0m 21ms/step\n",
      "(26849, 128, 1)\n",
      "(26849, 128)\n"
     ]
    }
   ],
   "source": [
    "#DIMINUIR DIMENSAO DE X PELO AUTOENCODER(128)\n",
    "\n",
    "# Extrair o modelo encoder a partir do autoencoder treinado\n",
    "encoder = autoencoder.get_layer(\"encoder\")\n",
    "\n",
    "# Normalizar os dados entre 0 e 1 para um melhor desempenho do autoencoder\n",
    "X = X / np.max(np.abs(X), axis=1, keepdims=True)\n",
    "\n",
    "# Redimensionar os dados para o formato esperado pelo modelo (10500, 4096, 1)\n",
    "X = X.reshape((X.shape[0], X.shape[1], 1))\n",
    "\n",
    "# Obter os vetores codificados para todo o conjunto X\n",
    "X_encoded = encoder.predict(X)\n",
    "\n",
    "# X_encoded agora contém os vetores de 128 números para cada entrada em X\n",
    "print(X_encoded.shape)  # Deve ser (10500, 128, 1)\n",
    "\n",
    "# Remover a última dimensão para obter um vetor 2D\n",
    "X_encoded_2d = np.squeeze(X_encoded)\n",
    "print(X_encoded_2d.shape)  # Deve ser (10500, 128)\n",
    "\n",
    "# Substituir os valores NaN por epsilon\n",
    "epsilon = 1e-10\n",
    "X_encoded_2d = np.nan_to_num(X_encoded_2d, nan=epsilon)"
   ]
  },
  {
   "cell_type": "code",
   "execution_count": 6,
   "metadata": {},
   "outputs": [],
   "source": [
    "#DIMINUIR DIMENSAO DE X PELO UMAP(16)\n",
    "warnings.filterwarnings('ignore', message=\"n_jobs value.*overridden to 1 by setting random_state.*\")\n",
    "# Normalizar os dados\n",
    "scaler = StandardScaler()\n",
    "X_normalized = scaler.fit_transform(X_encoded_2d)\n",
    "# Aplicação do UMAP\n",
    "umap_reducer = umap.UMAP(n_neighbors=5, min_dist=0.0, n_components=16, random_state=42)\n",
    "X_reduced = umap_reducer.fit_transform(X_normalized)"
   ]
  },
  {
   "cell_type": "code",
   "execution_count": 7,
   "metadata": {},
   "outputs": [
    {
     "data": {
      "image/png": "[encoded data removed]",
      "text/plain": [
       "<Figure size 640x480 with 2 Axes>"
      ]
     },
     "metadata": {},
     "output_type": "display_data"
    },
    {
     "name": "stdout",
     "output_type": "stream",
     "text": [
      "Silhouette Score: 0.1248140037059784\n"
     ]
    },
    {
     "name": "stderr",
     "output_type": "stream",
     "text": [
      "C:\\Users\\luisa\\AppData\\Local\\Temp\\ipykernel_7120\\3672760519.py:43: DeprecationWarning: DataFrameGroupBy.apply operated on the grouping columns. This behavior is deprecated, and in a future version of pandas the grouping columns will be excluded from the operation. Either pass `include_groups=False` to exclude the groupings or explicitly select the grouping columns after groupby to silence this warning.\n",
      "  majority_labels = merged_data.groupby('cluster', group_keys=False).apply(determine_majority_label).reset_index()\n"
     ]
    },
    {
     "name": "stdout",
     "output_type": "stream",
     "text": [
      "F1 Score: 0.8277399963141642\n",
      "   cluster  1dAVb  RBBB  LBBB  SB    ST  AF  normal_ecg\n",
      "0       -1      0     0     0   0     0   0           6\n",
      "1        0      0     0     0   0  6241   0         224\n",
      "2        1      0     0     0   0   608   0       19770\n"
     ]
    }
   ],
   "source": [
    "#CLUSTERIZACAO HDBSCAN\n",
    "from sklearn.metrics import silhouette_score, f1_score\n",
    "import numpy as np\n",
    "\n",
    "# Clusterização HDBSCAN\n",
    "scaler = StandardScaler()\n",
    "X_reduced_scaled = scaler.fit_transform(X_reduced)\n",
    "\n",
    "dbscan = HDBSCAN(min_cluster_size=500, min_samples=1, cluster_selection_epsilon=2)\n",
    "labels = dbscan.fit_predict(X_reduced_scaled)\n",
    "\n",
    "# Visualização dos Resultados\n",
    "plt.scatter(X_reduced_scaled[:, 0], X_reduced_scaled[:, 1], c=labels, cmap='viridis', s=10)\n",
    "plt.xlabel('UMAP Dimension 1')\n",
    "plt.ylabel('UMAP Dimension 2')\n",
    "plt.title('ECG Clustering using UMAP and HDBSCAN\\nST and Normal')\n",
    "plt.colorbar(label='Cluster')\n",
    "plt.show()\n",
    "\n",
    "# Calcular e imprimir os scores\n",
    "silhouette_avg = silhouette_score(X_reduced_scaled, labels)\n",
    "print(f'Silhouette Score: {silhouette_avg}')\n",
    "\n",
    "# Carregar os dados do CSV\n",
    "metadata = pd.read_csv(\"../Database/exams.csv\")\n",
    "\n",
    "# Criar um DataFrame para os resultados do clustering\n",
    "cluster_results = pd.DataFrame({\n",
    "    'exam_id': exam_ids_to_cluster,\n",
    "    'cluster': labels\n",
    "})\n",
    "\n",
    "# Mesclar os resultados do clustering com os metadados dos exames\n",
    "merged_data = cluster_results.merge(metadata, on='exam_id')\n",
    "\n",
    "# Determinar o rótulo verdadeiro para cada cluster com base na maioria\n",
    "def determine_majority_label(cluster_data):\n",
    "    normal_count = cluster_data['normal_ecg'].sum()\n",
    "    disease_count = cluster_data[['1dAVb', 'RBBB', 'LBBB', 'SB', 'ST', 'AF']].sum().sum()\n",
    "    return 'normal' if normal_count > disease_count else 'disease'\n",
    "\n",
    "# Aplicar a função para determinar o rótulo majoritário de cada cluster\n",
    "majority_labels = merged_data.groupby('cluster', group_keys=False).apply(determine_majority_label).reset_index()\n",
    "majority_labels.columns = ['cluster', 'majority_label']\n",
    "\n",
    "# Mesclar os rótulos majoritários com os dados agrupados\n",
    "merged_data = merged_data.merge(majority_labels, on='cluster')\n",
    "\n",
    "# Criar rótulos verdadeiros\n",
    "def assign_true_label(row):\n",
    "    if row['majority_label'] == 'normal':\n",
    "        return row['normal_ecg'] == 1\n",
    "    else:\n",
    "        return row[['1dAVb', 'RBBB', 'LBBB', 'SB', 'ST', 'AF']].sum() > 0\n",
    "\n",
    "merged_data['true_label'] = merged_data.apply(assign_true_label, axis=1)\n",
    "\n",
    "# Calcular o F1 score\n",
    "true_labels = merged_data['true_label']\n",
    "f1_avg = f1_score(true_labels, labels, average='weighted')\n",
    "print(f'F1 Score: {f1_avg}')\n",
    "\n",
    "# Contar a quantidade de doenças e ECGs normais em cada cluster\n",
    "cluster_summary = merged_data.groupby('cluster').agg({\n",
    "    '1dAVb': 'sum',\n",
    "    'RBBB': 'sum',\n",
    "    'LBBB': 'sum',\n",
    "    'SB': 'sum',\n",
    "    'ST': 'sum',\n",
    "    'AF': 'sum',\n",
    "    'normal_ecg': 'sum'\n",
    "}).reset_index()\n",
    "\n",
    "# Mostrar o resumo por cluster\n",
    "print(cluster_summary)"
   ]
  },
  {
   "cell_type": "code",
   "execution_count": 8,
   "metadata": {},
   "outputs": [],
   "source": [
    "# CALCULAR SILHUETT DE CADA PONTO\n",
    "\n",
    "from sklearn.metrics import silhouette_samples\n",
    "\n",
    "silhouette_values = 0\n",
    "silhouette_values = silhouette_samples(X_reduced_scaled, labels)\n",
    "\n",
    "silhouette_df = pd.DataFrame({\n",
    "    'exam_id': exam_ids_to_cluster,\n",
    "    'label': labels,\n",
    "    'silhouette_score': silhouette_values\n",
    "})\n",
    "\n",
    "merged_data = silhouette_df.merge(metadata, on='exam_id')\n"
   ]
  },
  {
   "cell_type": "code",
   "execution_count": 12,
   "metadata": {},
   "outputs": [
    {
     "name": "stderr",
     "output_type": "stream",
     "text": [
      "C:\\Users\\luisa\\AppData\\Local\\Temp\\ipykernel_7120\\4131822211.py:38: DeprecationWarning: DataFrameGroupBy.apply operated on the grouping columns. This behavior is deprecated, and in a future version of pandas the grouping columns will be excluded from the operation. Either pass `include_groups=False` to exclude the groupings or explicitly select the grouping columns after groupby to silence this warning.\n",
      "  dados_selecionados = dados.groupby('tipo', group_keys=False).apply(select_25_evenly_spaced)\n"
     ]
    }
   ],
   "source": [
    "# GERAR CSV RESULTADOS\n",
    "\n",
    "# GUARDAR EM CSVS\n",
    "\n",
    "doenca = 'ST'\n",
    "\n",
    "colunas_desejadas = ['exam_id', 'label', '1dAVb', 'RBBB', 'LBBB' , 'SB' ,'ST' , 'AF', 'normal_ecg', 'silhouette_score']\n",
    "dados = merged_data[colunas_desejadas]\n",
    "dados = dados.sort_values(by=['label', 'silhouette_score'], ascending=[True, False])\n",
    "\n",
    "conditions = [\n",
    "    (dados['label'] == 0) & (dados[doenca] == True), (dados['label'] == 0) & (dados[doenca] == False),\n",
    "    (dados['label'] == 1) & (dados[doenca] == True), (dados['label'] == 1) & (dados[doenca] == False),\n",
    "    (dados['label'] == 2) & (dados[doenca] == True), (dados['label'] == 2) & (dados[doenca] == False),\n",
    "    (dados['label'] == -1) & (dados[doenca] == True), (dados['label'] == -1) & (dados[doenca] == False)\n",
    "]\n",
    "choices = [\n",
    "    'D_clusterD', 'N_clusterD',\n",
    "    'D_clusterN','N_clusterN',\n",
    "    'D_clusterM','N_clusterM',\n",
    "    'D_clusterO','N_clusterO',\n",
    "]\n",
    "\n",
    "dados['tipo'] = np.select(conditions, choices, default='Unknown')\n",
    "\n",
    "dados.to_csv(f'gerais/{doenca}_geral.csv', index=False)\n",
    "\n",
    "# GERAR AMOSTRAS\n",
    "\n",
    "def select_25_evenly_spaced(df):\n",
    "    total_rows = len(df)\n",
    "    if total_rows <= 25:\n",
    "        return df\n",
    "    else:\n",
    "        indices = np.linspace(0, total_rows-1, 45, dtype=int)\n",
    "        return df.iloc[indices]\n",
    "    \n",
    "dados_selecionados = dados.groupby('tipo', group_keys=False).apply(select_25_evenly_spaced)\n",
    "\n",
    "tipos_desejados = ['D_clusterD']\n",
    "dados_selecionados = dados_selecionados[dados_selecionados['tipo'].isin(tipos_desejados)]\n",
    "\n",
    "dados_selecionados.to_csv(f'amostras/{doenca}_amostras.csv', index=False)"
   ]
  },
  {
   "cell_type": "code",
   "execution_count": 10,
   "metadata": {},
   "outputs": [
    {
     "data": {
      "image/png": "[encoded data removed]",
      "text/plain": [
       "<Figure size 500x400 with 1 Axes>"
      ]
     },
     "metadata": {},
     "output_type": "display_data"
    }
   ],
   "source": [
    "#PLOTAR AMOSTRAS\n",
    "\n",
    "def plot_samples(X, exam_ids, labels, title):\n",
    "    colors = ['gray',    # 0: Other samples\n",
    "              'yellow',  # 1: D_clusterN\n",
    "              'orange',  # 2: N_clusterD\n",
    "              'blue',    # 3: D_clusterM\n",
    "              'red',     # 4: N_clusterM\n",
    "              'purple',  # 5: D_clusterO\n",
    "              'green']   # 6: N_clusterO\n",
    "    exam_id_to_index = {exam_id: idx for idx, exam_id in enumerate(exam_ids_to_cluster)}\n",
    "    sample_indices = [exam_id_to_index[exam_id] for exam_id in exam_ids]\n",
    "\n",
    "    all_labels = np.zeros(X.shape[0])\n",
    "    all_labels[sample_indices] = labels\n",
    "\n",
    "    plt.figure(figsize=(5, 4))\n",
    "    plt.scatter(X[:, 0], X[:, 1], c='lightgray', s=1, label='Other samples')\n",
    "    plt.scatter(X[sample_indices, 0], X[sample_indices, 1], c=[colors[label] for label in labels], s=30, edgecolor='k', label='Selected')\n",
    "    plt.xlabel('UMAP Dimension 1')\n",
    "    plt.ylabel('UMAP Dimension 2')\n",
    "    plt.title(title)\n",
    "    plt.legend()\n",
    "    plt.show()\n",
    "\n",
    "selected_exam_ids = dados_selecionados['exam_id'].values\n",
    "\n",
    "exam_id_to_index = {exam_id: idx for idx, exam_id in enumerate(exam_ids_to_cluster)}\n",
    "selected_indices = [exam_id_to_index[exam_id] for exam_id in selected_exam_ids]\n",
    "\n",
    "labels = [\n",
    "    1 if tipo == 'D_clusterN' else 2 if tipo == 'N_clusterD' else\n",
    "    3 if tipo == 'D_clusterM' else 4 if tipo == 'N_clusterM' else\n",
    "    5 if tipo == 'D_clusterO' else 6 if tipo == 'N_clusterO' else 0\n",
    "    for tipo in dados_selecionados['tipo'].values\n",
    "]\n",
    "\n",
    "plot_samples(X_reduced_scaled, selected_exam_ids, labels, f'Amostras {doenca}')\n"
   ]
  }
 ],
 "metadata": {
  "kernelspec": {
   "display_name": "Python 3",
   "language": "python",
   "name": "python3"
  },
  "language_info": {
   "codemirror_mode": {
    "name": "ipython",
    "version": 3
   },
   "file_extension": ".py",
   "mimetype": "text/x-python",
   "name": "python",
   "nbconvert_exporter": "python",
   "pygments_lexer": "ipython3",
   "version": "3.12.2"
  }
 },
 "nbformat": 4,
 "nbformat_minor": 2
}
