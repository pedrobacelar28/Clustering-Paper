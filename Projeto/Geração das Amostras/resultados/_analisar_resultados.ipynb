{
 "cells": [
  {
   "cell_type": "code",
   "execution_count": 1,
   "metadata": {},
   "outputs": [],
   "source": [
    "import pandas as pd\n",
    "import numpy as np\n",
    "import matplotlib.pyplot as plt"
   ]
  },
  {
   "cell_type": "code",
   "execution_count": 2,
   "metadata": {},
   "outputs": [],
   "source": [
    "SB = pd.read_csv('../gerais/SB_geral.csv')\n",
    "ST = pd.read_csv('../gerais/ST_geral.csv')\n",
    "AF = pd.read_csv('../gerais/AF_geral.csv')\n",
    "dAVB = pd.read_csv('../gerais/1dAVB_geral.csv')\n",
    "RBBB = pd.read_csv('../gerais/RBBB_geral.csv')\n",
    "LBBB = pd.read_csv('../gerais/LBBB_geral.csv')\n",
    "\n",
    "excel_1 = pd.read_excel('../excel/planilha_1.xlsx')\n",
    "excel_2 = pd.read_excel('../excel/planilha_2.xlsx')\n",
    "excel_3 = pd.read_excel('../excel/planilha_3.xlsx')\n",
    "excel_4 = pd.read_excel('../excel/planilha_4.xlsx')\n",
    "\n",
    "excel_combined = pd.concat([excel_1, excel_2, excel_3, excel_4], axis=0, ignore_index=True)\n",
    "excel_combined = excel_combined.fillna(np.nan)\n",
    "\n",
    "#excel_combined['borderline'] = excel_combined['borderline'].fillna(False) \n",
    "excel_combined['borderline'] = excel_combined['borderline'].replace({'Não': False, 'Sim': True})\n",
    "#excel_combined['comentario'] = excel_combined['comentario'].fillna(False) \n",
    "\n",
    "excel_combined.to_csv('../excel/excel_combined.csv', index=False)"
   ]
  },
  {
   "cell_type": "code",
   "execution_count": 3,
   "metadata": {},
   "outputs": [],
   "source": [
    "selected_columns = ['exam_id', 'label', 'normal_ecg', 'tipo',\n",
    "                    'silhouette_score', 'doenca', 'borderline', 'comentario']\n",
    "\n",
    "SB_merged = pd.merge(SB, excel_combined, on='exam_id', how='inner')[selected_columns].sort_values(by=['label', 'tipo'])\n",
    "ST_merged = pd.merge(ST, excel_combined, on='exam_id', how='inner')[selected_columns].sort_values(by=['label', 'tipo'])\n",
    "AF_merged = pd.merge(AF, excel_combined, on='exam_id', how='inner')[selected_columns].sort_values(by=['label', 'tipo'])\n",
    "dAVB_merged = pd.merge(dAVB, excel_combined, on='exam_id', how='inner')[selected_columns].sort_values(by=['label', 'tipo'])\n",
    "RBBB_merged = pd.merge(RBBB, excel_combined, on='exam_id', how='inner')[selected_columns].sort_values(by=['label', 'tipo'])\n",
    "LBBB_merged = pd.merge(LBBB, excel_combined, on='exam_id', how='inner')[selected_columns].sort_values(by=['label', 'tipo'])\n",
    "\n",
    "SB_merged.to_csv('SB.csv', index=False)\n",
    "ST_merged.to_csv('ST.csv', index=False)\n",
    "AF_merged.to_csv('AF.csv', index=False)\n",
    "dAVB_merged.to_csv('1dAVB.csv', index=False)\n",
    "RBBB_merged.to_csv('RBBB.csv', index=False)\n",
    "LBBB_merged.to_csv('LBBB.csv', index=False)"
   ]
  },
  {
   "cell_type": "code",
   "execution_count": 4,
   "metadata": {},
   "outputs": [],
   "source": [
    "tipos = [\n",
    "    'D_clusterD', 'N_clusterD',\n",
    "    'D_clusterN','N_clusterN',\n",
    "    'D_clusterM','N_clusterM',\n",
    "    'D_clusterO','N_clusterO',\n",
    "]\n",
    "\n",
    "resultados = {\n",
    "    'SB': SB_merged,\n",
    "    'ST': ST_merged,\n",
    "    'AF': AF_merged,\n",
    "    '1dAVB': dAVB_merged,\n",
    "    'RBBB': RBBB_merged,\n",
    "    'LBBB': LBBB_merged,\n",
    "}\n",
    "\n",
    "output_file = \"_resultados.txt\"\n",
    "with open(output_file, 'w') as file:\n",
    "    for nome, resultado in resultados.items():\n",
    "        file.write(f'Resultado: {nome}\\n\\n')\n",
    "        \n",
    "        for tipo in tipos:\n",
    "            selecionado = resultado.loc[resultado['tipo'] == tipo]\n",
    "            if not selecionado.empty:\n",
    "                file.write(f'  Tipo: {tipo}\\n')\n",
    "                \n",
    "                border_counts = selecionado['borderline'].value_counts()\n",
    "                doenca_counts = selecionado['doenca'].value_counts()\n",
    "\n",
    "                file.write(f'    Contagem Borderline: {border_counts.to_dict()}\\n')\n",
    "                file.write(f'    Contagem Doenca: {doenca_counts.to_dict()}\\n')\n",
    "        \n",
    "        file.write('\\n' + '-'*50 + '\\n\\n')"
   ]
  }
 ],
 "metadata": {
  "kernelspec": {
   "display_name": "Python 3",
   "language": "python",
   "name": "python3"
  },
  "language_info": {
   "codemirror_mode": {
    "name": "ipython",
    "version": 3
   },
   "file_extension": ".py",
   "mimetype": "text/x-python",
   "name": "python",
   "nbconvert_exporter": "python",
   "pygments_lexer": "ipython3",
   "version": "3.12.2"
  }
 },
 "nbformat": 4,
 "nbformat_minor": 2
}
