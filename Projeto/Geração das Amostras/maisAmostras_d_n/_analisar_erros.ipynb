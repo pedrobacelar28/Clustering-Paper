{
 "cells": [
  {
   "cell_type": "code",
   "execution_count": 30,
   "metadata": {},
   "outputs": [],
   "source": [
    "import pandas as pd\n",
    "import numpy as np\n",
    "import matplotlib.pyplot as plt"
   ]
  },
  {
   "cell_type": "code",
   "execution_count": 31,
   "metadata": {},
   "outputs": [],
   "source": [
    "def add_disease_columns(df, disease):\n",
    "    df['1dAVb'] = False\n",
    "    df['RBBB'] = False\n",
    "    df['LBBB'] = False\n",
    "    df['SB'] = False\n",
    "    df['ST'] = False\n",
    "    df['AF'] = False\n",
    "    df[disease] = True  # Define a coluna da doença atual como True\n",
    "    return df"
   ]
  },
  {
   "cell_type": "code",
   "execution_count": 32,
   "metadata": {},
   "outputs": [
    {
     "name": "stdout",
     "output_type": "stream",
     "text": [
      "Erros em SB: 9\n",
      "Erros em ST: 20\n",
      "Erros em AF: 6\n",
      "Erros em RBBB: 10\n",
      "Erros em LBBB: 17\n"
     ]
    }
   ],
   "source": [
    "SB_merged = pd.read_csv('SB.csv')\n",
    "ST_merged = pd.read_csv('ST.csv')\n",
    "AF_merged = pd.read_csv('AF.csv')\n",
    "RBBB_merged = pd.read_csv('RBBB.csv')\n",
    "LBBB_merged = pd.read_csv('LBBB.csv')\n",
    "\n",
    "SB_merged = add_disease_columns(SB_merged, 'SB')\n",
    "ST_merged = add_disease_columns(ST_merged, 'ST')\n",
    "AF_merged = add_disease_columns(AF_merged, 'AF')\n",
    "RBBB_merged = add_disease_columns(RBBB_merged, 'RBBB')\n",
    "LBBB_merged = add_disease_columns(LBBB_merged, 'LBBB')\n",
    "\n",
    "SB_erros = SB_merged[(SB_merged['normal_ecg'] == 0) & (SB_merged['doenca'] != 'SB') &  (SB_merged['doenca'])]\n",
    "ST_erros = ST_merged[(ST_merged['normal_ecg'] == 0) & (ST_merged['doenca'] != 'ST') &  (ST_merged['doenca'])]\n",
    "AF_erros = AF_merged[(AF_merged['normal_ecg'] == 0) & (AF_merged['doenca'] != 'AF') &  (AF_merged['doenca'])]\n",
    "RBBB_erros = RBBB_merged[(RBBB_merged['normal_ecg'] == 0) & (RBBB_merged['doenca'] != 'RBBB') &  (RBBB_merged['doenca'])]\n",
    "LBBB_erros = LBBB_merged[(LBBB_merged['normal_ecg'] == 0) & (LBBB_merged['doenca'] != 'LBBB') &  (LBBB_merged['doenca'])]\n",
    "\n",
    "print(\"Erros em SB:\", len(SB_erros))\n",
    "print(\"Erros em ST:\", len(ST_erros))\n",
    "print(\"Erros em AF:\", len(AF_erros))\n",
    "print(\"Erros em RBBB:\", len(RBBB_erros))\n",
    "print(\"Erros em LBBB:\", len(LBBB_erros))\n",
    "\n",
    "erros_combinados = pd.concat([SB_erros, ST_erros, AF_erros, RBBB_erros, LBBB_erros])\n"
   ]
  },
  {
   "cell_type": "code",
   "execution_count": 35,
   "metadata": {},
   "outputs": [
    {
     "name": "stdout",
     "output_type": "stream",
     "text": [
      "Arquivo 'erros.csv' salvo com sucesso.\n"
     ]
    }
   ],
   "source": [
    "merged_df  = pd.concat([SB_erros, ST_erros, AF_erros, RBBB_erros, LBBB_erros])\n",
    "merged_df = merged_df[['exam_id', 'label', '1dAVb', 'RBBB', 'LBBB', 'SB', 'ST', 'AF', 'normal_ecg', \n",
    "                       'silhouette_score', 'tipo', 'doenca', 'borderline', 'comentario']]\n",
    "tipos = [\"D_clusterN\", \"D_clusterO\", \"D_clusterM\"]\n",
    "\n",
    "merged_df = merged_df[merged_df['tipo'].isin(tipos)]\n",
    "merged_df.to_csv('_erros.csv', index=False)\n",
    "print(\"Arquivo 'erros.csv' salvo com sucesso.\")\n"
   ]
  }
 ],
 "metadata": {
  "kernelspec": {
   "display_name": "Python 3",
   "language": "python",
   "name": "python3"
  },
  "language_info": {
   "codemirror_mode": {
    "name": "ipython",
    "version": 3
   },
   "file_extension": ".py",
   "mimetype": "text/x-python",
   "name": "python",
   "nbconvert_exporter": "python",
   "pygments_lexer": "ipython3",
   "version": "3.12.2"
  }
 },
 "nbformat": 4,
 "nbformat_minor": 2
}
