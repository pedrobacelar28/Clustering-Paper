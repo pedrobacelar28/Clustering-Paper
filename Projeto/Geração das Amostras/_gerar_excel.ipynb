{
 "cells": [
  {
   "cell_type": "code",
   "execution_count": 1,
   "metadata": {},
   "outputs": [],
   "source": [
    "import pandas as pd\n",
    "import numpy as np\n",
    "from openpyxl import load_workbook\n",
    "from openpyxl.worksheet.datavalidation import DataValidation\n"
   ]
  },
  {
   "cell_type": "code",
   "execution_count": 5,
   "metadata": {},
   "outputs": [
    {
     "name": "stdout",
     "output_type": "stream",
     "text": [
      "Tamanho inicial: 275\n",
      "Tamanho depois de remover duplicatas: 271\n",
      "Arquivo Excel 'excel/amostras_1.xlsx' salvo com sucesso.\n",
      "Arquivo Excel 'excel/amostras_2.xlsx' salvo com sucesso.\n",
      "Arquivo Excel 'excel/amostras_3.xlsx' salvo com sucesso.\n",
      "Arquivo Excel 'excel/amostras_4.xlsx' salvo com sucesso.\n",
      "Arquivo Excel 'excel/amostras_5.xlsx' salvo com sucesso.\n"
     ]
    },
    {
     "name": "stderr",
     "output_type": "stream",
     "text": [
      "c:\\Users\\luisa\\AppData\\Local\\Programs\\Python\\Python312\\Lib\\site-packages\\numpy\\core\\fromnumeric.py:59: FutureWarning: 'DataFrame.swapaxes' is deprecated and will be removed in a future version. Please use 'DataFrame.transpose' instead.\n",
      "  return bound(*args, **kwds)\n"
     ]
    }
   ],
   "source": [
    "SB = pd.read_csv('dados/SB_amostras.csv')\n",
    "ST = pd.read_csv('dados/ST_amostras.csv')\n",
    "AF = pd.read_csv('dados/AF_amostras.csv')\n",
    "dAVB = pd.read_csv('dados/1dAVB_amostras.csv')\n",
    "\n",
    "#dados_selecionados = pd.concat([ST, SB, AF, LBBB, RBBB, AVB], ignore_index=True)\n",
    "dados_selecionados = pd.concat([ST, SB, AF, dAVB], ignore_index=True)\n",
    "\n",
    "# SALVAR IDS EM EXCEL \n",
    "dados_selecionados = dados_selecionados.sort_values(by=['exam_id'], ascending=[True])\n",
    "print ('Tamanho inicial:', dados_selecionados.shape[0])\n",
    "\n",
    "dados_selecionados = dados_selecionados.drop_duplicates(subset='exam_id')\n",
    "print ('Tamanho depois de remover duplicatas:',dados_selecionados.shape[0])\n",
    "\n",
    "ids = dados_selecionados['exam_id'].tolist()\n",
    "ids = pd.DataFrame({\n",
    "    'exam_id': ids,\n",
    "    'doenca': [''] * len(ids),\n",
    "    'borderline': [''] * len(ids),\n",
    "    'comentario': [''] * len(ids) \n",
    "})\n",
    "\n",
    "num_parts = 5\n",
    "split_dfs = np.array_split(ids, num_parts)\n",
    "\n",
    "for i, df_part in enumerate(split_dfs):\n",
    "    excel_path = f'excel/amostras_{i+1}.xlsx'\n",
    "    df_part.to_excel(excel_path, index=False)\n",
    "    print(f\"Arquivo Excel '{excel_path}' salvo com sucesso.\")\n"
   ]
  },
  {
   "cell_type": "code",
   "execution_count": 6,
   "metadata": {},
   "outputs": [
    {
     "name": "stdout",
     "output_type": "stream",
     "text": [
      "Validação de dados adicionada e arquivo salvo com sucesso.\n",
      "Validação de dados adicionada e arquivo salvo com sucesso.\n",
      "Validação de dados adicionada e arquivo salvo com sucesso.\n",
      "Validação de dados adicionada e arquivo salvo com sucesso.\n",
      "Validação de dados adicionada e arquivo salvo com sucesso.\n"
     ]
    }
   ],
   "source": [
    "for i in range(5):\n",
    "    excel_path = f'excel/amostras_{i+1}.xlsx'\n",
    "\n",
    "    # Adicionar validação de dados para a coluna 'doenca'\n",
    "    wb = load_workbook(excel_path)\n",
    "    ws = wb.active\n",
    "\n",
    "    # Criar uma lista de opções para a validação de dados na coluna 'doenca'\n",
    "    doenca_options = ['ST', 'SB', 'AF', 'LBBB', 'RBBB', '1dAVB', 'Outra Doença', 'Nenhuma Doença', 'Interferência']\n",
    "    doenca_dv = DataValidation(type=\"list\", formula1=f'\"{\",\".join(doenca_options)}\"', showDropDown=True)\n",
    "\n",
    "    # Criar uma lista de opções para a validação de dados na coluna 'borderline'\n",
    "    borderline_options = ['Sim', 'Não']\n",
    "    borderline_dv = DataValidation(type=\"list\", formula1=f'\"{\",\".join(borderline_options)}\"', showDropDown=True)\n",
    "\n",
    "    # Adicionar a validação às colunas apropriadas\n",
    "    for row in range(2, len(ids) + 2):   # Começa na linha 2 para pular o cabeçalho\n",
    "        doenca_cell = ws[f'B{row}']      # Coluna B para 'doenca'\n",
    "        borderline_cell = ws[f'C{row}']  # Coluna C para 'borderline'\n",
    "        \n",
    "        ws.add_data_validation(doenca_dv)\n",
    "        ws.add_data_validation(borderline_dv)\n",
    "        \n",
    "        doenca_dv.add(doenca_cell)\n",
    "        borderline_dv.add(borderline_cell)\n",
    "\n",
    "    # Salvar o arquivo com a validação de dados\n",
    "    wb.save(excel_path)\n",
    "    print(\"Validação de dados adicionada e arquivo salvo com sucesso.\")"
   ]
  }
 ],
 "metadata": {
  "kernelspec": {
   "display_name": "Python 3",
   "language": "python",
   "name": "python3"
  },
  "language_info": {
   "codemirror_mode": {
    "name": "ipython",
    "version": 3
   },
   "file_extension": ".py",
   "mimetype": "text/x-python",
   "name": "python",
   "nbconvert_exporter": "python",
   "pygments_lexer": "ipython3",
   "version": "3.12.2"
  }
 },
 "nbformat": 4,
 "nbformat_minor": 2
}
