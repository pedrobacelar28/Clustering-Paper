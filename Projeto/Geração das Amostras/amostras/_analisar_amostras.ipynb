{
 "cells": [
  {
   "cell_type": "code",
   "execution_count": 2,
   "metadata": {},
   "outputs": [],
   "source": [
    "import pandas as pd\n",
    "import numpy as np\n",
    "from openpyxl import load_workbook\n",
    "import os\n",
    "import h5py\n",
    "import ecg_plot\n",
    "import matplotlib.pyplot as plt\n",
    "from openpyxl.worksheet.datavalidation import DataValidation\n"
   ]
  },
  {
   "cell_type": "code",
   "execution_count": 3,
   "metadata": {},
   "outputs": [
    {
     "name": "stdout",
     "output_type": "stream",
     "text": [
      "SB :  36\n",
      "    D_clusterD :  0\n",
      "    N_clusterD :  18\n",
      "    D_clusterN :  18\n",
      "    N_clusterN :  0\n",
      "    D_clusterM :  0\n",
      "    N_clusterM :  0\n",
      "    D_clusterO :  0\n",
      "    N_clusterO :  0\n",
      "ST :  80\n",
      "    D_clusterD :  0\n",
      "    N_clusterD :  20\n",
      "    D_clusterN :  20\n",
      "    N_clusterN :  0\n",
      "    D_clusterM :  20\n",
      "    N_clusterM :  20\n",
      "    D_clusterO :  0\n",
      "    N_clusterO :  0\n",
      "AF :  60\n",
      "    D_clusterD :  0\n",
      "    N_clusterD :  20\n",
      "    D_clusterN :  20\n",
      "    N_clusterN :  0\n",
      "    D_clusterM :  0\n",
      "    N_clusterM :  0\n",
      "    D_clusterO :  20\n",
      "    N_clusterO :  0\n",
      "1dAVB :  48\n",
      "    D_clusterD :  12\n",
      "    N_clusterD :  12\n",
      "    D_clusterN :  12\n",
      "    N_clusterN :  12\n",
      "    D_clusterM :  0\n",
      "    N_clusterM :  0\n",
      "    D_clusterO :  0\n",
      "    N_clusterO :  0\n",
      "RBBB :  50\n",
      "    D_clusterD :  0\n",
      "    N_clusterD :  25\n",
      "    D_clusterN :  25\n",
      "    N_clusterN :  0\n",
      "    D_clusterM :  0\n",
      "    N_clusterM :  0\n",
      "    D_clusterO :  0\n",
      "    N_clusterO :  0\n",
      "LBBB :  50\n",
      "    D_clusterD :  0\n",
      "    N_clusterD :  22\n",
      "    D_clusterN :  22\n",
      "    N_clusterN :  0\n",
      "    D_clusterM :  0\n",
      "    N_clusterM :  0\n",
      "    D_clusterO :  2\n",
      "    N_clusterO :  4\n"
     ]
    }
   ],
   "source": [
    "# CARREGAR IDS\n",
    "SB = pd.read_csv('SB_amostras.csv')\n",
    "ST = pd.read_csv('ST_amostras.csv')\n",
    "AF = pd.read_csv('AF_amostras.csv')\n",
    "dAVB = pd.read_csv('1dAVB_amostras.csv')\n",
    "RBBB = pd.read_csv('RBBB_amostras.csv')\n",
    "LBBB = pd.read_csv('LBBB_amostras.csv')\n",
    "\n",
    "amostras = {\n",
    "    'SB': SB,\n",
    "    'ST': ST,\n",
    "    'AF': AF,\n",
    "    '1dAVB': dAVB,\n",
    "    'RBBB': RBBB,\n",
    "    'LBBB': LBBB,\n",
    "}\n",
    "tipos = [\n",
    "    'D_clusterD', 'N_clusterD',\n",
    "    'D_clusterN','N_clusterN',\n",
    "    'D_clusterM','N_clusterM',\n",
    "    'D_clusterO','N_clusterO',\n",
    "]\n",
    "\n",
    "for doenca, amostras in amostras.items():\n",
    "    print (doenca, ': ', amostras.shape[0]) \n",
    "    for tipo in tipos:\n",
    "        doenca_tipo = amostras.loc[amostras['tipo']==tipo]\n",
    "        print ('   ', tipo, ': ', doenca_tipo.shape[0])"
   ]
  },
  {
   "cell_type": "code",
   "execution_count": 4,
   "metadata": {},
   "outputs": [
    {
     "name": "stdout",
     "output_type": "stream",
     "text": [
      "153\n"
     ]
    }
   ],
   "source": [
    "dados_selecionados = pd.concat([ST, SB, AF, LBBB, RBBB, dAVB], ignore_index=False)\n",
    "\n",
    "dados_normais = dados_selecionados.loc[dados_selecionados['normal_ecg']]\n",
    "print(dados_normais.shape[0])"
   ]
  }
 ],
 "metadata": {
  "kernelspec": {
   "display_name": "Python 3",
   "language": "python",
   "name": "python3"
  },
  "language_info": {
   "codemirror_mode": {
    "name": "ipython",
    "version": 3
   },
   "file_extension": ".py",
   "mimetype": "text/x-python",
   "name": "python",
   "nbconvert_exporter": "python",
   "pygments_lexer": "ipython3",
   "version": "3.12.2"
  }
 },
 "nbformat": 4,
 "nbformat_minor": 2
}
