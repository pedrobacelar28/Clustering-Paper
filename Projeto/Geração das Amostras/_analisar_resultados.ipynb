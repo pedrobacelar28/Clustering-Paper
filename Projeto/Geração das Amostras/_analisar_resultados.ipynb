{
 "cells": [
  {
   "cell_type": "code",
   "execution_count": 11,
   "metadata": {},
   "outputs": [],
   "source": [
    "import pandas as pd\n",
    "import numpy as np"
   ]
  },
  {
   "cell_type": "code",
   "execution_count": 23,
   "metadata": {},
   "outputs": [
    {
     "name": "stdout",
     "output_type": "stream",
     "text": [
      "    exam_id   doenca borderline                              comentario\n",
      "0   1144689       AF        Não                                     NaN\n",
      "1   1148170  Nenhuma        Não                                     NaN\n",
      "2   1167343  Nenhuma        Não                                     NaN\n",
      "3   1179606    Outra        Não  Extrassintole ventricular polimorfica \n",
      "4   1183535       AF        Não                                     NaN\n",
      "..      ...      ...        ...                                     ...\n",
      "75  1743775      NaN        NaN                                     NaN\n",
      "76  1760039      NaN        NaN                                     NaN\n",
      "77  1776228      NaN        NaN                                     NaN\n",
      "78  1777930      NaN        NaN                                     NaN\n",
      "79  1782249      NaN        NaN                                     NaN\n",
      "\n",
      "[80 rows x 4 columns]\n"
     ]
    },
    {
     "name": "stderr",
     "output_type": "stream",
     "text": [
      "C:\\Users\\luisa\\AppData\\Local\\Temp\\ipykernel_35016\\3279706078.py:18: FutureWarning: Downcasting behavior in `replace` is deprecated and will be removed in a future version. To retain the old behavior, explicitly call `result.infer_objects(copy=False)`. To opt-in to the future behavior, set `pd.set_option('future.no_silent_downcasting', True)`\n",
      "  excel_combined['borderline'] = excel_combined['borderline'].replace({'Não': False, 'Sim': True})\n"
     ]
    }
   ],
   "source": [
    "SB = pd.read_csv('gerais/SB_geral.csv')\n",
    "ST = pd.read_csv('gerais/ST_geral.csv')\n",
    "AF = pd.read_csv('gerais/AF_geral.csv')\n",
    "dAVB = pd.read_csv('gerais/1dAVB_geral.csv')\n",
    "RBBB = pd.read_csv('gerais/RBBB_geral.csv')\n",
    "LBBB = pd.read_csv('gerais/LBBB_geral.csv')\n",
    "\n",
    "excel_1 = pd.read_excel('excel/planilha_1.xlsx')\n",
    "excel_2 = pd.read_excel('excel/planilha_2.xlsx')\n",
    "excel_3 = pd.read_excel('excel/planilha_3.xlsx')\n",
    "print(excel_3)\n",
    "excel_4 = pd.read_excel('excel/planilha_4.xlsx')\n",
    "\n",
    "excel_combined = pd.concat([excel_1, excel_2, excel_3, excel_4], axis=0, ignore_index=True)\n",
    "excel_combined = excel_combined.fillna(np.nan)\n",
    "\n",
    "excel_combined['borderline'] = excel_combined['borderline'].fillna(False) \n",
    "excel_combined['borderline'] = excel_combined['borderline'].replace({'Não': False, 'Sim': True})\n",
    "\n",
    "excel_combined['comentario'] = excel_combined['comentario'].fillna(False) \n",
    "\n",
    "excel_combined.to_csv('excel/excel_combined.csv', index=False)"
   ]
  },
  {
   "cell_type": "code",
   "execution_count": 34,
   "metadata": {},
   "outputs": [],
   "source": [
    "selected_columns = ['exam_id', 'label', 'normal_ecg', 'tipo',\n",
    "                    'silhouette_score', 'doenca', 'borderline', 'comentario']\n",
    "\n",
    "SB_merged = pd.merge(SB, excel_combined, on='exam_id', how='inner')[selected_columns].sort_values(by=['label', 'tipo'])\n",
    "ST_merged = pd.merge(ST, excel_combined, on='exam_id', how='inner')[selected_columns].sort_values(by=['label', 'tipo'])\n",
    "AF_merged = pd.merge(AF, excel_combined, on='exam_id', how='inner')[selected_columns].sort_values(by=['label', 'tipo'])\n",
    "dAVB_merged = pd.merge(dAVB, excel_combined, on='exam_id', how='inner')[selected_columns].sort_values(by=['label', 'tipo'])\n",
    "RBBB_merged = pd.merge(RBBB, excel_combined, on='exam_id', how='inner')[selected_columns].sort_values(by=['label', 'tipo'])\n",
    "LBBB_merged = pd.merge(LBBB, excel_combined, on='exam_id', how='inner')[selected_columns].sort_values(by=['label', 'tipo'])\n",
    "\n",
    "SB_merged.to_csv('resultados/SB.csv', index=False)\n",
    "ST_merged.to_csv('resultados/ST.csv', index=False)\n",
    "AF_merged.to_csv('resultados/AF.csv', index=False)\n",
    "dAVB_merged.to_csv('resultados/1dAVB.csv', index=False)\n",
    "RBBB_merged.to_csv('resultados/RBBB.csv', index=False)\n",
    "LBBB_merged.to_csv('resultados/LBBB.csv', index=False)"
   ]
  }
 ],
 "metadata": {
  "kernelspec": {
   "display_name": "Python 3",
   "language": "python",
   "name": "python3"
  },
  "language_info": {
   "codemirror_mode": {
    "name": "ipython",
    "version": 3
   },
   "file_extension": ".py",
   "mimetype": "text/x-python",
   "name": "python",
   "nbconvert_exporter": "python",
   "pygments_lexer": "ipython3",
   "version": "3.12.2"
  }
 },
 "nbformat": 4,
 "nbformat_minor": 2
}
