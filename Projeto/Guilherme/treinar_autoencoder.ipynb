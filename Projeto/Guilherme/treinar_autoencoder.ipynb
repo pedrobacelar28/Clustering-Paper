{
 "cells": [
  {
   "cell_type": "code",
   "execution_count": null,
   "metadata": {},
   "outputs": [],
   "source": [
    "#IMPORTS\n",
    "import warnings\n",
    "import pandas as pd\n",
    "import h5py\n",
    "from sklearn.cluster import DBSCAN\n",
    "from sklearn.preprocessing import StandardScaler\n",
    "import numpy as np\n",
    "import sys\n",
    "import os\n",
    "import scipy.signal as sgn\n",
    "import matplotlib.pyplot as plt\n",
    "import random\n",
    "from sklearn.manifold import TSNE\n",
    "# Aplicação do HDBSCAN\n",
    "import umap\n",
    "from sklearn.metrics import silhouette_score\n",
    "import hdbscan\n",
    "import sklearn.cluster as cluster\n",
    "from sklearn.metrics import adjusted_rand_score, adjusted_mutual_info_score\n",
    "from sklearn.cluster import HDBSCAN\n",
    "import tensorflow as tf\n",
    "from tensorflow.keras.layers import Conv1D, Conv1DTranspose, BatchNormalization, ELU, Input\n",
    "from tensorflow.keras.models import Model\n",
    "\n",
    "sys.path.append('../Pre-processing')  \n",
    "from filters import ecg_filtrado"
   ]
  },
  {
   "cell_type": "code",
   "execution_count": 67,
   "metadata": {},
   "outputs": [
    {
     "name": "stdout",
     "output_type": "stream",
     "text": [
      "Número de linhas ecg_normal_linhas: 73700\n",
      "Número de linhas ecg_doente_linhas: 2190\n",
      "Tirando Interferência:\n",
      "Número de linhas ecg_normal_linhas: 71713\n",
      "Número de linhas ecg_doente_linhas: 2150\n",
      "Número de ecgs pra clusterizar: 2150\n"
     ]
    }
   ],
   "source": [
    "#CARREGAR OS DADOS\n",
    "caminho_arquivo = \"../Database/exams.csv\"\n",
    "dados = pd.read_csv(caminho_arquivo)\n",
    "arquivos_usados = [\"exams_part14.hdf5\", \"exams_part15.hdf5\", \"exams_part16.hdf5\", \"exams_part17.hdf5\",\"exams_part12.hdf5\", \"exams_part13.hdf5\", \"exams_part10.hdf5\", \"exams_part11.hdf5\",\"exams_part9.hdf5\", \"exams_part8.hdf5\"]\n",
    "\n",
    "ecg_normal_linhas = dados.index[(dados.iloc[:, 14].isin(arquivos_usados))  & \n",
    "                                (dados.iloc[:, 13] == True) ]\n",
    "\n",
    "ecg_doente_linhas = dados.index[(dados.iloc[:, 14].isin(arquivos_usados)) & \n",
    "                                (dados.iloc[:, 4] == True) & \n",
    "                                (dados.iloc[:, 5] == False ) & \n",
    "                                (dados.iloc[:, 6] == False) & \n",
    "                                (dados.iloc[:, 7] == False) & \n",
    "                                (dados.iloc[:, 8] == False) & \n",
    "                                (dados.iloc[:, 9] == False)]\n",
    "\n",
    "print(\"Número de linhas ecg_normal_linhas:\", len(ecg_normal_linhas))\n",
    "print(\"Número de linhas ecg_doente_linhas:\", len(ecg_doente_linhas))\n",
    "\n",
    "caminho_interferencias = \"../Database/resultados_interferencia.csv\"\n",
    "interferencias = pd.read_csv(caminho_interferencias)\n",
    "interferencias_ids = interferencias['exam_id'].tolist()\n",
    "\n",
    "ecg_normal_linhas = dados.index[~dados['exam_id'].isin(interferencias_ids) &\n",
    "                                (dados.iloc[:, 14].isin(arquivos_usados))  & \n",
    "                                (dados.iloc[:, 13] == True) ]\n",
    "\n",
    "ecg_doente_linhas = dados.index[~dados['exam_id'].isin(interferencias_ids) &\n",
    "                                (dados.iloc[:, 14].isin(arquivos_usados)) & \n",
    "                                (dados.iloc[:, 4] == True) & \n",
    "                                (dados.iloc[:, 5] == False ) & \n",
    "                                (dados.iloc[:, 6] == False) & \n",
    "                                (dados.iloc[:, 7] == False) & \n",
    "                                (dados.iloc[:, 8] == False) & \n",
    "                                (dados.iloc[:, 9] == False)]\n",
    "\n",
    "print(\"Tirando Interferência:\")\n",
    "print(\"Número de linhas ecg_normal_linhas:\", len(ecg_normal_linhas))\n",
    "print(\"Número de linhas ecg_doente_linhas:\", len(ecg_doente_linhas))\n",
    "\n",
    "ecg_doente_id = dados.iloc[ecg_doente_linhas, 0].tolist()\n",
    "ecg_normal_id = dados.iloc[ecg_normal_linhas, 0].tolist()\n",
    "\n",
    "#ecg_doente = ecg_doente_id[]\n",
    "ecg_normal = ecg_normal_id[:10000]\n",
    "\n",
    "ids_ecgs = ecg_doente_id \n",
    "print(\"Número de ecgs pra clusterizar:\", len(ids_ecgs))"
   ]
  },
  {
   "cell_type": "code",
   "execution_count": 69,
   "metadata": {},
   "outputs": [
    {
     "name": "stdout",
     "output_type": "stream",
     "text": [
      "Shape de X para o autoencoder: (2150, 4096)\n"
     ]
    }
   ],
   "source": [
    "# Função para obter dados de ECG de um arquivo HDF5\n",
    "def get_ecg_data(file_paths, exam_id):\n",
    "    for file_path in file_paths:\n",
    "        with h5py.File(file_path, 'r') as f:\n",
    "            exam_ids = np.array(f['exam_id'])\n",
    "            exam_index = np.where(exam_ids == exam_id)[0]\n",
    "            if len(exam_index) != 0:\n",
    "                exam_index = exam_index[0]\n",
    "                exam_tracings = f['tracings'][exam_index]\n",
    "                return exam_tracings\n",
    "    raise ValueError(\"Exam ID não encontrado em nenhum dos arquivos fornecidos.\")\n",
    "\n",
    "# Caminhos para os arquivos HDF5\n",
    "file_paths = ['../Database/filtered_exams_14_15.hdf5', '../Database/filtered_exams_16_17.hdf5','../Database/filtered_exams_12_13.hdf5', '../Database/filtered_exams_10_11.hdf5','../Database/filtered_exams_8_9.hdf5']\n",
    "\n",
    "\n",
    "\n",
    "# Obter os tracings de ECG para cada exam_id e armazenar na lista\n",
    "all_tracings = []\n",
    "for exam_id in ids_ecgs:\n",
    "    tracings = get_ecg_data(file_paths, exam_id)\n",
    "    #Selecionar as leads V1 (índice 6) e V6 (índice 11)\n",
    "    lead_v1 = tracings[:, 5]\n",
    "    #lead_v6 = tracings[:, 9]\n",
    "    #lead_d2 = tracings[:, 6]\n",
    "    #lead_d1 = tracings[:, 11]\n",
    "    #Combinar as leads V1 e V6 em uma única dimensão\n",
    "    #combined_leads = np.concatenate((lead_v1, lead_v6))\n",
    "    all_tracings.append(lead_v1)\n",
    "\n",
    "# Converter lista para array numpy\n",
    "X = np.array(all_tracings)\n",
    "\n",
    "print(\"Shape de X para o autoencoder:\", X.shape)\n",
    "# X agora está pronto para ser usado no autoencoder"
   ]
  },
  {
   "cell_type": "code",
   "execution_count": 78,
   "metadata": {},
   "outputs": [
    {
     "name": "stdout",
     "output_type": "stream",
     "text": [
      "O ID do exame no índice 11700 é: 1254370\n"
     ]
    },
    {
     "data": {
      "image/png": "[encoded data removed]",
      "text/plain": [
       "<Figure size 640x480 with 1 Axes>"
      ]
     },
     "metadata": {},
     "output_type": "display_data"
    }
   ],
   "source": [
    "# Índice desejado\n",
    "index = 8\n",
    "\n",
    "# Verifique se o índice está dentro dos limites da lista\n",
    "if index < len(ids_ecgs):\n",
    "    exam_id = ids_ecgs[index]\n",
    "    print(\"O ID do exame no índice 11700 é:\", exam_id)\n",
    "else:\n",
    "    print(\"O índice está fora dos limites da lista de IDs de exames.\")\n",
    "\n",
    "# Plotar os dados de ECG para o índice desejado\n",
    "plt.plot(X[index])\n",
    "plt.title(f\"ECG Lead V1 for Exam ID: {exam_id}\")\n",
    "plt.xlabel(\"Time\")\n",
    "plt.ylabel(\"Amplitude\")\n",
    "plt.show()"
   ]
  },
  {
   "cell_type": "code",
   "execution_count": 64,
   "metadata": {},
   "outputs": [],
   "source": [
    "import torch\n",
    "import torch.nn as nn\n",
    "import torch.nn.functional as F\n",
    "\n",
    "class Encoder(nn.Module):\n",
    "    def __init__(self):\n",
    "        super(Encoder, self).__init__()\n",
    "        self.conv1 = nn.Conv1d(in_channels=1, out_channels=40, kernel_size=16, stride=2, padding=7)\n",
    "        self.bn1 = nn.BatchNorm1d(40)\n",
    "        self.conv2 = nn.Conv1d(in_channels=40, out_channels=20, kernel_size=16, stride=2, padding=7)\n",
    "        self.bn2 = nn.BatchNorm1d(20)\n",
    "        self.conv3 = nn.Conv1d(in_channels=20, out_channels=20, kernel_size=16, stride=2, padding=7)\n",
    "        self.bn3 = nn.BatchNorm1d(20)\n",
    "        self.conv4 = nn.Conv1d(in_channels=20, out_channels=20, kernel_size=16, stride=2, padding=7)\n",
    "        self.bn4 = nn.BatchNorm1d(20)\n",
    "        self.conv5 = nn.Conv1d(in_channels=20, out_channels=40, kernel_size=16, stride=2, padding=7)\n",
    "        self.bn5 = nn.BatchNorm1d(40)\n",
    "        self.conv6 = nn.Conv1d(in_channels=40, out_channels=1, kernel_size=16, stride=2, padding=7)\n",
    "\n",
    "    def forward(self, x):\n",
    "        x = F.elu(self.bn1(self.conv1(x)))\n",
    "        x = F.elu(self.bn2(self.conv2(x)))\n",
    "        x = F.elu(self.bn3(self.conv3(x)))\n",
    "        x = F.elu(self.bn4(self.conv4(x)))\n",
    "        x = F.elu(self.bn5(self.conv5(x)))\n",
    "        x = self.conv6(x)\n",
    "        return x\n",
    "\n",
    "class Decoder(nn.Module):\n",
    "    def __init__(self):\n",
    "        super(Decoder, self).__init__()\n",
    "        self.deconv1 = nn.ConvTranspose1d(in_channels=1, out_channels=40, kernel_size=16, stride=2, padding=7)\n",
    "        self.bn1 = nn.BatchNorm1d(40)\n",
    "        self.deconv2 = nn.ConvTranspose1d(in_channels=40, out_channels=20, kernel_size=16, stride=2, padding=7)\n",
    "        self.bn2 = nn.BatchNorm1d(20)\n",
    "        self.deconv3 = nn.ConvTranspose1d(in_channels=20, out_channels=20, kernel_size=16, stride=2, padding=7)\n",
    "        self.bn3 = nn.BatchNorm1d(20)\n",
    "        self.deconv4 = nn.ConvTranspose1d(in_channels=20, out_channels=20, kernel_size=16, stride=2, padding=7)\n",
    "        self.bn4 = nn.BatchNorm1d(20)\n",
    "        self.deconv5 = nn.ConvTranspose1d(in_channels=20, out_channels=40, kernel_size=16, stride=2, padding=7)\n",
    "        self.bn5 = nn.BatchNorm1d(40)\n",
    "        self.deconv6 = nn.ConvTranspose1d(in_channels=40, out_channels=1, kernel_size=16, stride=2, padding=7)\n",
    "\n",
    "    def forward(self, x):\n",
    "        x = F.elu(self.bn1(self.deconv1(x)))\n",
    "        x = F.elu(self.bn2(self.deconv2(x)))\n",
    "        x = F.elu(self.bn3(self.deconv3(x)))\n",
    "        x = F.elu(self.bn4(self.deconv4(x)))\n",
    "        x = F.elu(self.bn5(self.deconv5(x)))\n",
    "        x = self.deconv6(x)\n",
    "        return x\n",
    "\n",
    "class Autoencoder(nn.Module):\n",
    "    def __init__(self):\n",
    "        super(Autoencoder, self).__init__()\n",
    "        self.encoder = Encoder()\n",
    "        self.decoder = Decoder()\n",
    "\n",
    "    def forward(self, x):\n",
    "        encoded = self.encoder(x)\n",
    "        decoded = self.decoder(encoded)\n",
    "        return decoded"
   ]
  },
  {
   "cell_type": "code",
   "execution_count": 65,
   "metadata": {},
   "outputs": [
    {
     "name": "stdout",
     "output_type": "stream",
     "text": [
      "CUDA está disponível. Número de GPUs: 1\n",
      "GPU atual: NVIDIA GeForce RTX 3090 Ti\n"
     ]
    }
   ],
   "source": [
    "import torch\n",
    "\n",
    "if torch.cuda.is_available():\n",
    "    print(f\"CUDA está disponível. Número de GPUs: {torch.cuda.device_count()}\")\n",
    "    print(f\"GPU atual: {torch.cuda.get_device_name(torch.cuda.current_device())}\")\n",
    "else:\n",
    "    print(\"CUDA não está disponível. Verifique a instalação do CUDA e dos drivers da GPU.\")\n"
   ]
  },
  {
   "cell_type": "code",
   "execution_count": 66,
   "metadata": {},
   "outputs": [
    {
     "name": "stdout",
     "output_type": "stream",
     "text": [
      "Formato original de X: (12150, 4096)\n",
      "Formato antes do reshape: (12150, 4096)\n",
      "Formato após o reshape: (12150, 1, 4096)\n",
      "Número total de elementos: 49766400\n"
     ]
    },
    {
     "name": "stderr",
     "output_type": "stream",
     "text": [
      "Epoch 1/50:  50%|████▉     | 151/304 [00:00<00:00, 219.48it/s]"
     ]
    },
    {
     "name": "stderr",
     "output_type": "stream",
     "text": [
      "Epoch 1/50: 100%|██████████| 304/304 [00:01<00:00, 214.03it/s]\n"
     ]
    },
    {
     "name": "stdout",
     "output_type": "stream",
     "text": [
      "Epoch 1, Train Loss: 0.0663, Validation Loss: 0.0106\n"
     ]
    },
    {
     "name": "stderr",
     "output_type": "stream",
     "text": [
      "Epoch 2/50: 100%|██████████| 304/304 [00:01<00:00, 225.70it/s]\n"
     ]
    },
    {
     "name": "stdout",
     "output_type": "stream",
     "text": [
      "Epoch 2, Train Loss: 0.0086, Validation Loss: 0.0069\n"
     ]
    },
    {
     "name": "stderr",
     "output_type": "stream",
     "text": [
      "Epoch 3/50: 100%|██████████| 304/304 [00:01<00:00, 211.77it/s]\n"
     ]
    },
    {
     "name": "stdout",
     "output_type": "stream",
     "text": [
      "Epoch 3, Train Loss: 0.0063, Validation Loss: 0.0067\n"
     ]
    },
    {
     "name": "stderr",
     "output_type": "stream",
     "text": [
      "Epoch 4/50: 100%|██████████| 304/304 [00:01<00:00, 218.46it/s]\n"
     ]
    },
    {
     "name": "stdout",
     "output_type": "stream",
     "text": [
      "Epoch 4, Train Loss: 0.0053, Validation Loss: 0.0052\n"
     ]
    },
    {
     "name": "stderr",
     "output_type": "stream",
     "text": [
      "Epoch 5/50: 100%|██████████| 304/304 [00:01<00:00, 216.16it/s]\n"
     ]
    },
    {
     "name": "stdout",
     "output_type": "stream",
     "text": [
      "Epoch 5, Train Loss: 0.0047, Validation Loss: 0.0052\n"
     ]
    },
    {
     "name": "stderr",
     "output_type": "stream",
     "text": [
      "Epoch 6/50: 100%|██████████| 304/304 [00:01<00:00, 218.31it/s]\n"
     ]
    },
    {
     "name": "stdout",
     "output_type": "stream",
     "text": [
      "Epoch 6, Train Loss: 0.0043, Validation Loss: 0.0042\n"
     ]
    },
    {
     "name": "stderr",
     "output_type": "stream",
     "text": [
      "Epoch 7/50: 100%|██████████| 304/304 [00:01<00:00, 211.63it/s]\n"
     ]
    },
    {
     "name": "stdout",
     "output_type": "stream",
     "text": [
      "Epoch 7, Train Loss: 0.0040, Validation Loss: 0.0036\n"
     ]
    },
    {
     "name": "stderr",
     "output_type": "stream",
     "text": [
      "Epoch 8/50: 100%|██████████| 304/304 [00:01<00:00, 222.42it/s]\n"
     ]
    },
    {
     "name": "stdout",
     "output_type": "stream",
     "text": [
      "Epoch 8, Train Loss: 0.0038, Validation Loss: 0.0036\n"
     ]
    },
    {
     "name": "stderr",
     "output_type": "stream",
     "text": [
      "Epoch 9/50: 100%|██████████| 304/304 [00:01<00:00, 213.80it/s]\n"
     ]
    },
    {
     "name": "stdout",
     "output_type": "stream",
     "text": [
      "Epoch 9, Train Loss: 0.0036, Validation Loss: 0.0036\n"
     ]
    },
    {
     "name": "stderr",
     "output_type": "stream",
     "text": [
      "Epoch 10/50: 100%|██████████| 304/304 [00:01<00:00, 212.78it/s]\n"
     ]
    },
    {
     "name": "stdout",
     "output_type": "stream",
     "text": [
      "Epoch 10, Train Loss: 0.0035, Validation Loss: 0.0036\n"
     ]
    },
    {
     "name": "stderr",
     "output_type": "stream",
     "text": [
      "Epoch 11/50: 100%|██████████| 304/304 [00:01<00:00, 220.03it/s]\n"
     ]
    },
    {
     "name": "stdout",
     "output_type": "stream",
     "text": [
      "Epoch 11, Train Loss: 0.0034, Validation Loss: 0.0031\n"
     ]
    },
    {
     "name": "stderr",
     "output_type": "stream",
     "text": [
      "Epoch 12/50: 100%|██████████| 304/304 [00:01<00:00, 211.02it/s]\n"
     ]
    },
    {
     "name": "stdout",
     "output_type": "stream",
     "text": [
      "Epoch 12, Train Loss: 0.0033, Validation Loss: 0.0032\n"
     ]
    },
    {
     "name": "stderr",
     "output_type": "stream",
     "text": [
      "Epoch 13/50: 100%|██████████| 304/304 [00:01<00:00, 209.67it/s]\n"
     ]
    },
    {
     "name": "stdout",
     "output_type": "stream",
     "text": [
      "Epoch 13, Train Loss: 0.0032, Validation Loss: 0.0030\n"
     ]
    },
    {
     "name": "stderr",
     "output_type": "stream",
     "text": [
      "Epoch 14/50: 100%|██████████| 304/304 [00:01<00:00, 217.93it/s]\n"
     ]
    },
    {
     "name": "stdout",
     "output_type": "stream",
     "text": [
      "Epoch 14, Train Loss: 0.0031, Validation Loss: 0.0033\n"
     ]
    },
    {
     "name": "stderr",
     "output_type": "stream",
     "text": [
      "Epoch 15/50: 100%|██████████| 304/304 [00:01<00:00, 215.58it/s]\n"
     ]
    },
    {
     "name": "stdout",
     "output_type": "stream",
     "text": [
      "Epoch 15, Train Loss: 0.0031, Validation Loss: 0.0036\n"
     ]
    },
    {
     "name": "stderr",
     "output_type": "stream",
     "text": [
      "Epoch 16/50: 100%|██████████| 304/304 [00:01<00:00, 209.40it/s]\n"
     ]
    },
    {
     "name": "stdout",
     "output_type": "stream",
     "text": [
      "Epoch 16, Train Loss: 0.0029, Validation Loss: 0.0031\n"
     ]
    },
    {
     "name": "stderr",
     "output_type": "stream",
     "text": [
      "Epoch 17/50: 100%|██████████| 304/304 [00:01<00:00, 212.46it/s]\n"
     ]
    },
    {
     "name": "stdout",
     "output_type": "stream",
     "text": [
      "Epoch 17, Train Loss: 0.0030, Validation Loss: 0.0027\n"
     ]
    },
    {
     "name": "stderr",
     "output_type": "stream",
     "text": [
      "Epoch 18/50: 100%|██████████| 304/304 [00:01<00:00, 218.08it/s]\n"
     ]
    },
    {
     "name": "stdout",
     "output_type": "stream",
     "text": [
      "Epoch 18, Train Loss: 0.0029, Validation Loss: 0.0031\n"
     ]
    },
    {
     "name": "stderr",
     "output_type": "stream",
     "text": [
      "Epoch 19/50: 100%|██████████| 304/304 [00:01<00:00, 215.06it/s]\n"
     ]
    },
    {
     "name": "stdout",
     "output_type": "stream",
     "text": [
      "Epoch 19, Train Loss: 0.0028, Validation Loss: 0.0028\n"
     ]
    },
    {
     "name": "stderr",
     "output_type": "stream",
     "text": [
      "Epoch 20/50: 100%|██████████| 304/304 [00:01<00:00, 216.36it/s]\n"
     ]
    },
    {
     "name": "stdout",
     "output_type": "stream",
     "text": [
      "Epoch 20, Train Loss: 0.0028, Validation Loss: 0.0027\n"
     ]
    },
    {
     "name": "stderr",
     "output_type": "stream",
     "text": [
      "Epoch 21/50: 100%|██████████| 304/304 [00:01<00:00, 221.86it/s]\n"
     ]
    },
    {
     "name": "stdout",
     "output_type": "stream",
     "text": [
      "Epoch 21, Train Loss: 0.0028, Validation Loss: 0.0028\n"
     ]
    },
    {
     "name": "stderr",
     "output_type": "stream",
     "text": [
      "Epoch 22/50: 100%|██████████| 304/304 [00:01<00:00, 213.21it/s]\n"
     ]
    },
    {
     "name": "stdout",
     "output_type": "stream",
     "text": [
      "Epoch 22, Train Loss: 0.0027, Validation Loss: 0.0025\n"
     ]
    },
    {
     "name": "stderr",
     "output_type": "stream",
     "text": [
      "Epoch 23/50: 100%|██████████| 304/304 [00:01<00:00, 217.41it/s]\n"
     ]
    },
    {
     "name": "stdout",
     "output_type": "stream",
     "text": [
      "Epoch 23, Train Loss: 0.0026, Validation Loss: 0.0026\n"
     ]
    },
    {
     "name": "stderr",
     "output_type": "stream",
     "text": [
      "Epoch 24/50: 100%|██████████| 304/304 [00:01<00:00, 212.03it/s]\n"
     ]
    },
    {
     "name": "stdout",
     "output_type": "stream",
     "text": [
      "Epoch 24, Train Loss: 0.0026, Validation Loss: 0.0026\n"
     ]
    },
    {
     "name": "stderr",
     "output_type": "stream",
     "text": [
      "Epoch 25/50: 100%|██████████| 304/304 [00:01<00:00, 208.52it/s]\n"
     ]
    },
    {
     "name": "stdout",
     "output_type": "stream",
     "text": [
      "Epoch 25, Train Loss: 0.0026, Validation Loss: 0.0025\n"
     ]
    },
    {
     "name": "stderr",
     "output_type": "stream",
     "text": [
      "Epoch 26/50: 100%|██████████| 304/304 [00:01<00:00, 214.56it/s]\n"
     ]
    },
    {
     "name": "stdout",
     "output_type": "stream",
     "text": [
      "Epoch 26, Train Loss: 0.0026, Validation Loss: 0.0026\n"
     ]
    },
    {
     "name": "stderr",
     "output_type": "stream",
     "text": [
      "Epoch 27/50: 100%|██████████| 304/304 [00:01<00:00, 213.99it/s]\n"
     ]
    },
    {
     "name": "stdout",
     "output_type": "stream",
     "text": [
      "Epoch 27, Train Loss: 0.0025, Validation Loss: 0.0025\n"
     ]
    },
    {
     "name": "stderr",
     "output_type": "stream",
     "text": [
      "Epoch 28/50: 100%|██████████| 304/304 [00:01<00:00, 217.34it/s]\n"
     ]
    },
    {
     "name": "stdout",
     "output_type": "stream",
     "text": [
      "Epoch 28, Train Loss: 0.0025, Validation Loss: 0.0024\n"
     ]
    },
    {
     "name": "stderr",
     "output_type": "stream",
     "text": [
      "Epoch 29/50: 100%|██████████| 304/304 [00:01<00:00, 211.20it/s]\n"
     ]
    },
    {
     "name": "stdout",
     "output_type": "stream",
     "text": [
      "Epoch 29, Train Loss: 0.0024, Validation Loss: 0.0026\n"
     ]
    },
    {
     "name": "stderr",
     "output_type": "stream",
     "text": [
      "Epoch 30/50: 100%|██████████| 304/304 [00:01<00:00, 209.19it/s]\n"
     ]
    },
    {
     "name": "stdout",
     "output_type": "stream",
     "text": [
      "Epoch 30, Train Loss: 0.0024, Validation Loss: 0.0024\n"
     ]
    },
    {
     "name": "stderr",
     "output_type": "stream",
     "text": [
      "Epoch 31/50: 100%|██████████| 304/304 [00:01<00:00, 211.30it/s]\n"
     ]
    },
    {
     "name": "stdout",
     "output_type": "stream",
     "text": [
      "Epoch 31, Train Loss: 0.0024, Validation Loss: 0.0026\n"
     ]
    },
    {
     "name": "stderr",
     "output_type": "stream",
     "text": [
      "Epoch 32/50: 100%|██████████| 304/304 [00:01<00:00, 208.77it/s]\n"
     ]
    },
    {
     "name": "stdout",
     "output_type": "stream",
     "text": [
      "Epoch 32, Train Loss: 0.0023, Validation Loss: 0.0023\n"
     ]
    },
    {
     "name": "stderr",
     "output_type": "stream",
     "text": [
      "Epoch 33/50: 100%|██████████| 304/304 [00:01<00:00, 217.15it/s]\n"
     ]
    },
    {
     "name": "stdout",
     "output_type": "stream",
     "text": [
      "Epoch 33, Train Loss: 0.0023, Validation Loss: 0.0022\n"
     ]
    },
    {
     "name": "stderr",
     "output_type": "stream",
     "text": [
      "Epoch 34/50: 100%|██████████| 304/304 [00:01<00:00, 209.58it/s]\n"
     ]
    },
    {
     "name": "stdout",
     "output_type": "stream",
     "text": [
      "Epoch 34, Train Loss: 0.0023, Validation Loss: 0.0025\n"
     ]
    },
    {
     "name": "stderr",
     "output_type": "stream",
     "text": [
      "Epoch 35/50: 100%|██████████| 304/304 [00:01<00:00, 211.91it/s]\n"
     ]
    },
    {
     "name": "stdout",
     "output_type": "stream",
     "text": [
      "Epoch 35, Train Loss: 0.0023, Validation Loss: 0.0023\n"
     ]
    },
    {
     "name": "stderr",
     "output_type": "stream",
     "text": [
      "Epoch 36/50: 100%|██████████| 304/304 [00:01<00:00, 211.32it/s]\n"
     ]
    },
    {
     "name": "stdout",
     "output_type": "stream",
     "text": [
      "Epoch 36, Train Loss: 0.0023, Validation Loss: 0.0023\n"
     ]
    },
    {
     "name": "stderr",
     "output_type": "stream",
     "text": [
      "Epoch 37/50: 100%|██████████| 304/304 [00:01<00:00, 212.93it/s]\n"
     ]
    },
    {
     "name": "stdout",
     "output_type": "stream",
     "text": [
      "Epoch 37, Train Loss: 0.0022, Validation Loss: 0.0022\n"
     ]
    },
    {
     "name": "stderr",
     "output_type": "stream",
     "text": [
      "Epoch 38/50: 100%|██████████| 304/304 [00:01<00:00, 223.59it/s]\n"
     ]
    },
    {
     "name": "stdout",
     "output_type": "stream",
     "text": [
      "Epoch 38, Train Loss: 0.0022, Validation Loss: 0.0022\n"
     ]
    },
    {
     "name": "stderr",
     "output_type": "stream",
     "text": [
      "Epoch 39/50: 100%|██████████| 304/304 [00:01<00:00, 211.40it/s]\n"
     ]
    },
    {
     "name": "stdout",
     "output_type": "stream",
     "text": [
      "Epoch 39, Train Loss: 0.0022, Validation Loss: 0.0023\n"
     ]
    },
    {
     "name": "stderr",
     "output_type": "stream",
     "text": [
      "Epoch 40/50: 100%|██████████| 304/304 [00:01<00:00, 214.52it/s]\n"
     ]
    },
    {
     "name": "stdout",
     "output_type": "stream",
     "text": [
      "Epoch 40, Train Loss: 0.0021, Validation Loss: 0.0022\n"
     ]
    },
    {
     "name": "stderr",
     "output_type": "stream",
     "text": [
      "Epoch 41/50: 100%|██████████| 304/304 [00:01<00:00, 215.44it/s]\n"
     ]
    },
    {
     "name": "stdout",
     "output_type": "stream",
     "text": [
      "Epoch 41, Train Loss: 0.0021, Validation Loss: 0.0021\n"
     ]
    },
    {
     "name": "stderr",
     "output_type": "stream",
     "text": [
      "Epoch 42/50: 100%|██████████| 304/304 [00:01<00:00, 218.23it/s]\n"
     ]
    },
    {
     "name": "stdout",
     "output_type": "stream",
     "text": [
      "Epoch 42, Train Loss: 0.0021, Validation Loss: 0.0021\n"
     ]
    },
    {
     "name": "stderr",
     "output_type": "stream",
     "text": [
      "Epoch 43/50: 100%|██████████| 304/304 [00:01<00:00, 218.26it/s]\n"
     ]
    },
    {
     "name": "stdout",
     "output_type": "stream",
     "text": [
      "Epoch 43, Train Loss: 0.0021, Validation Loss: 0.0021\n"
     ]
    },
    {
     "name": "stderr",
     "output_type": "stream",
     "text": [
      "Epoch 44/50: 100%|██████████| 304/304 [00:01<00:00, 210.28it/s]\n"
     ]
    },
    {
     "name": "stdout",
     "output_type": "stream",
     "text": [
      "Epoch 44, Train Loss: 0.0021, Validation Loss: 0.0022\n"
     ]
    },
    {
     "name": "stderr",
     "output_type": "stream",
     "text": [
      "Epoch 45/50: 100%|██████████| 304/304 [00:01<00:00, 213.20it/s]\n"
     ]
    },
    {
     "name": "stdout",
     "output_type": "stream",
     "text": [
      "Epoch 45, Train Loss: 0.0021, Validation Loss: 0.0021\n"
     ]
    },
    {
     "name": "stderr",
     "output_type": "stream",
     "text": [
      "Epoch 46/50: 100%|██████████| 304/304 [00:01<00:00, 213.13it/s]\n"
     ]
    },
    {
     "name": "stdout",
     "output_type": "stream",
     "text": [
      "Epoch 46, Train Loss: 0.0020, Validation Loss: 0.0021\n"
     ]
    },
    {
     "name": "stderr",
     "output_type": "stream",
     "text": [
      "Epoch 47/50: 100%|██████████| 304/304 [00:01<00:00, 215.83it/s]\n"
     ]
    },
    {
     "name": "stdout",
     "output_type": "stream",
     "text": [
      "Epoch 47, Train Loss: 0.0020, Validation Loss: 0.0021\n"
     ]
    },
    {
     "name": "stderr",
     "output_type": "stream",
     "text": [
      "Epoch 48/50: 100%|██████████| 304/304 [00:01<00:00, 211.54it/s]\n"
     ]
    },
    {
     "name": "stdout",
     "output_type": "stream",
     "text": [
      "Epoch 48, Train Loss: 0.0020, Validation Loss: 0.0021\n"
     ]
    },
    {
     "name": "stderr",
     "output_type": "stream",
     "text": [
      "Epoch 49/50: 100%|██████████| 304/304 [00:01<00:00, 217.13it/s]\n"
     ]
    },
    {
     "name": "stdout",
     "output_type": "stream",
     "text": [
      "Epoch 49, Train Loss: 0.0020, Validation Loss: 0.0020\n"
     ]
    },
    {
     "name": "stderr",
     "output_type": "stream",
     "text": [
      "Epoch 50/50: 100%|██████████| 304/304 [00:01<00:00, 211.57it/s]\n"
     ]
    },
    {
     "name": "stdout",
     "output_type": "stream",
     "text": [
      "Epoch 50, Train Loss: 0.0020, Validation Loss: 0.0019\n"
     ]
    },
    {
     "data": {
      "image/png": "[encoded data removed]",
      "text/plain": [
       "<Figure size 640x480 with 1 Axes>"
      ]
     },
     "metadata": {},
     "output_type": "display_data"
    },
    {
     "name": "stderr",
     "output_type": "stream",
     "text": [
      "/tmp/ipykernel_406358/3449850615.py:102: FutureWarning: You are using `torch.load` with `weights_only=False` (the current default value), which uses the default pickle module implicitly. It is possible to construct malicious pickle data which will execute arbitrary code during unpickling (See https://github.com/pytorch/pytorch/blob/main/SECURITY.md#untrusted-models for more details). In a future release, the default value for `weights_only` will be flipped to `True`. This limits the functions that could be executed during unpickling. Arbitrary objects will no longer be allowed to be loaded via this mode unless they are explicitly allowlisted by the user via `torch.serialization.add_safe_globals`. We recommend you start setting `weights_only=True` for any use case where you don't have full control of the loaded file. Please open an issue on GitHub for any issues related to this experimental feature.\n",
      "  autoencoder.load_state_dict(torch.load('best_autoencoder.pth'))\n"
     ]
    },
    {
     "data": {
      "image/png": "[encoded data removed]",
      "text/plain": [
       "<Figure size 1200x600 with 1 Axes>"
      ]
     },
     "metadata": {},
     "output_type": "display_data"
    }
   ],
   "source": [
    "#EXECUTAR MODELO\n",
    "\n",
    "import numpy as np\n",
    "import matplotlib.pyplot as plt\n",
    "from sklearn.model_selection import train_test_split\n",
    "\n",
    "# Supondo que seu vetor X já esteja carregado como uma matriz numpy com shape (10500, 4096)\n",
    "# Se ainda não estiver carregado, use np.load() ou outra forma de carregar seus dados\n",
    "device = torch.device('cuda' if torch.cuda.is_available() else 'cpu')\n",
    "\n",
    "# Normalizar os dados entre 0 e 1 para um melhor desempenho do autoencoder\n",
    "print(\"Formato original de X:\", X.shape)\n",
    "epsilon = 1e-8\n",
    "X = X / (np.max(np.abs(X), axis=1, keepdims=True) + epsilon)\n",
    "\n",
    "print(\"Formato antes do reshape:\", X.shape)\n",
    "X = X.reshape((X.shape[0], 1, X.shape[1]))\n",
    "print(\"Formato após o reshape:\", X.shape)\n",
    "\n",
    "total_elements = np.prod(X.shape)\n",
    "print(\"Número total de elementos:\", total_elements)\n",
    "# Dividir os dados em conjuntos de treino e teste\n",
    "X_train, X_test = train_test_split(X, test_size=0.2, random_state=42)\n",
    "\n",
    "# Convertendo os dados para tensores do PyTorch\n",
    "X_train_tensor = torch.tensor(X_train, dtype=torch.float32).to(device)\n",
    "X_test_tensor = torch.tensor(X_test, dtype=torch.float32).to(device)\n",
    "\n",
    "# Criar DataLoaders para treino e teste\n",
    "train_dataset = TensorDataset(X_train_tensor)\n",
    "test_dataset = TensorDataset(X_test_tensor)\n",
    "train_loader = DataLoader(train_dataset, batch_size=32, shuffle=True)\n",
    "test_loader = DataLoader(test_dataset, batch_size=32, shuffle=False)\n",
    "\n",
    "# Instanciar o modelo e mover para a GPU se disponível\n",
    "autoencoder = Autoencoder().to(device)\n",
    "\n",
    "# Definir o otimizador e a função de perda\n",
    "optimizer = optim.Adam(autoencoder.parameters(), lr=0.001)\n",
    "criterion = nn.MSELoss()\n",
    "\n",
    "# Treinar o modelo\n",
    "num_epochs = 50\n",
    "early_stopping_patience = 10\n",
    "best_val_loss = float('inf')\n",
    "patience_counter = 0\n",
    "\n",
    "train_losses = []\n",
    "val_losses = []\n",
    "\n",
    "for epoch in range(num_epochs):\n",
    "    autoencoder.train()\n",
    "    train_loss = 0.0\n",
    "    for data in tqdm(train_loader, desc=f\"Epoch {epoch+1}/{num_epochs}\"):\n",
    "        inputs = data[0]\n",
    "        optimizer.zero_grad()\n",
    "        outputs = autoencoder(inputs)\n",
    "        loss = criterion(outputs, inputs)\n",
    "        loss.backward()\n",
    "        optimizer.step()\n",
    "        train_loss += loss.item() * inputs.size(0)\n",
    "    \n",
    "    train_loss /= len(train_loader.dataset)\n",
    "    train_losses.append(train_loss)\n",
    "    \n",
    "    autoencoder.eval()\n",
    "    val_loss = 0.0\n",
    "    with torch.no_grad():\n",
    "        for data in test_loader:\n",
    "            inputs = data[0]\n",
    "            outputs = autoencoder(inputs)\n",
    "            loss = criterion(outputs, inputs)\n",
    "            val_loss += loss.item() * inputs.size(0)\n",
    "    \n",
    "    val_loss /= len(test_loader.dataset)\n",
    "    val_losses.append(val_loss)\n",
    "    \n",
    "    print(f'Epoch {epoch+1}, Train Loss: {train_loss:.4f}, Validation Loss: {val_loss:.4f}')\n",
    "    \n",
    "    # Early stopping\n",
    "    if val_loss < best_val_loss:\n",
    "        best_val_loss = val_loss\n",
    "        patience_counter = 0\n",
    "        torch.save(autoencoder.state_dict(), 'best_autoencoder.pth')\n",
    "    else:\n",
    "        patience_counter += 1\n",
    "        if patience_counter >= early_stopping_patience:\n",
    "            print(\"Early stopping triggered.\")\n",
    "            break\n",
    "\n",
    "# Plotar a perda de treino e validação\n",
    "plt.figure()\n",
    "plt.plot(train_losses, label='Train Loss')\n",
    "plt.plot(val_losses, label='Validation Loss')\n",
    "plt.xlabel('Epoch')\n",
    "plt.ylabel('Loss')\n",
    "plt.legend()\n",
    "plt.title('Training and Validation Loss')\n",
    "plt.show()\n",
    "\n",
    "# Carregar o melhor modelo\n",
    "autoencoder.load_state_dict(torch.load('best_autoencoder.pth'))\n",
    "\n",
    "# Selecionar um exemplo de ECG para reconstruir\n",
    "idx = np.random.randint(0, X_test.shape[0])\n",
    "original_ecg = X_test_tensor[idx].unsqueeze(0)\n",
    "\n",
    "# Reconstruir o ECG usando o autoencoder\n",
    "autoencoder.eval()\n",
    "with torch.no_grad():\n",
    "    reconstructed_ecg = autoencoder(original_ecg)\n",
    "\n",
    "# Plotar o ECG original e o reconstruído\n",
    "plt.figure(figsize=(12, 6))\n",
    "plt.plot(original_ecg.cpu().numpy().flatten(), label='Original ECG')\n",
    "plt.plot(reconstructed_ecg.cpu().numpy().flatten(), label='Reconstructed ECG')\n",
    "plt.xlabel('Time')\n",
    "plt.ylabel('Amplitude')\n",
    "plt.legend()\n",
    "plt.title('Original vs Reconstructed ECG')\n",
    "plt.show()"
   ]
  }
 ],
 "metadata": {
  "kernelspec": {
   "display_name": "condaclustering",
   "language": "python",
   "name": "python3"
  },
  "language_info": {
   "codemirror_mode": {
    "name": "ipython",
    "version": 3
   },
   "file_extension": ".py",
   "mimetype": "text/x-python",
   "name": "python",
   "nbconvert_exporter": "python",
   "pygments_lexer": "ipython3",
   "version": "3.11.9"
  }
 },
 "nbformat": 4,
 "nbformat_minor": 2
}
