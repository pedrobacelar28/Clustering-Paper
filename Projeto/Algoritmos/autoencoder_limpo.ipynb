{
 "cells": [
  {
   "cell_type": "code",
   "execution_count": 8,
   "metadata": {},
   "outputs": [],
   "source": [
    "#IMPORTS\n",
    "import warnings\n",
    "import pandas as pd\n",
    "import h5py\n",
    "from sklearn.cluster import DBSCAN\n",
    "from sklearn.preprocessing import StandardScaler\n",
    "import numpy as np\n",
    "import sys\n",
    "import os\n",
    "import scipy.signal as sgn\n",
    "import matplotlib.pyplot as plt\n",
    "import random\n",
    "from sklearn.manifold import TSNE\n",
    "# Aplicação do HDBSCAN\n",
    "import umap\n",
    "from sklearn.metrics import silhouette_score\n",
    "import hdbscan\n",
    "import sklearn.cluster as cluster\n",
    "from sklearn.metrics import adjusted_rand_score, adjusted_mutual_info_score\n",
    "from sklearn.cluster import HDBSCAN\n",
    "from tensorflow.keras.models import load_model\n",
    "\n",
    "import tensorflow as tf\n",
    "from tensorflow.keras.layers import Conv1D, Conv1DTranspose, BatchNormalization, ELU, Input\n",
    "from tensorflow.keras.models import Model\n",
    "from sklearn.cluster import KMeans\n",
    "import matplotlib.pyplot as plt\n",
    "from matplotlib.colors import ListedColormap, BoundaryNorm\n",
    "\n",
    "sys.path.append('../Pre-processing')  \n",
    "from filters import ecg_filtrado"
   ]
  },
  {
   "cell_type": "code",
   "execution_count": 2,
   "metadata": {},
   "outputs": [],
   "source": [
    "#CARREGAR OS DADOS\n",
    "caminho_arquivo = \"../Database/exams.csv\"\n",
    "dados = pd.read_csv(caminho_arquivo)\n",
    "\n",
    "# Selecionar os índices com base nos critérios fornecidos\n",
    "ecg_normal_linhas = dados.index[((dados.iloc[:, 14] == \"exams_part17.hdf5\") | (dados.iloc[:, 14] == \"exams_part16.hdf5\") ) & (dados.iloc[:, 13] == True) ]\n",
    "ecg_ST_linhas = dados.index[((dados.iloc[:, 14] == \"exams_part17.hdf5\") | (dados.iloc[:, 14] == \"exams_part16.hdf5\") ) & (dados.iloc[:, 4] == False) & (dados.iloc[:, 5] == False) & (dados.iloc[:, 6] == False) & (dados.iloc[:, 7] == False) & (dados.iloc[:, 8] == True) & (dados.iloc[:, 9] == False)  ]\n",
    "\n",
    "ecg_ST_id = dados.iloc[ecg_ST_linhas, 0].tolist()\n",
    "ecg_normal_id = dados.iloc[ecg_normal_linhas, 0].tolist()\n",
    "\n",
    "\n",
    "\n",
    "ecg_ST = ecg_ST_id[:500]\n",
    "ecg_normal = ecg_normal_id[:10000]\n",
    "\n",
    "ids_ecgs= ecg_ST + ecg_normal\n",
    "\n",
    "ids_ecgs_treino = ecg_normal_id[10001:11001] + ecg_ST_id[501:551]"
   ]
  },
  {
   "cell_type": "code",
   "execution_count": 4,
   "metadata": {},
   "outputs": [],
   "source": [
    "#X\n",
    "def get_ecg_data(file_path, exam_id):\n",
    "    with h5py.File(file_path, 'r') as f:\n",
    "        # Obter os IDs dos exames\n",
    "        exam_ids = np.array(f['exam_id'])\n",
    "\n",
    "        # Encontrar o índice correspondente ao exam_id de interesse\n",
    "        exam_index = np.where(exam_ids == exam_id)[0]\n",
    "\n",
    "        if len(exam_index) == 0:\n",
    "            raise ValueError(\"Exam ID não encontrado.\")\n",
    "        else:\n",
    "            exam_index = exam_index[0]\n",
    "            # Acessar os tracings de ECG correspondentes ao exam_index\n",
    "            exam_tracings = f['tracings'][exam_index]\n",
    "            return exam_tracings\n",
    "        \n",
    "# Caminho para o arquivo HDF5\n",
    "path_to_file = '../Database/filtered_exams_16_17.hdf5'  # Substitua pelo caminho real do arquivo\n",
    "\n",
    "exam_ids_to_cluster = ids_ecgs  # Substitua pelos IDs reais dos exames\n",
    "\n",
    "# Lista para armazenar todos os tracings de ECG\n",
    "all_tracings = []\n",
    "\n",
    "# Obter os tracings de ECG para cada exam_id e armazenar na lista\n",
    "for exam_id in exam_ids_to_cluster:\n",
    "    tracings = get_ecg_data(path_to_file, exam_id)\n",
    "    aa = np.array(tracings.T)\n",
    "    all_tracings.append(aa)\n",
    "\n",
    "# X será um array com um único array dentro, contendo todos os números do tracings.T\n",
    "X = np.array(all_tracings)\n",
    " \n",
    "# Usando squeeze\n",
    "X = np.squeeze(X[:, 1, :])\n",
    "\n"
   ]
  },
  {
   "cell_type": "code",
   "execution_count": 9,
   "metadata": {},
   "outputs": [],
   "source": [
    "#X_TREINO\n",
    "\n",
    "exam_ids_to_cluster_treino = ids_ecgs_treino  # Substitua pelos IDs reais dos exames\n",
    "\n",
    "# Lista para armazenar todos os tracings de ECG\n",
    "all_tracings = []\n",
    "\n",
    "# Obter os tracings de ECG para cada exam_id e armazenar na lista\n",
    "for exam_id in exam_ids_to_cluster_treino:\n",
    "    tracings = get_ecg_data(path_to_file, exam_id)\n",
    "    aa = np.array(tracings.T)\n",
    "    all_tracings.append(aa)\n",
    "\n",
    "# X será um array com um único array dentro, contendo todos os números do tracings.T\n",
    "X_TREINO = np.array(all_tracings)\n",
    " \n",
    "# Usando squeeze\n",
    "X_TREINO = np.squeeze(X_TREINO[:, 1, :])"
   ]
  },
  {
   "cell_type": "code",
   "execution_count": 5,
   "metadata": {},
   "outputs": [
    {
     "name": "stderr",
     "output_type": "stream",
     "text": [
      "c:\\Users\\pedro\\AppData\\Local\\Programs\\Python\\Python312\\Lib\\site-packages\\keras\\src\\saving\\saving_lib.py:576: UserWarning: Skipping variable loading for optimizer 'rmsprop', because it has 46 variables whereas the saved optimizer has 90 variables. \n",
      "  saveable.load_own_variables(weights_store.get(inner_path))\n"
     ]
    },
    {
     "name": "stdout",
     "output_type": "stream",
     "text": [
      "\u001b[1m329/329\u001b[0m \u001b[32m━━━━━━━━━━━━━━━━━━━━\u001b[0m\u001b[37m\u001b[0m \u001b[1m6s\u001b[0m 16ms/step\n",
      "(10500, 128, 1)\n",
      "(10500, 128)\n"
     ]
    }
   ],
   "source": [
    "#DIMINUIR DIMENSAO DE X PELO AUTOENCODER(128)\n",
    "\n",
    "# Carregar o modelo autoencoder\n",
    "autoencoder = tf.keras.models.load_model('modelos/autoencoder_model.keras')\n",
    "\n",
    "# Extrair o modelo encoder a partir do autoencoder treinado\n",
    "encoder = autoencoder.get_layer(\"encoder\")\n",
    "\n",
    "# Carregar os dados (este é um exemplo, você deve carregar seus dados reais)\n",
    "# Supondo que seu vetor X já esteja carregado como uma matriz numpy com shape (10500, 4096)\n",
    "# X = np.load('seu_arquivo_de_dados.npy')\n",
    "\n",
    "# Normalizar os dados entre 0 e 1 para um melhor desempenho do autoencoder\n",
    "X = X / np.max(np.abs(X), axis=1, keepdims=True)\n",
    "\n",
    "# Redimensionar os dados para o formato esperado pelo modelo (10500, 4096, 1)\n",
    "X = X.reshape((X.shape[0], X.shape[1], 1))\n",
    "\n",
    "# Obter os vetores codificados para todo o conjunto X\n",
    "X_encoded = encoder.predict(X)\n",
    "\n",
    "# X_encoded agora contém os vetores de 128 números para cada entrada em X\n",
    "print(X_encoded.shape)  # Deve ser (10500, 128, 1)\n",
    "\n",
    "# Remover a última dimensão para obter um vetor 2D\n",
    "X_encoded_2d = np.squeeze(X_encoded)\n",
    "print(X_encoded_2d.shape)  # Deve ser (10500, 128)"
   ]
  },
  {
   "cell_type": "code",
   "execution_count": 10,
   "metadata": {},
   "outputs": [
    {
     "name": "stdout",
     "output_type": "stream",
     "text": [
      "\u001b[1m33/33\u001b[0m \u001b[32m━━━━━━━━━━━━━━━━━━━━\u001b[0m\u001b[37m\u001b[0m \u001b[1m1s\u001b[0m 40ms/step\n"
     ]
    }
   ],
   "source": [
    "#DIMINUIR DIMENSAO DE X_TREINO PELO AUTOENCODER(128)\n",
    "\n",
    "\n",
    "# Carregar o modelo autoencoder\n",
    "autoencoder = tf.keras.models.load_model('modelos/autoencoder_model.keras')\n",
    "\n",
    "# Extrair o modelo encoder a partir do autoencoder treinado\n",
    "encoder = autoencoder.get_layer(\"encoder\")\n",
    "\n",
    "# Carregar os dados (este é um exemplo, você deve carregar seus dados reais)\n",
    "# Supondo que seu vetor X_TREINO já esteja carregado como uma matriz numpy com shape (10500, 4096)\n",
    "# X_TREINO = np.load('seu_arquivo_de_dados.npy')\n",
    "\n",
    "# Normalizar os dados entre 0 e 1 para um melhor desempenho do autoencoder\n",
    "X_TREINO = X_TREINO / np.max(np.abs(X_TREINO), axis=1, keepdims=True)\n",
    "\n",
    "# Redimensionar os dados para o formato esperado pelo modelo (10500, 4096, 1)\n",
    "X_TREINO = X_TREINO.reshape((X_TREINO.shape[0], X_TREINO.shape[1], 1))\n",
    "\n",
    "# Obter os vetores codificados para todo o conjunto X_TREINO\n",
    "X_encoded = encoder.predict(X_TREINO)\n",
    "\n",
    "# X_encoded agora contém os vetores de 128 números para cada entrada em X_TREINO\n",
    "\n",
    "\n",
    "# Remover a última dimensão para obter um vetor 2D\n",
    "X_TREINO_encoded_2d = np.squeeze(X_encoded)\n",
    "\n"
   ]
  },
  {
   "cell_type": "code",
   "execution_count": 6,
   "metadata": {},
   "outputs": [],
   "source": [
    "#DIMINUIR DIMENSAO DE X PELO UMAP(16)\n",
    "warnings.filterwarnings('ignore', message=\"n_jobs value.*overridden to 1 by setting random_state.*\")\n",
    "# Normalizar os dados\n",
    "scaler = StandardScaler()\n",
    "X_normalized = scaler.fit_transform(X_encoded_2d)\n",
    "# Aplicação do UMAP\n",
    "umap_reducer = umap.UMAP(n_neighbors=5, min_dist=0.0, n_components=16, random_state=42)\n",
    "X_reduced = umap_reducer.fit_transform(X_normalized)"
   ]
  },
  {
   "cell_type": "code",
   "execution_count": 12,
   "metadata": {},
   "outputs": [],
   "source": [
    "#DIMINUIR DIMENSAO DE X_TREINO PELO UMAP(16)\n",
    "warnings.filterwarnings('ignore', message=\"n_jobs value.*overridden to 1 by setting random_state.*\")\n",
    "# Normalizar os dados\n",
    "scaler = StandardScaler()\n",
    "X_normalized = scaler.fit_transform(X_TREINO_encoded_2d)\n",
    "# Aplicação do UMAP\n",
    "umap_reducer = umap.UMAP(n_neighbors=5, min_dist=0.0, n_components=16, random_state=42)\n",
    "X_TREINO_reduced = umap_reducer.fit_transform(X_normalized)"
   ]
  },
  {
   "cell_type": "code",
   "execution_count": 12,
   "metadata": {},
   "outputs": [
    {
     "data": {
      "image/png": "[encoded data removed]",
      "text/plain": [
       "<Figure size 640x480 with 2 Axes>"
      ]
     },
     "metadata": {},
     "output_type": "display_data"
    },
    {
     "name": "stdout",
     "output_type": "stream",
     "text": [
      "Silhouette Score: 0.23671308159828186\n",
      "   cluster  1dAVb  RBBB  LBBB  SB   ST  AF  normal_ecg\n",
      "0        0      0     0     0   0   22   0        2192\n",
      "1        1      0     0     0   0    0   0          10\n",
      "2        2      0     0     0   0   25   0        5106\n",
      "3        3      0     0     0   0   53   0         903\n",
      "4        4      0     0     0   0   39   0        1742\n",
      "5        5      0     0     0   0  361   0          47\n"
     ]
    }
   ],
   "source": [
    "#CLUSTERIZACAO HDBSCAN\n",
    "scaler = StandardScaler()\n",
    "X_reduced_scaled = scaler.fit_transform(X_reduced)\n",
    "\n",
    "dbscan = HDBSCAN(min_cluster_size=300, min_samples=5)\n",
    "labels = dbscan.fit_predict(X_reduced_scaled)\n",
    "# Visualização dos Resultados\n",
    "plt.scatter(X_reduced_scaled[:, 0], X_reduced_scaled[:, 1], c=labels, cmap='viridis', s=50)\n",
    "plt.xlabel('UMAP Dimension 1')\n",
    "plt.ylabel('UMAP Dimension 2')\n",
    "plt.title('ECG Clustering using UMAP and HDBSCAN')\n",
    "plt.colorbar(label='Cluster')\n",
    "plt.show()\n",
    "silhouette_avg = silhouette_score(X_reduced_scaled, labels)\n",
    "print(f'Silhouette Score: {silhouette_avg}')\n",
    "\n",
    "\n",
    "# Carregar os dados do CSV\n",
    "metadata = pd.read_csv(\"../Database/exams.csv\")\n",
    "\n",
    "# Criar um DataFrame para os resultados do clustering\n",
    "cluster_results = pd.DataFrame({\n",
    "    'exam_id': exam_ids_to_cluster,\n",
    "    'cluster': labels\n",
    "})\n",
    "\n",
    "# Mesclar os resultados do clustering com os metadados dos exames\n",
    "merged_data = cluster_results.merge(metadata, on='exam_id')\n",
    "\n",
    "# Contar a quantidade de doenças e ECGs normais em cada cluster\n",
    "cluster_summary = merged_data.groupby('cluster').agg({\n",
    "    '1dAVb': 'sum',\n",
    "    'RBBB': 'sum',\n",
    "    'LBBB': 'sum',\n",
    "    'SB': 'sum',\n",
    "    'ST': 'sum',\n",
    "    'AF': 'sum',\n",
    "    'normal_ecg': 'sum'\n",
    "}).reset_index()\n",
    "\n",
    "# Mostrar o resumo por cluster\n",
    "print(cluster_summary)"
   ]
  },
  {
   "cell_type": "code",
   "execution_count": null,
   "metadata": {},
   "outputs": [
    {
     "name": "stderr",
     "output_type": "stream",
     "text": [
      "\n",
      "KeyboardInterrupt\n",
      "\n"
     ]
    }
   ],
   "source": [
    "#TENTAR PREVER O TREINO NOS CLUSTERS\n",
    "# Normalizar os dados\n",
    "scaler = StandardScaler()\n",
    "X_reduced_scaled = scaler.fit_transform(X_reduced)\n",
    "new_data_scaled = scaler.transform(X_TREINO_reduced)\n",
    "\n",
    "# Treinar o modelo HDBSCAN com prediction_data=True\n",
    "dbscan = hdbscan.HDBSCAN(min_cluster_size=300, min_samples=5, prediction_data=True)\n",
    "labels = dbscan.fit_predict(X_reduced_scaled)\n",
    "\n",
    "# Visualização dos Resultados\n",
    "plt.scatter(X_reduced_scaled[:, 0], X_reduced_scaled[:, 1], c=labels, cmap='viridis', s=50)\n",
    "plt.xlabel('UMAP Dimension 1')\n",
    "plt.ylabel('UMAP Dimension 2')\n",
    "plt.title('ECG Clustering using UMAP and HDBSCAN')\n",
    "plt.colorbar(label='Cluster')\n",
    "plt.show()\n",
    "\n",
    "# Calcular Silhouette Score\n",
    "silhouette_avg = silhouette_score(X_reduced_scaled, labels)\n",
    "print(f'Silhouette Score: {silhouette_avg}')\n",
    "\n",
    "# Para predizer novos dados\n",
    "new_data = new_data_scaled # Certifique-se de que seus novos dados estão normalizados corretamente\n",
    "\n",
    "# Usar approximate_predict para prever os rótulos dos novos dados\n",
    "try:\n",
    "    new_labels, new_probabilities = hdbscan.approximate_predict(dbscan, new_data)\n",
    "except AttributeError as e:\n",
    "    print(\"Erro na previsão: \", e)\n",
    "    new_labels = np.array([])\n",
    "\n",
    "# Configurar para mostrar todos os elementos no print\n",
    "np.set_printoptions(threshold=np.inf)\n",
    "\n",
    "print(\"New labels:\", new_labels)\n",
    "print(\"New probabilities:\", new_probabilities)"
   ]
  }
 ],
 "metadata": {
  "kernelspec": {
   "display_name": "Python 3",
   "language": "python",
   "name": "python3"
  },
  "language_info": {
   "codemirror_mode": {
    "name": "ipython",
    "version": 3
   },
   "file_extension": ".py",
   "mimetype": "text/x-python",
   "name": "python",
   "nbconvert_exporter": "python",
   "pygments_lexer": "ipython3",
   "version": "3.12.2"
  }
 },
 "nbformat": 4,
 "nbformat_minor": 2
}
