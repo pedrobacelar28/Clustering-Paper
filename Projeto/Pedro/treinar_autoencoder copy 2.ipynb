{
 "cells": [
  {
   "cell_type": "code",
   "execution_count": 1,
   "metadata": {},
   "outputs": [],
   "source": [
    "#IMPORTS\n",
    "import warnings\n",
    "import pandas as pd\n",
    "import h5py\n",
    "from sklearn.preprocessing import StandardScaler\n",
    "import numpy as np\n",
    "import sys\n",
    "import os\n",
    "import scipy.signal as sgn\n",
    "import matplotlib.pyplot as plt\n",
    "import random\n",
    "# Aplicação do HDBSCAN\n",
    "from sklearn.metrics import silhouette_score\n",
    "import sklearn.cluster as cluster\n",
    "from sklearn.metrics import adjusted_rand_score, adjusted_mutual_info_score\n",
    "\n",
    "sys.path.append('../Pre-processing')  \n",
    "from filters import ecg_filtrado"
   ]
  },
  {
   "cell_type": "code",
   "execution_count": 2,
   "metadata": {},
   "outputs": [
    {
     "name": "stdout",
     "output_type": "stream",
     "text": [
      "Número de linhas ecg_normal_linhas: 73700\n",
      "Número de linhas ecg_doente_linhas: 3809\n",
      "Tirando Interferência:\n",
      "Número de linhas ecg_normal_linhas: 71713\n",
      "Número de linhas ecg_doente_linhas: 3748\n",
      "Número de ecgs pra clusterizar: 11000\n"
     ]
    }
   ],
   "source": [
    "#CARREGAR OS DADOS\n",
    "caminho_arquivo = \"../Database/exams.csv\"\n",
    "dados = pd.read_csv(caminho_arquivo)\n",
    "arquivos_usados = [\"exams_part14.hdf5\", \"exams_part15.hdf5\", \"exams_part16.hdf5\", \"exams_part17.hdf5\",\"exams_part12.hdf5\", \"exams_part13.hdf5\", \"exams_part10.hdf5\", \"exams_part11.hdf5\",\"exams_part9.hdf5\", \"exams_part8.hdf5\"]\n",
    "\n",
    "ecg_normal_linhas = dados.index[(dados.iloc[:, 14].isin(arquivos_usados))  & \n",
    "                                (dados.iloc[:, 13] == True) ]\n",
    "\n",
    "ecg_doente_linhas = dados.index[(dados.iloc[:, 14].isin(arquivos_usados)) & \n",
    "                                (dados.iloc[:, 4] == False) & \n",
    "                                (dados.iloc[:, 5] == False ) & \n",
    "                                (dados.iloc[:, 6] == False) & \n",
    "                                (dados.iloc[:, 7] == False) & \n",
    "                                (dados.iloc[:, 8] == True) & \n",
    "                                (dados.iloc[:, 9] == False)]\n",
    "\n",
    "print(\"Número de linhas ecg_normal_linhas:\", len(ecg_normal_linhas))\n",
    "print(\"Número de linhas ecg_doente_linhas:\", len(ecg_doente_linhas))\n",
    "\n",
    "caminho_interferencias = \"../Database/resultados_interferencia.csv\"\n",
    "interferencias = pd.read_csv(caminho_interferencias)\n",
    "interferencias_ids = interferencias['exam_id'].tolist()\n",
    "\n",
    "ecg_normal_linhas = dados.index[~dados['exam_id'].isin(interferencias_ids) &\n",
    "                                (dados.iloc[:, 14].isin(arquivos_usados))  & \n",
    "                                (dados.iloc[:, 13] == True) ]\n",
    "\n",
    "ecg_doente_linhas = dados.index[~dados['exam_id'].isin(interferencias_ids) &\n",
    "                                (dados.iloc[:, 14].isin(arquivos_usados)) & \n",
    "                                (dados.iloc[:, 4] == False) & \n",
    "                                (dados.iloc[:, 5] == False) & \n",
    "                                (dados.iloc[:, 6] == False) & \n",
    "                                (dados.iloc[:, 7] == False) & \n",
    "                                (dados.iloc[:, 8] == True) & \n",
    "                                (dados.iloc[:, 9] == False)]\n",
    "\n",
    "print(\"Tirando Interferência:\")\n",
    "print(\"Número de linhas ecg_normal_linhas:\", len(ecg_normal_linhas))\n",
    "print(\"Número de linhas ecg_doente_linhas:\", len(ecg_doente_linhas))\n",
    "\n",
    "ecg_doente_id = dados.iloc[ecg_doente_linhas, 0].tolist()\n",
    "ecg_normal_id = dados.iloc[ecg_normal_linhas, 0].tolist()\n",
    "\n",
    "ecg_doente = ecg_doente_id[:3000]\n",
    "ecg_normal = ecg_normal_id[:8000]\n",
    "\n",
    "ids_ecgs = ecg_doente + ecg_normal\n",
    "print(\"Número de ecgs pra clusterizar:\", len(ids_ecgs))"
   ]
  },
  {
   "cell_type": "code",
   "execution_count": 3,
   "metadata": {},
   "outputs": [
    {
     "name": "stdout",
     "output_type": "stream",
     "text": [
      "Shape de X para o autoencoder: (11000, 4096)\n"
     ]
    }
   ],
   "source": [
    "# Função para obter dados de ECG de um arquivo HDF5\n",
    "def get_ecg_data(file_paths, exam_id):\n",
    "    for file_path in file_paths:\n",
    "        with h5py.File(file_path, 'r') as f:\n",
    "            exam_ids = np.array(f['exam_id'])\n",
    "            exam_index = np.where(exam_ids == exam_id)[0]\n",
    "            if len(exam_index) != 0:\n",
    "                exam_index = exam_index[0]\n",
    "                exam_tracings = f['tracings'][exam_index]\n",
    "                return exam_tracings\n",
    "    raise ValueError(\"Exam ID não encontrado em nenhum dos arquivos fornecidos.\")\n",
    "\n",
    "# Caminhos para os arquivos HDF5\n",
    "file_paths = ['../../../../guilherme.evangelista/Clustering-Paper/Projeto/Database/filtered_exams_14_15.hdf5', '../../../../guilherme.evangelista/Clustering-Paper/Projeto/Database/filtered_exams_16_17.hdf5',\n",
    "              '../../../../guilherme.evangelista/Clustering-Paper/Projeto/Database/filtered_exams_12_13.hdf5', '../../../../guilherme.evangelista/Clustering-Paper/Projeto/Database/filtered_exams_10_11.hdf5',\n",
    "              '../../../../guilherme.evangelista/Clustering-Paper/Projeto/Database/filtered_exams_8_9.hdf5']\n",
    "\n",
    "\n",
    "\n",
    "# Obter os tracings de ECG para cada exam_id e armazenar na lista\n",
    "all_tracings = []\n",
    "for exam_id in ids_ecgs:\n",
    "    tracings = get_ecg_data(file_paths, exam_id)\n",
    "    #Selecionar as leads V1 (índice 6) e V6 (índice 11)\n",
    "    #lead_v1 = tracings[:, 6]\n",
    "    #lead_v6 = tracings[:, 11]\n",
    "    lead_d2 = tracings[:, 1]\n",
    "    #Combinar as leads V1 e V6 em uma única dimensão\n",
    "    #combined_leads = np.concatenate((lead_v1, lead_v6))\n",
    "    all_tracings.append(lead_d2)\n",
    "\n",
    "# Converter lista para array numpy\n",
    "X = np.array(all_tracings)\n",
    "\n",
    "print(\"Shape de X para o autoencoder:\", X.shape)\n",
    "# X agora está pronto para ser usado no autoencoder"
   ]
  },
  {
   "cell_type": "code",
   "execution_count": null,
   "metadata": {},
   "outputs": [],
   "source": [
    "import torch.nn as nn\n",
    "import numpy as np\n",
    "\n",
    "\n",
    "def _padding(downsample, kernel_size):\n",
    "    \"\"\"Compute required padding\"\"\"\n",
    "    padding = max(0, int(np.floor((kernel_size - downsample + 1) / 2)))\n",
    "    return padding\n",
    "\n",
    "\n",
    "def _downsample(n_samples_in, n_samples_out):\n",
    "    \"\"\"Compute downsample rate\"\"\"\n",
    "    downsample = int(n_samples_in // n_samples_out)\n",
    "    if downsample < 1:\n",
    "        raise ValueError(\"Number of samples should always decrease\")\n",
    "    if n_samples_in % n_samples_out != 0:\n",
    "        raise ValueError(\"Number of samples for two consecutive blocks \"\n",
    "                         \"should always decrease by an integer factor.\")\n",
    "    return downsample\n",
    "\n",
    "\n",
    "class ResBlock1d(nn.Module):\n",
    "    \"\"\"Residual network unit for unidimensional signals.\"\"\"\n",
    "\n",
    "    def __init__(self, n_filters_in, n_filters_out, downsample, kernel_size, dropout_rate):\n",
    "        if kernel_size % 2 == 0:\n",
    "            raise ValueError(\"The current implementation only support odd values for `kernel_size`.\")\n",
    "        super(ResBlock1d, self).__init__()\n",
    "        # Forward path\n",
    "        padding = _padding(1, kernel_size)\n",
    "        self.conv1 = nn.Conv1d(n_filters_in, n_filters_out, kernel_size, padding=padding, bias=False)\n",
    "        self.bn1 = nn.BatchNorm1d(n_filters_out)\n",
    "        self.relu = nn.ReLU()\n",
    "        self.dropout1 = nn.Dropout(dropout_rate)\n",
    "        padding = _padding(downsample, kernel_size)\n",
    "        self.conv2 = nn.Conv1d(n_filters_out, n_filters_out, kernel_size,\n",
    "                               stride=downsample, padding=padding, bias=False)\n",
    "        self.bn2 = nn.BatchNorm1d(n_filters_out)\n",
    "        self.dropout2 = nn.Dropout(dropout_rate)\n",
    "\n",
    "        # Skip connection\n",
    "        skip_connection_layers = []\n",
    "        # Deal with downsampling\n",
    "        if downsample > 1:\n",
    "            maxpool = nn.MaxPool1d(downsample, stride=downsample)\n",
    "            skip_connection_layers += [maxpool]\n",
    "        # Deal with n_filters dimension increase\n",
    "        if n_filters_in != n_filters_out:\n",
    "            conv1x1 = nn.Conv1d(n_filters_in, n_filters_out, 1, bias=False)\n",
    "            skip_connection_layers += [conv1x1]\n",
    "        # Build skip conection layer\n",
    "        if skip_connection_layers:\n",
    "            self.skip_connection = nn.Sequential(*skip_connection_layers)\n",
    "        else:\n",
    "            self.skip_connection = None\n",
    "\n",
    "    def forward(self, x, y):\n",
    "        \"\"\"Residual unit.\"\"\"\n",
    "        if self.skip_connection is not None:\n",
    "            y = self.skip_connection(y)\n",
    "        else:\n",
    "            y = y\n",
    "        # 1st layer\n",
    "        x = self.conv1(x)\n",
    "        x = self.bn1(x)\n",
    "        x = self.relu(x)\n",
    "        x = self.dropout1(x)\n",
    "\n",
    "        # 2nd layer\n",
    "        x = self.conv2(x)\n",
    "        x += y  # Sum skip connection and main connection\n",
    "        y = x\n",
    "        x = self.bn2(x)\n",
    "        x = self.relu(x)\n",
    "        x = self.dropout2(x)\n",
    "        return x, y\n",
    "\n",
    "\n",
    "class ResNet1d(nn.Module):\n",
    "    \"\"\"Residual network for unidimensional signals.\n",
    "    Parameters\n",
    "    ----------\n",
    "    input_dim : tuple\n",
    "        Input dimensions. Tuple containing dimensions for the neural network\n",
    "        input tensor. Should be like: ``(n_filters, n_samples)``.\n",
    "    blocks_dim : list of tuples\n",
    "        Dimensions of residual blocks.  The i-th tuple should contain the dimensions\n",
    "        of the output (i-1)-th residual block and the input to the i-th residual\n",
    "        block. Each tuple shoud be like: ``(n_filters, n_samples)``. `n_samples`\n",
    "        for two consecutive samples should always decrease by an integer factor.\n",
    "    dropout_rate: float [0, 1), optional\n",
    "        Dropout rate used in all Dropout layers. Default is 0.8\n",
    "    kernel_size: int, optional\n",
    "        Kernel size for convolutional layers. The current implementation\n",
    "        only supports odd kernel sizes. Default is 17.\n",
    "    References\n",
    "    ----------\n",
    "    .. [1] K. He, X. Zhang, S. Ren, and J. Sun, \"Identity Mappings in Deep Residual Networks,\"\n",
    "           arXiv:1603.05027, Mar. 2016. https://arxiv.org/pdf/1603.05027.pdf.\n",
    "    .. [2] K. He, X. Zhang, S. Ren, and J. Sun, \"Deep Residual Learning for Image Recognition,\" in 2016 IEEE Conference\n",
    "           on Computer Vision and Pattern Recognition (CVPR), 2016, pp. 770-778. https://arxiv.org/pdf/1512.03385.pdf\n",
    "    \"\"\"\n",
    "\n",
    "    def __init__(self, input_dim, blocks_dim, n_classes, kernel_size=17, dropout_rate=0.8):\n",
    "        super(ResNet1d, self).__init__()\n",
    "        # First layers\n",
    "        n_filters_in, n_filters_out = input_dim[0], blocks_dim[0][0]\n",
    "        n_samples_in, n_samples_out = input_dim[1], blocks_dim[0][1]\n",
    "        downsample = _downsample(n_samples_in, n_samples_out)\n",
    "        padding = _padding(downsample, kernel_size)\n",
    "        self.conv1 = nn.Conv1d(n_filters_in, n_filters_out, kernel_size, bias=False,\n",
    "                               stride=downsample, padding=padding)\n",
    "        self.bn1 = nn.BatchNorm1d(n_filters_out)\n",
    "\n",
    "        # Residual block layers\n",
    "        self.res_blocks = []\n",
    "        for i, (n_filters, n_samples) in enumerate(blocks_dim):\n",
    "            n_filters_in, n_filters_out = n_filters_out, n_filters\n",
    "            n_samples_in, n_samples_out = n_samples_out, n_samples\n",
    "            downsample = _downsample(n_samples_in, n_samples_out)\n",
    "            resblk1d = ResBlock1d(n_filters_in, n_filters_out, downsample, kernel_size, dropout_rate)\n",
    "            self.add_module('resblock1d_{0}'.format(i), resblk1d)\n",
    "            self.res_blocks += [resblk1d]\n",
    "\n",
    "        # Linear layer\n",
    "        n_filters_last, n_samples_last = blocks_dim[-1]\n",
    "        last_layer_dim = n_filters_last * n_samples_last\n",
    "        self.lin = nn.Linear(last_layer_dim, n_classes)\n",
    "        self.n_blk = len(blocks_dim)\n",
    "\n",
    "    def forward(self, x):\n",
    "        \"\"\"Implement ResNet1d forward propagation\"\"\"\n",
    "        # First layers\n",
    "        x = self.conv1(x)\n",
    "        x = self.bn1(x)\n",
    "\n",
    "        # Residual blocks\n",
    "        y = x\n",
    "        for blk in self.res_blocks:\n",
    "            x, y = blk(x, y)\n",
    "\n",
    "        # Flatten array\n",
    "        x = x.view(x.size(0), -1)\n",
    "\n",
    "        # Fully conected layer\n",
    "        x = self.lin(x)\n",
    "        return x\n",
    "    \n",
    "import math\n",
    "import torch\n",
    "import numpy as np\n",
    "\n",
    "\n",
    "class BatchDataloader:\n",
    "    def __init__(self, *tensors, bs=1, mask=None):\n",
    "        nonzero_idx, = np.nonzero(mask)\n",
    "        self.tensors = tensors\n",
    "        self.batch_size = bs\n",
    "        self.mask = mask\n",
    "        if nonzero_idx.size > 0:\n",
    "            self.start_idx = min(nonzero_idx)\n",
    "            self.end_idx = max(nonzero_idx)+1\n",
    "        else:\n",
    "            self.start_idx = 0\n",
    "            self.end_idx = 0\n",
    "\n",
    "    def __next__(self):\n",
    "        if self.start == self.end_idx:\n",
    "            raise StopIteration\n",
    "        end = min(self.start + self.batch_size, self.end_idx)\n",
    "        batch_mask = self.mask[self.start:end]\n",
    "        while sum(batch_mask) == 0:\n",
    "            self.start = end\n",
    "            end = min(self.start + self.batch_size, self.end_idx)\n",
    "            batch_mask = self.mask[self.start:end]\n",
    "        batch = [np.array(t[self.start:end]) for t in self.tensors]\n",
    "        self.start = end\n",
    "        self.sum += sum(batch_mask)\n",
    "        return [torch.tensor(b[batch_mask], dtype=torch.float32) for b in batch]\n",
    "\n",
    "    def __iter__(self):\n",
    "        self.start = self.start_idx\n",
    "        self.sum = 0\n",
    "        return self\n",
    "\n",
    "    def __len__(self):\n",
    "        count = 0\n",
    "        start = self.start_idx\n",
    "        while start != self.end_idx:\n",
    "            end = min(start + self.batch_size, self.end_idx)\n",
    "            batch_mask = self.mask[start:end]\n",
    "            if sum(batch_mask) != 0:\n",
    "                count += 1\n",
    "            start = end\n",
    "        return count\n",
    "    \n",
    "import json\n",
    "import torch\n",
    "import os\n",
    "from tqdm import tqdm\n",
    "import torch.optim as optim\n",
    "import numpy as np\n",
    "\n",
    "\n",
    "def compute_loss(ages, pred_ages, weights):\n",
    "    diff = ages.flatten() - pred_ages.flatten()\n",
    "    loss = torch.sum(weights.flatten() * diff * diff)\n",
    "    return loss\n",
    "\n",
    "\n",
    "def compute_weights(ages, max_weight=np.inf):\n",
    "    _, inverse, counts = np.unique(ages, return_inverse=True, return_counts=True)\n",
    "    weights = 1 / counts[inverse]\n",
    "    normalized_weights = weights / sum(weights)\n",
    "    w = len(ages) * normalized_weights\n",
    "    # Truncate weights to a maximum\n",
    "    if max_weight < np.inf:\n",
    "        w = np.minimum(w, max_weight)\n",
    "        w = len(ages) * w / sum(w)\n",
    "    return w\n",
    "\n",
    "\n",
    "def train(ep, dataload):\n",
    "    model.train()\n",
    "    total_loss = 0\n",
    "    n_entries = 0\n",
    "    train_desc = \"Epoch {:2d}: train - Loss: {:.6f}\"\n",
    "    train_bar = tqdm(initial=0, leave=True, total=len(dataload),\n",
    "                     desc=train_desc.format(ep, 0, 0), position=0)\n",
    "    for traces, ages, weights in dataload:\n",
    "        traces = traces.transpose(1, 2)\n",
    "        traces, ages, weights = traces.to(device), ages.to(device), weights.to(device)\n",
    "        # Reinitialize grad\n",
    "        model.zero_grad()\n",
    "        # Send to device\n",
    "        # Forward pass\n",
    "        pred_ages = model(traces)\n",
    "        loss = compute_loss(ages, pred_ages, weights)\n",
    "        # Backward pass\n",
    "        loss.backward()\n",
    "        # Optimize\n",
    "        optimizer.step()\n",
    "        # Update\n",
    "        bs = len(traces)\n",
    "        total_loss += loss.detach().cpu().numpy()\n",
    "        n_entries += bs\n",
    "        # Update train bar\n",
    "        train_bar.desc = train_desc.format(ep, total_loss / n_entries)\n",
    "        train_bar.update(1)\n",
    "    train_bar.close()\n",
    "    return total_loss / n_entries\n",
    "\n",
    "\n",
    "def eval(ep, dataload):\n",
    "    model.eval()\n",
    "    total_loss = 0\n",
    "    n_entries = 0\n",
    "    eval_desc = \"Epoch {:2d}: valid - Loss: {:.6f}\"\n",
    "    eval_bar = tqdm(initial=0, leave=True, total=len(dataload),\n",
    "                    desc=eval_desc.format(ep, 0, 0), position=0)\n",
    "    for traces, ages, weights in dataload:\n",
    "        traces = traces.transpose(1, 2)\n",
    "        traces, ages, weights = traces.to(device), ages.to(device), weights.to(device)\n",
    "        with torch.no_grad():\n",
    "            # Forward pass\n",
    "            pred_ages = model(traces)\n",
    "            loss = compute_loss(ages, pred_ages, weights)\n",
    "            # Update outputs\n",
    "            bs = len(traces)\n",
    "            # Update ids\n",
    "            total_loss += loss.detach().cpu().numpy()\n",
    "            n_entries += bs\n",
    "            # Print result\n",
    "            eval_bar.desc = eval_desc.format(ep, total_loss / n_entries)\n",
    "            eval_bar.update(1)\n",
    "    eval_bar.close()\n",
    "    return total_loss / n_entries\n",
    "\n",
    "\n",
    "if __name__ == \"__main__\":\n",
    "    import h5py\n",
    "    import pandas as pd\n",
    "    import argparse\n",
    "    from warnings import warn\n",
    "\n",
    "    # Arguments that will be saved in config file\n",
    "    parser = argparse.ArgumentParser(add_help=True,\n",
    "                                     description='Train model to predict rage from the raw ecg tracing.')\n",
    "    parser.add_argument('--epochs', type=int, default=70,\n",
    "                        help='maximum number of epochs (default: 70)')\n",
    "    parser.add_argument('--seed', type=int, default=2,\n",
    "                        help='random seed for number generator (default: 2)')\n",
    "    parser.add_argument('--sample_freq', type=int, default=400,\n",
    "                        help='sample frequency (in Hz) in which all traces will be resampled at (default: 400)')\n",
    "    parser.add_argument('--seq_length', type=int, default=4096,\n",
    "                        help='size (in # of samples) for all traces. If needed traces will be zeropadded'\n",
    "                                    'to fit into the given size. (default: 4096)')\n",
    "    parser.add_argument('--scale_multiplier', type=int, default=10,\n",
    "                        help='multiplicative factor used to rescale inputs.')\n",
    "    parser.add_argument('--batch_size', type=int, default=32,\n",
    "                        help='batch size (default: 32).')\n",
    "    parser.add_argument('--lr', type=float, default=0.001,\n",
    "                        help='learning rate (default: 0.001)')\n",
    "    parser.add_argument(\"--patience\", type=int, default=7,\n",
    "                        help='maximum number of epochs without reducing the learning rate (default: 7)')\n",
    "    parser.add_argument(\"--min_lr\", type=float, default=1e-7,\n",
    "                        help='minimum learning rate (default: 1e-7)')\n",
    "    parser.add_argument(\"--lr_factor\", type=float, default=0.1,\n",
    "                        help='reducing factor for the lr in a plateu (default: 0.1)')\n",
    "    parser.add_argument('--net_filter_size', type=int, nargs='+', default=[64, 128, 196, 256, 320],\n",
    "                        help='filter size in resnet layers (default: [64, 128, 196, 256, 320]).')\n",
    "    parser.add_argument('--net_seq_lengh', type=int, nargs='+', default=[4096, 1024, 256, 64, 16],\n",
    "                        help='number of samples per resnet layer (default: [4096, 1024, 256, 64, 16]).')\n",
    "    parser.add_argument('--dropout_rate', type=float, default=0.8,\n",
    "                        help='dropout rate (default: 0.8).')\n",
    "    parser.add_argument('--kernel_size', type=int, default=17,\n",
    "                        help='kernel size in convolutional layers (default: 17).')\n",
    "    parser.add_argument('--folder', default='model/',\n",
    "                        help='output folder (default: ./out)')\n",
    "    parser.add_argument('--traces_dset', default='tracings',\n",
    "                        help='traces dataset in the hdf5 file.')\n",
    "    parser.add_argument('--ids_dset', default='',\n",
    "                        help='by default consider the ids are just the order')\n",
    "    parser.add_argument('--age_col', default='age',\n",
    "                        help='column with the age in csv file.')\n",
    "    parser.add_argument('--ids_col', default=None,\n",
    "                        help='column with the ids in csv file.')\n",
    "    parser.add_argument('--cuda', action='store_true',\n",
    "                        help='use cuda for computations. (default: False)')\n",
    "    parser.add_argument('--n_valid', type=int, default=100,\n",
    "                        help='the first `n_valid` exams in the hdf will be for validation.'\n",
    "                             'The rest is for training')\n",
    "    parser.add_argument('path_to_traces',\n",
    "                        help='path to file containing ECG traces')\n",
    "    parser.add_argument('path_to_csv',\n",
    "                        help='path to csv file containing attributes.')\n",
    "    args, unk = parser.parse_known_args()\n",
    "    # Check for unknown options\n",
    "    if unk:\n",
    "        warn(\"Unknown arguments:\" + str(unk) + \".\")\n",
    "\n",
    "    torch.manual_seed(args.seed)\n",
    "    print(args)\n",
    "    # Set device\n",
    "    device = torch.device('cuda:0' if args.cuda else 'cpu')\n",
    "    folder = args.folder\n",
    "\n",
    "    # Generate output folder if needed\n",
    "    if not os.path.exists(args.folder):\n",
    "        os.makedirs(args.folder)\n",
    "    # Save config file\n",
    "    with open(os.path.join(args.folder, 'args.json'), 'w') as f:\n",
    "        json.dump(vars(args), f, indent='\\t')\n",
    "\n",
    "    tqdm.write(\"Building data loaders...\")\n",
    "    # Get csv data\n",
    "    df = pd.read_csv(args.path_to_csv, index_col=args.ids_col)\n",
    "    ages = df[args.age_col]\n",
    "    # Get h5 data\n",
    "    f = h5py.File(args.path_to_traces, 'r')\n",
    "    traces = f[args.traces_dset]\n",
    "    if args.ids_dset:\n",
    "        h5ids = f[args.ids_dset]\n",
    "        df = df.reindex(h5ids, fill_value=False, copy=True)\n",
    "    # Train/ val split\n",
    "    valid_mask = np.arange(len(df)) <= args.n_valid\n",
    "    train_mask = ~valid_mask\n",
    "    # weights\n",
    "    weights = compute_weights(ages)\n",
    "    # Dataloader\n",
    "    train_loader = BatchDataloader(traces, ages, weights, bs=args.batch_size, mask=train_mask)\n",
    "    valid_loader = BatchDataloader(traces, ages, weights, bs=args.batch_size, mask=valid_mask)\n",
    "    tqdm.write(\"Done!\")\n",
    "\n",
    "    tqdm.write(\"Define model...\")\n",
    "    N_LEADS = 12  # the 12 leads\n",
    "    N_CLASSES = 1  # just the age\n",
    "    model = ResNet1d(input_dim=(N_LEADS, args.seq_length),\n",
    "                     blocks_dim=list(zip(args.net_filter_size, args.net_seq_lengh)),\n",
    "                     n_classes=N_CLASSES,\n",
    "                     kernel_size=args.kernel_size,\n",
    "                     dropout_rate=args.dropout_rate)\n",
    "    model.to(device=device)\n",
    "    tqdm.write(\"Done!\")\n",
    "\n",
    "    tqdm.write(\"Define optimizer...\")\n",
    "    optimizer = optim.Adam(model.parameters(), args.lr)\n",
    "    tqdm.write(\"Done!\")\n",
    "\n",
    "    tqdm.write(\"Define scheduler...\")\n",
    "    scheduler = optim.lr_scheduler.ReduceLROnPlateau(optimizer, patience=args.patience,\n",
    "                                                     min_lr=args.lr_factor * args.min_lr,\n",
    "                                                     factor=args.lr_factor)\n",
    "    tqdm.write(\"Done!\")\n",
    "\n",
    "    tqdm.write(\"Training...\")\n",
    "    start_epoch = 0\n",
    "    best_loss = np.Inf\n",
    "    history = pd.DataFrame(columns=['epoch', 'train_loss', 'valid_loss', 'lr',\n",
    "                                    'weighted_rmse', 'weighted_mae', 'rmse', 'mse'])\n",
    "    for ep in range(start_epoch, args.epochs):\n",
    "        train_loss = train(ep, train_loader)\n",
    "        valid_loss = eval(ep, valid_loader)\n",
    "        # Save best model\n",
    "        if valid_loss < best_loss:\n",
    "            # Save model\n",
    "            torch.save({'epoch': ep,\n",
    "                        'model': model.state_dict(),\n",
    "                        'valid_loss': valid_loss,\n",
    "                        'optimizer': optimizer.state_dict()},\n",
    "                       os.path.join(folder, 'model.pth'))\n",
    "            # Update best validation loss\n",
    "            best_loss = valid_loss\n",
    "        # Get learning rate\n",
    "        for param_group in optimizer.param_groups:\n",
    "            learning_rate = param_group[\"lr\"]\n",
    "        # Interrupt for minimum learning rate\n",
    "        if learning_rate < args.min_lr:\n",
    "            break\n",
    "        # Print message\n",
    "        tqdm.write('Epoch {:2d}: \\tTrain Loss {:.6f} ' \\\n",
    "                  '\\tValid Loss {:.6f} \\tLearning Rate {:.7f}\\t'\n",
    "                 .format(ep, train_loss, valid_loss, learning_rate))\n",
    "        # Save history\n",
    "        history = history.append({\"epoch\": ep, \"train_loss\": train_loss,\n",
    "                                  \"valid_loss\": valid_loss, \"lr\": learning_rate}, ignore_index=True)\n",
    "        history.to_csv(os.path.join(folder, 'history.csv'), index=False)\n",
    "        # Update learning rate\n",
    "        scheduler.step(valid_loss)\n",
    "    tqdm.write(\"Done!\")\n",
    "\n",
    "        \n"
   ]
  },
  {
   "cell_type": "code",
   "execution_count": 5,
   "metadata": {},
   "outputs": [],
   "source": [
    "import torch\n",
    "import torch.nn as nn\n",
    "import torch.optim as optim\n",
    "import numpy as np\n",
    "\n",
    "class ResBlock1d(nn.Module):\n",
    "    \"\"\"Residual network unit for unidimensional signals.\"\"\"\n",
    "\n",
    "    def __init__(self, n_filters_in, n_filters_out, downsample, kernel_size, dropout_rate):\n",
    "        if kernel_size % 2 == 0:\n",
    "            raise ValueError(\"The current implementation only support odd values for `kernel_size`.\")\n",
    "        super(ResBlock1d, self).__init__()\n",
    "        # Forward path\n",
    "        padding = _padding(1, kernel_size)\n",
    "        self.conv1 = nn.Conv1d(n_filters_in, n_filters_out, kernel_size, padding=padding, bias=False)\n",
    "        self.bn1 = nn.BatchNorm1d(n_filters_out)\n",
    "        self.relu = nn.ReLU()\n",
    "        self.dropout1 = nn.Dropout(dropout_rate)\n",
    "        padding = _padding(downsample, kernel_size)\n",
    "        self.conv2 = nn.Conv1d(n_filters_out, n_filters_out, kernel_size,\n",
    "                               stride=downsample, padding=padding, bias=False)\n",
    "        self.bn2 = nn.BatchNorm1d(n_filters_out)\n",
    "        self.dropout2 = nn.Dropout(dropout_rate)\n",
    "\n",
    "        # Skip connection\n",
    "        skip_connection_layers = []\n",
    "        # Deal with downsampling\n",
    "        if downsample > 1:\n",
    "            maxpool = nn.MaxPool1d(downsample, stride=downsample)\n",
    "            skip_connection_layers += [maxpool]\n",
    "        # Deal with n_filters dimension increase\n",
    "        if n_filters_in != n_filters_out:\n",
    "            conv1x1 = nn.Conv1d(n_filters_in, n_filters_out, 1, bias=False)\n",
    "            skip_connection_layers += [conv1x1]\n",
    "        # Build skip conection layer\n",
    "        if skip_connection_layers:\n",
    "            self.skip_connection = nn.Sequential(*skip_connection_layers)\n",
    "        else:\n",
    "            self.skip_connection = None\n",
    "\n",
    "    def forward(self, x, y):\n",
    "        \"\"\"Residual unit.\"\"\"\n",
    "        if self.skip_connection is not None:\n",
    "            y = self.skip_connection(y)\n",
    "        else:\n",
    "            y = y\n",
    "        # 1st layer\n",
    "        x = self.conv1(x)\n",
    "        x = self.bn1(x)\n",
    "        x = self.relu(x)\n",
    "        x = self.dropout1(x)\n",
    "\n",
    "        # 2nd layer\n",
    "        x = self.conv2(x)\n",
    "        x += y  # Sum skip connection and main connection\n",
    "        y = x\n",
    "        x = self.bn2(x)\n",
    "        x = self.relu(x)\n",
    "        x = self.dropout2(x)\n",
    "        return x, y\n",
    "\n",
    "\n",
    "class Encoder(nn.Module):\n",
    "    def __init__(self, input_dim, blocks_dim, kernel_size=17, dropout_rate=0.8):\n",
    "        super(Encoder, self).__init__()\n",
    "        n_filters_in, n_filters_out = input_dim[0], blocks_dim[0][0]\n",
    "        n_samples_in, n_samples_out = input_dim[1], blocks_dim[0][1]\n",
    "        downsample = _downsample(n_samples_in, n_samples_out)\n",
    "        padding = _padding(downsample, kernel_size)\n",
    "        self.conv1 = nn.Conv1d(n_filters_in, n_filters_out, kernel_size, bias=False,\n",
    "                               stride=downsample, padding=padding)\n",
    "        self.bn1 = nn.BatchNorm1d(n_filters_out)\n",
    "\n",
    "        self.res_blocks = []\n",
    "        for i, (n_filters, n_samples) in enumerate(blocks_dim):\n",
    "            n_filters_in, n_filters_out = n_filters_out, n_filters\n",
    "            n_samples_in, n_samples_out = n_samples_out, n_samples\n",
    "            downsample = _downsample(n_samples_in, n_samples_out)\n",
    "            resblk1d = ResBlock1d(n_filters_in, n_filters_out, downsample, kernel_size, dropout_rate)\n",
    "            self.add_module('resblock1d_{0}'.format(i), resblk1d)\n",
    "            self.res_blocks += [resblk1d]\n",
    "\n",
    "    def forward(self, x):\n",
    "        x = self.conv1(x)\n",
    "        x = self.bn1(x)\n",
    "\n",
    "        y = x\n",
    "        for blk in self.res_blocks:\n",
    "            x, y = blk(x, y)\n",
    "\n",
    "        return x\n",
    "\n",
    "\n",
    "class Decoder(nn.Module):\n",
    "    def __init__(self, input_dim, blocks_dim, kernel_size=17, dropout_rate=0.8):\n",
    "        super(Decoder, self).__init__()\n",
    "        blocks_dim = blocks_dim[::-1]\n",
    "        n_filters_in, n_filters_out = input_dim[0], blocks_dim[0][0]\n",
    "        n_samples_in, n_samples_out = input_dim[1], blocks_dim[0][1]\n",
    "        upsample = _downsample(n_samples_out, n_samples_in)\n",
    "        padding = _padding(upsample, kernel_size)\n",
    "        self.conv1 = nn.ConvTranspose1d(n_filters_in, n_filters_out, kernel_size, bias=False,\n",
    "                                        stride=upsample, padding=padding)\n",
    "        self.bn1 = nn.BatchNorm1d(n_filters_out)\n",
    "\n",
    "        self.res_blocks = []\n",
    "        for i, (n_filters, n_samples) in enumerate(blocks_dim):\n",
    "            n_filters_in, n_filters_out = n_filters_out, n_filters\n",
    "            n_samples_in, n_samples_out = n_samples_out, n_samples\n",
    "            upsample = _downsample(n_samples_out, n_samples_in)\n",
    "            resblk1d = ResBlock1d(n_filters_in, n_filters_out, upsample, kernel_size, dropout_rate)\n",
    "            self.add_module('resblock1d_{0}'.format(i), resblk1d)\n",
    "            self.res_blocks += [resblk1d]\n",
    "\n",
    "    def forward(self, x):\n",
    "        x = self.conv1(x)\n",
    "        x = self.bn1(x)\n",
    "\n",
    "        y = x\n",
    "        for blk in self.res_blocks:\n",
    "            x, y = blk(x, y)\n",
    "\n",
    "        return x\n",
    "\n",
    "\n",
    "class Autoencoder(nn.Module):\n",
    "    def __init__(self, input_dim, blocks_dim, kernel_size=17, dropout_rate=0.8):\n",
    "        super(Autoencoder, self).__init__()\n",
    "        self.encoder = Encoder(input_dim, blocks_dim, kernel_size, dropout_rate)\n",
    "        self.decoder = Decoder(blocks_dim[-1], blocks_dim, kernel_size, dropout_rate)\n",
    "\n",
    "    def forward(self, x):\n",
    "        x = self.encoder(x)\n",
    "        x = self.decoder(x)\n",
    "        return x\n",
    "\n",
    "\n",
    "def _padding(downsample, kernel_size):\n",
    "    \"\"\"Compute required padding\"\"\"\n",
    "    padding = max(0, int(np.floor((kernel_size - downsample + 1) / 2)))\n",
    "    return padding\n",
    "\n",
    "\n",
    "def _downsample(n_samples_in, n_samples_out):\n",
    "    \"\"\"Compute downsample rate\"\"\"\n",
    "    downsample = int(n_samples_in // n_samples_out)\n",
    "    if downsample < 1:\n",
    "        raise ValueError(\"Number of samples should always decrease\")\n",
    "    if n_samples_in % n_samples_out != 0:\n",
    "        raise ValueError(\"Number of samples for two consecutive blocks \"\n",
    "                         \"should always decrease by an integer factor.\")\n",
    "    return downsample\n",
    "\n",
    "\n",
    "# Example usage\n",
    "if __name__ == \"__main__\":\n",
    "    input_dim = (12, 4096)  # Example input dimension (N_LEADS, seq_length)\n",
    "    blocks_dim = [(64, 1024), (128, 256), (196, 64), (256, 16), (320, 4)]\n",
    "    model = Autoencoder(input_dim, blocks_dim)\n",
    "    print(model)\n",
    "\n",
    "    # Dummy data for testing\n",
    "    x = torch.randn(1, 12, 4096)  # Batch size 1, 12 leads, 4096 samples\n",
    "    output = model(x)\n",
    "    print(output.shape)\n"
   ]
  },
  {
   "cell_type": "code",
   "execution_count": null,
   "metadata": {},
   "outputs": [],
   "source": []
  },
  {
   "cell_type": "code",
   "execution_count": 13,
   "metadata": {},
   "outputs": [
    {
     "name": "stdout",
     "output_type": "stream",
     "text": [
      "Formato original de X: (11000, 4096)\n",
      "Formato antes do reshape: (11000, 4096)\n",
      "Formato após o reshape: (11000, 1, 4096)\n",
      "Número total de elementos: 45056000\n"
     ]
    },
    {
     "name": "stderr",
     "output_type": "stream",
     "text": [
      "Epoch 1/50: 100%|██████████| 275/275 [00:01<00:00, 142.88it/s]\n"
     ]
    },
    {
     "name": "stdout",
     "output_type": "stream",
     "text": [
      "Epoch 1, Train Loss: 0.0546, Validation Loss: 0.0182\n"
     ]
    },
    {
     "name": "stderr",
     "output_type": "stream",
     "text": [
      "Epoch 2/50: 100%|██████████| 275/275 [00:01<00:00, 156.72it/s]\n"
     ]
    },
    {
     "name": "stdout",
     "output_type": "stream",
     "text": [
      "Epoch 2, Train Loss: 0.0170, Validation Loss: 0.0162\n"
     ]
    },
    {
     "name": "stderr",
     "output_type": "stream",
     "text": [
      "Epoch 3/50: 100%|██████████| 275/275 [00:01<00:00, 170.54it/s]\n"
     ]
    },
    {
     "name": "stdout",
     "output_type": "stream",
     "text": [
      "Epoch 3, Train Loss: 0.0145, Validation Loss: 0.0120\n"
     ]
    },
    {
     "name": "stderr",
     "output_type": "stream",
     "text": [
      "Epoch 4/50: 100%|██████████| 275/275 [00:01<00:00, 169.35it/s]\n"
     ]
    },
    {
     "name": "stdout",
     "output_type": "stream",
     "text": [
      "Epoch 4, Train Loss: 0.0097, Validation Loss: 0.0067\n"
     ]
    },
    {
     "name": "stderr",
     "output_type": "stream",
     "text": [
      "Epoch 5/50: 100%|██████████| 275/275 [00:01<00:00, 168.34it/s]\n"
     ]
    },
    {
     "name": "stdout",
     "output_type": "stream",
     "text": [
      "Epoch 5, Train Loss: 0.0060, Validation Loss: 0.0051\n"
     ]
    },
    {
     "name": "stderr",
     "output_type": "stream",
     "text": [
      "Epoch 6/50: 100%|██████████| 275/275 [00:01<00:00, 169.87it/s]\n"
     ]
    },
    {
     "name": "stdout",
     "output_type": "stream",
     "text": [
      "Epoch 6, Train Loss: 0.0046, Validation Loss: 0.0039\n"
     ]
    },
    {
     "name": "stderr",
     "output_type": "stream",
     "text": [
      "Epoch 7/50: 100%|██████████| 275/275 [00:01<00:00, 169.78it/s]\n"
     ]
    },
    {
     "name": "stdout",
     "output_type": "stream",
     "text": [
      "Epoch 7, Train Loss: 0.0040, Validation Loss: 0.0035\n"
     ]
    },
    {
     "name": "stderr",
     "output_type": "stream",
     "text": [
      "Epoch 8/50: 100%|██████████| 275/275 [00:01<00:00, 168.40it/s]\n"
     ]
    },
    {
     "name": "stdout",
     "output_type": "stream",
     "text": [
      "Epoch 8, Train Loss: 0.0036, Validation Loss: 0.0030\n"
     ]
    },
    {
     "name": "stderr",
     "output_type": "stream",
     "text": [
      "Epoch 9/50: 100%|██████████| 275/275 [00:01<00:00, 169.88it/s]\n"
     ]
    },
    {
     "name": "stdout",
     "output_type": "stream",
     "text": [
      "Epoch 9, Train Loss: 0.0033, Validation Loss: 0.0031\n"
     ]
    },
    {
     "name": "stderr",
     "output_type": "stream",
     "text": [
      "Epoch 10/50: 100%|██████████| 275/275 [00:01<00:00, 167.60it/s]\n"
     ]
    },
    {
     "name": "stdout",
     "output_type": "stream",
     "text": [
      "Epoch 10, Train Loss: 0.0032, Validation Loss: 0.0029\n"
     ]
    },
    {
     "name": "stderr",
     "output_type": "stream",
     "text": [
      "Epoch 11/50: 100%|██████████| 275/275 [00:01<00:00, 168.83it/s]\n"
     ]
    },
    {
     "name": "stdout",
     "output_type": "stream",
     "text": [
      "Epoch 11, Train Loss: 0.0030, Validation Loss: 0.0027\n"
     ]
    },
    {
     "name": "stderr",
     "output_type": "stream",
     "text": [
      "Epoch 12/50: 100%|██████████| 275/275 [00:01<00:00, 168.81it/s]\n"
     ]
    },
    {
     "name": "stdout",
     "output_type": "stream",
     "text": [
      "Epoch 12, Train Loss: 0.0029, Validation Loss: 0.0025\n"
     ]
    },
    {
     "name": "stderr",
     "output_type": "stream",
     "text": [
      "Epoch 13/50: 100%|██████████| 275/275 [00:01<00:00, 169.43it/s]\n"
     ]
    },
    {
     "name": "stdout",
     "output_type": "stream",
     "text": [
      "Epoch 13, Train Loss: 0.0028, Validation Loss: 0.0027\n"
     ]
    },
    {
     "name": "stderr",
     "output_type": "stream",
     "text": [
      "Epoch 14/50: 100%|██████████| 275/275 [00:01<00:00, 169.32it/s]\n"
     ]
    },
    {
     "name": "stdout",
     "output_type": "stream",
     "text": [
      "Epoch 14, Train Loss: 0.0027, Validation Loss: 0.0024\n"
     ]
    },
    {
     "name": "stderr",
     "output_type": "stream",
     "text": [
      "Epoch 15/50: 100%|██████████| 275/275 [00:01<00:00, 171.16it/s]\n"
     ]
    },
    {
     "name": "stdout",
     "output_type": "stream",
     "text": [
      "Epoch 15, Train Loss: 0.0026, Validation Loss: 0.0025\n"
     ]
    },
    {
     "name": "stderr",
     "output_type": "stream",
     "text": [
      "Epoch 16/50: 100%|██████████| 275/275 [00:01<00:00, 167.02it/s]\n"
     ]
    },
    {
     "name": "stdout",
     "output_type": "stream",
     "text": [
      "Epoch 16, Train Loss: 0.0026, Validation Loss: 0.0029\n"
     ]
    },
    {
     "name": "stderr",
     "output_type": "stream",
     "text": [
      "Epoch 17/50: 100%|██████████| 275/275 [00:01<00:00, 166.62it/s]\n"
     ]
    },
    {
     "name": "stdout",
     "output_type": "stream",
     "text": [
      "Epoch 17, Train Loss: 0.0025, Validation Loss: 0.0024\n"
     ]
    },
    {
     "name": "stderr",
     "output_type": "stream",
     "text": [
      "Epoch 18/50: 100%|██████████| 275/275 [00:01<00:00, 167.25it/s]\n"
     ]
    },
    {
     "name": "stdout",
     "output_type": "stream",
     "text": [
      "Epoch 18, Train Loss: 0.0025, Validation Loss: 0.0023\n"
     ]
    },
    {
     "name": "stderr",
     "output_type": "stream",
     "text": [
      "Epoch 19/50: 100%|██████████| 275/275 [00:01<00:00, 168.66it/s]\n"
     ]
    },
    {
     "name": "stdout",
     "output_type": "stream",
     "text": [
      "Epoch 19, Train Loss: 0.0024, Validation Loss: 0.0026\n"
     ]
    },
    {
     "name": "stderr",
     "output_type": "stream",
     "text": [
      "Epoch 20/50: 100%|██████████| 275/275 [00:01<00:00, 167.32it/s]\n"
     ]
    },
    {
     "name": "stdout",
     "output_type": "stream",
     "text": [
      "Epoch 20, Train Loss: 0.0025, Validation Loss: 0.0022\n"
     ]
    },
    {
     "name": "stderr",
     "output_type": "stream",
     "text": [
      "Epoch 21/50: 100%|██████████| 275/275 [00:01<00:00, 169.25it/s]\n"
     ]
    },
    {
     "name": "stdout",
     "output_type": "stream",
     "text": [
      "Epoch 21, Train Loss: 0.0024, Validation Loss: 0.0023\n"
     ]
    },
    {
     "name": "stderr",
     "output_type": "stream",
     "text": [
      "Epoch 22/50: 100%|██████████| 275/275 [00:01<00:00, 166.66it/s]\n"
     ]
    },
    {
     "name": "stdout",
     "output_type": "stream",
     "text": [
      "Epoch 22, Train Loss: 0.0023, Validation Loss: 0.0021\n"
     ]
    },
    {
     "name": "stderr",
     "output_type": "stream",
     "text": [
      "Epoch 23/50: 100%|██████████| 275/275 [00:01<00:00, 169.39it/s]\n"
     ]
    },
    {
     "name": "stdout",
     "output_type": "stream",
     "text": [
      "Epoch 23, Train Loss: 0.0023, Validation Loss: 0.0020\n"
     ]
    },
    {
     "name": "stderr",
     "output_type": "stream",
     "text": [
      "Epoch 24/50: 100%|██████████| 275/275 [00:01<00:00, 169.37it/s]\n"
     ]
    },
    {
     "name": "stdout",
     "output_type": "stream",
     "text": [
      "Epoch 24, Train Loss: 0.0022, Validation Loss: 0.0021\n"
     ]
    },
    {
     "name": "stderr",
     "output_type": "stream",
     "text": [
      "Epoch 25/50: 100%|██████████| 275/275 [00:01<00:00, 167.56it/s]\n"
     ]
    },
    {
     "name": "stdout",
     "output_type": "stream",
     "text": [
      "Epoch 25, Train Loss: 0.0022, Validation Loss: 0.0028\n"
     ]
    },
    {
     "name": "stderr",
     "output_type": "stream",
     "text": [
      "Epoch 26/50: 100%|██████████| 275/275 [00:01<00:00, 167.80it/s]\n"
     ]
    },
    {
     "name": "stdout",
     "output_type": "stream",
     "text": [
      "Epoch 26, Train Loss: 0.0022, Validation Loss: 0.0020\n"
     ]
    },
    {
     "name": "stderr",
     "output_type": "stream",
     "text": [
      "Epoch 27/50: 100%|██████████| 275/275 [00:01<00:00, 170.63it/s]\n"
     ]
    },
    {
     "name": "stdout",
     "output_type": "stream",
     "text": [
      "Epoch 27, Train Loss: 0.0021, Validation Loss: 0.0022\n"
     ]
    },
    {
     "name": "stderr",
     "output_type": "stream",
     "text": [
      "Epoch 28/50: 100%|██████████| 275/275 [00:01<00:00, 166.38it/s]\n"
     ]
    },
    {
     "name": "stdout",
     "output_type": "stream",
     "text": [
      "Epoch 28, Train Loss: 0.0021, Validation Loss: 0.0022\n"
     ]
    },
    {
     "name": "stderr",
     "output_type": "stream",
     "text": [
      "Epoch 29/50: 100%|██████████| 275/275 [00:01<00:00, 167.15it/s]\n"
     ]
    },
    {
     "name": "stdout",
     "output_type": "stream",
     "text": [
      "Epoch 29, Train Loss: 0.0021, Validation Loss: 0.0022\n"
     ]
    },
    {
     "name": "stderr",
     "output_type": "stream",
     "text": [
      "Epoch 30/50: 100%|██████████| 275/275 [00:01<00:00, 166.74it/s]\n"
     ]
    },
    {
     "name": "stdout",
     "output_type": "stream",
     "text": [
      "Epoch 30, Train Loss: 0.0020, Validation Loss: 0.0020\n"
     ]
    },
    {
     "name": "stderr",
     "output_type": "stream",
     "text": [
      "Epoch 31/50: 100%|██████████| 275/275 [00:01<00:00, 166.43it/s]\n"
     ]
    },
    {
     "name": "stdout",
     "output_type": "stream",
     "text": [
      "Epoch 31, Train Loss: 0.0020, Validation Loss: 0.0020\n"
     ]
    },
    {
     "name": "stderr",
     "output_type": "stream",
     "text": [
      "Epoch 32/50: 100%|██████████| 275/275 [00:01<00:00, 166.03it/s]\n"
     ]
    },
    {
     "name": "stdout",
     "output_type": "stream",
     "text": [
      "Epoch 32, Train Loss: 0.0020, Validation Loss: 0.0019\n"
     ]
    },
    {
     "name": "stderr",
     "output_type": "stream",
     "text": [
      "Epoch 33/50: 100%|██████████| 275/275 [00:01<00:00, 169.78it/s]\n"
     ]
    },
    {
     "name": "stdout",
     "output_type": "stream",
     "text": [
      "Epoch 33, Train Loss: 0.0019, Validation Loss: 0.0020\n"
     ]
    },
    {
     "name": "stderr",
     "output_type": "stream",
     "text": [
      "Epoch 34/50: 100%|██████████| 275/275 [00:01<00:00, 166.69it/s]\n"
     ]
    },
    {
     "name": "stdout",
     "output_type": "stream",
     "text": [
      "Epoch 34, Train Loss: 0.0019, Validation Loss: 0.0021\n"
     ]
    },
    {
     "name": "stderr",
     "output_type": "stream",
     "text": [
      "Epoch 35/50: 100%|██████████| 275/275 [00:01<00:00, 166.67it/s]\n"
     ]
    },
    {
     "name": "stdout",
     "output_type": "stream",
     "text": [
      "Epoch 35, Train Loss: 0.0019, Validation Loss: 0.0019\n"
     ]
    },
    {
     "name": "stderr",
     "output_type": "stream",
     "text": [
      "Epoch 36/50: 100%|██████████| 275/275 [00:01<00:00, 169.94it/s]\n"
     ]
    },
    {
     "name": "stdout",
     "output_type": "stream",
     "text": [
      "Epoch 36, Train Loss: 0.0019, Validation Loss: 0.0019\n"
     ]
    },
    {
     "name": "stderr",
     "output_type": "stream",
     "text": [
      "Epoch 37/50: 100%|██████████| 275/275 [00:01<00:00, 166.82it/s]\n"
     ]
    },
    {
     "name": "stdout",
     "output_type": "stream",
     "text": [
      "Epoch 37, Train Loss: 0.0019, Validation Loss: 0.0018\n"
     ]
    },
    {
     "name": "stderr",
     "output_type": "stream",
     "text": [
      "Epoch 38/50: 100%|██████████| 275/275 [00:01<00:00, 169.01it/s]\n"
     ]
    },
    {
     "name": "stdout",
     "output_type": "stream",
     "text": [
      "Epoch 38, Train Loss: 0.0019, Validation Loss: 0.0018\n"
     ]
    },
    {
     "name": "stderr",
     "output_type": "stream",
     "text": [
      "Epoch 39/50: 100%|██████████| 275/275 [00:01<00:00, 167.89it/s]\n"
     ]
    },
    {
     "name": "stdout",
     "output_type": "stream",
     "text": [
      "Epoch 39, Train Loss: 0.0018, Validation Loss: 0.0018\n"
     ]
    },
    {
     "name": "stderr",
     "output_type": "stream",
     "text": [
      "Epoch 40/50: 100%|██████████| 275/275 [00:01<00:00, 170.32it/s]\n"
     ]
    },
    {
     "name": "stdout",
     "output_type": "stream",
     "text": [
      "Epoch 40, Train Loss: 0.0018, Validation Loss: 0.0017\n"
     ]
    },
    {
     "name": "stderr",
     "output_type": "stream",
     "text": [
      "Epoch 41/50: 100%|██████████| 275/275 [00:01<00:00, 170.48it/s]\n"
     ]
    },
    {
     "name": "stdout",
     "output_type": "stream",
     "text": [
      "Epoch 41, Train Loss: 0.0018, Validation Loss: 0.0018\n"
     ]
    },
    {
     "name": "stderr",
     "output_type": "stream",
     "text": [
      "Epoch 42/50: 100%|██████████| 275/275 [00:01<00:00, 166.57it/s]\n"
     ]
    },
    {
     "name": "stdout",
     "output_type": "stream",
     "text": [
      "Epoch 42, Train Loss: 0.0017, Validation Loss: 0.0018\n"
     ]
    },
    {
     "name": "stderr",
     "output_type": "stream",
     "text": [
      "Epoch 43/50: 100%|██████████| 275/275 [00:01<00:00, 166.88it/s]\n"
     ]
    },
    {
     "name": "stdout",
     "output_type": "stream",
     "text": [
      "Epoch 43, Train Loss: 0.0018, Validation Loss: 0.0017\n"
     ]
    },
    {
     "name": "stderr",
     "output_type": "stream",
     "text": [
      "Epoch 44/50: 100%|██████████| 275/275 [00:01<00:00, 167.55it/s]\n"
     ]
    },
    {
     "name": "stdout",
     "output_type": "stream",
     "text": [
      "Epoch 44, Train Loss: 0.0017, Validation Loss: 0.0017\n"
     ]
    },
    {
     "name": "stderr",
     "output_type": "stream",
     "text": [
      "Epoch 45/50: 100%|██████████| 275/275 [00:01<00:00, 166.85it/s]\n"
     ]
    },
    {
     "name": "stdout",
     "output_type": "stream",
     "text": [
      "Epoch 45, Train Loss: 0.0017, Validation Loss: 0.0018\n"
     ]
    },
    {
     "name": "stderr",
     "output_type": "stream",
     "text": [
      "Epoch 46/50: 100%|██████████| 275/275 [00:01<00:00, 167.31it/s]\n"
     ]
    },
    {
     "name": "stdout",
     "output_type": "stream",
     "text": [
      "Epoch 46, Train Loss: 0.0017, Validation Loss: 0.0018\n"
     ]
    },
    {
     "name": "stderr",
     "output_type": "stream",
     "text": [
      "Epoch 47/50: 100%|██████████| 275/275 [00:01<00:00, 178.53it/s]\n"
     ]
    },
    {
     "name": "stdout",
     "output_type": "stream",
     "text": [
      "Epoch 47, Train Loss: 0.0017, Validation Loss: 0.0017\n"
     ]
    },
    {
     "name": "stderr",
     "output_type": "stream",
     "text": [
      "Epoch 48/50: 100%|██████████| 275/275 [00:01<00:00, 169.05it/s]\n"
     ]
    },
    {
     "name": "stdout",
     "output_type": "stream",
     "text": [
      "Epoch 48, Train Loss: 0.0016, Validation Loss: 0.0017\n"
     ]
    },
    {
     "name": "stderr",
     "output_type": "stream",
     "text": [
      "Epoch 49/50: 100%|██████████| 275/275 [00:01<00:00, 167.66it/s]\n"
     ]
    },
    {
     "name": "stdout",
     "output_type": "stream",
     "text": [
      "Epoch 49, Train Loss: 0.0017, Validation Loss: 0.0017\n"
     ]
    },
    {
     "name": "stderr",
     "output_type": "stream",
     "text": [
      "Epoch 50/50: 100%|██████████| 275/275 [00:01<00:00, 170.75it/s]\n"
     ]
    },
    {
     "name": "stdout",
     "output_type": "stream",
     "text": [
      "Epoch 50, Train Loss: 0.0016, Validation Loss: 0.0016\n"
     ]
    },
    {
     "data": {
      "image/png": "[encoded data removed]",
      "text/plain": [
       "<Figure size 640x480 with 1 Axes>"
      ]
     },
     "metadata": {},
     "output_type": "display_data"
    },
    {
     "name": "stderr",
     "output_type": "stream",
     "text": [
      "/tmp/ipykernel_381715/3449850615.py:102: FutureWarning: You are using `torch.load` with `weights_only=False` (the current default value), which uses the default pickle module implicitly. It is possible to construct malicious pickle data which will execute arbitrary code during unpickling (See https://github.com/pytorch/pytorch/blob/main/SECURITY.md#untrusted-models for more details). In a future release, the default value for `weights_only` will be flipped to `True`. This limits the functions that could be executed during unpickling. Arbitrary objects will no longer be allowed to be loaded via this mode unless they are explicitly allowlisted by the user via `torch.serialization.add_safe_globals`. We recommend you start setting `weights_only=True` for any use case where you don't have full control of the loaded file. Please open an issue on GitHub for any issues related to this experimental feature.\n",
      "  autoencoder.load_state_dict(torch.load('best_autoencoder.pth'))\n"
     ]
    },
    {
     "data": {
      "image/png": "[encoded data removed]",
      "text/plain": [
       "<Figure size 1200x600 with 1 Axes>"
      ]
     },
     "metadata": {},
     "output_type": "display_data"
    }
   ],
   "source": [
    "#EXECUTAR MODELO\n",
    "\n",
    "import numpy as np\n",
    "import matplotlib.pyplot as plt\n",
    "from sklearn.model_selection import train_test_split\n",
    "\n",
    "# Supondo que seu vetor X já esteja carregado como uma matriz numpy com shape (10500, 4096)\n",
    "# Se ainda não estiver carregado, use np.load() ou outra forma de carregar seus dados\n",
    "device = torch.device('cuda' if torch.cuda.is_available() else 'cpu')\n",
    "\n",
    "# Normalizar os dados entre 0 e 1 para um melhor desempenho do autoencoder\n",
    "print(\"Formato original de X:\", X.shape)\n",
    "epsilon = 1e-8\n",
    "X = X / (np.max(np.abs(X), axis=1, keepdims=True) + epsilon)\n",
    "\n",
    "print(\"Formato antes do reshape:\", X.shape)\n",
    "X = X.reshape((X.shape[0], 1, X.shape[1]))\n",
    "print(\"Formato após o reshape:\", X.shape)\n",
    "\n",
    "total_elements = np.prod(X.shape)\n",
    "print(\"Número total de elementos:\", total_elements)\n",
    "# Dividir os dados em conjuntos de treino e teste\n",
    "X_train, X_test = train_test_split(X, test_size=0.2, random_state=42)\n",
    "\n",
    "# Convertendo os dados para tensores do PyTorch\n",
    "X_train_tensor = torch.tensor(X_train, dtype=torch.float32).to(device)\n",
    "X_test_tensor = torch.tensor(X_test, dtype=torch.float32).to(device)\n",
    "\n",
    "# Criar DataLoaders para treino e teste\n",
    "train_dataset = TensorDataset(X_train_tensor)\n",
    "test_dataset = TensorDataset(X_test_tensor)\n",
    "train_loader = DataLoader(train_dataset, batch_size=32, shuffle=True)\n",
    "test_loader = DataLoader(test_dataset, batch_size=32, shuffle=False)\n",
    "\n",
    "# Instanciar o modelo e mover para a GPU se disponível\n",
    "autoencoder = Autoencoder().to(device)\n",
    "\n",
    "# Definir o otimizador e a função de perda\n",
    "optimizer = optim.Adam(autoencoder.parameters(), lr=0.001)\n",
    "criterion = nn.MSELoss()\n",
    "\n",
    "# Treinar o modelo\n",
    "num_epochs = 50\n",
    "early_stopping_patience = 10\n",
    "best_val_loss = float('inf')\n",
    "patience_counter = 0\n",
    "\n",
    "train_losses = []\n",
    "val_losses = []\n",
    "\n",
    "for epoch in range(num_epochs):\n",
    "    autoencoder.train()\n",
    "    train_loss = 0.0\n",
    "    for data in tqdm(train_loader, desc=f\"Epoch {epoch+1}/{num_epochs}\"):\n",
    "        inputs = data[0]\n",
    "        optimizer.zero_grad()\n",
    "        outputs = autoencoder(inputs)\n",
    "        loss = criterion(outputs, inputs)\n",
    "        loss.backward()\n",
    "        optimizer.step()\n",
    "        train_loss += loss.item() * inputs.size(0)\n",
    "    \n",
    "    train_loss /= len(train_loader.dataset)\n",
    "    train_losses.append(train_loss)\n",
    "    \n",
    "    autoencoder.eval()\n",
    "    val_loss = 0.0\n",
    "    with torch.no_grad():\n",
    "        for data in test_loader:\n",
    "            inputs = data[0]\n",
    "            outputs = autoencoder(inputs)\n",
    "            loss = criterion(outputs, inputs)\n",
    "            val_loss += loss.item() * inputs.size(0)\n",
    "    \n",
    "    val_loss /= len(test_loader.dataset)\n",
    "    val_losses.append(val_loss)\n",
    "    \n",
    "    print(f'Epoch {epoch+1}, Train Loss: {train_loss:.4f}, Validation Loss: {val_loss:.4f}')\n",
    "    \n",
    "    # Early stopping\n",
    "    if val_loss < best_val_loss:\n",
    "        best_val_loss = val_loss\n",
    "        patience_counter = 0\n",
    "        torch.save(autoencoder.state_dict(), 'best_autoencoder.pth')\n",
    "    else:\n",
    "        patience_counter += 1\n",
    "        if patience_counter >= early_stopping_patience:\n",
    "            print(\"Early stopping triggered.\")\n",
    "            break\n",
    "\n",
    "# Plotar a perda de treino e validação\n",
    "plt.figure()\n",
    "plt.plot(train_losses, label='Train Loss')\n",
    "plt.plot(val_losses, label='Validation Loss')\n",
    "plt.xlabel('Epoch')\n",
    "plt.ylabel('Loss')\n",
    "plt.legend()\n",
    "plt.title('Training and Validation Loss')\n",
    "plt.show()\n",
    "\n",
    "# Carregar o melhor modelo\n",
    "autoencoder.load_state_dict(torch.load('best_autoencoder.pth'))\n",
    "\n",
    "# Selecionar um exemplo de ECG para reconstruir\n",
    "idx = np.random.randint(0, X_test.shape[0])\n",
    "original_ecg = X_test_tensor[idx].unsqueeze(0)\n",
    "\n",
    "# Reconstruir o ECG usando o autoencoder\n",
    "autoencoder.eval()\n",
    "with torch.no_grad():\n",
    "    reconstructed_ecg = autoencoder(original_ecg)\n",
    "\n",
    "# Plotar o ECG original e o reconstruído\n",
    "plt.figure(figsize=(12, 6))\n",
    "plt.plot(original_ecg.cpu().numpy().flatten(), label='Original ECG')\n",
    "plt.plot(reconstructed_ecg.cpu().numpy().flatten(), label='Reconstructed ECG')\n",
    "plt.xlabel('Time')\n",
    "plt.ylabel('Amplitude')\n",
    "plt.legend()\n",
    "plt.title('Original vs Reconstructed ECG')\n",
    "plt.show()"
   ]
  }
 ],
 "metadata": {
  "kernelspec": {
   "display_name": "condaclustering",
   "language": "python",
   "name": "python3"
  },
  "language_info": {
   "codemirror_mode": {
    "name": "ipython",
    "version": 3
   },
   "file_extension": ".py",
   "mimetype": "text/x-python",
   "name": "python",
   "nbconvert_exporter": "python",
   "pygments_lexer": "ipython3",
   "version": "3.11.0"
  }
 },
 "nbformat": 4,
 "nbformat_minor": 2
}
